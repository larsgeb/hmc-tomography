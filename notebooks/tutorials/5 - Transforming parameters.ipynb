{
 "cells": [
  {
   "cell_type": "code",
   "execution_count": 1,
   "metadata": {},
   "outputs": [
    {
     "name": "stderr",
     "output_type": "stream",
     "text": [
      "/Users/larsgebraad/.conda/envs/hmclab-dev/lib/python3.8/site-packages/jax/_src/lib/__init__.py:33: UserWarning: JAX on Mac ARM machines is experimental and minimally tested. Please see https://github.com/google/jax/issues/5501 in the event of problems.\n",
      "  warnings.warn(\"JAX on Mac ARM machines is experimental and minimally tested. \"\n"
     ]
    }
   ],
   "source": [
    "import hmclab\n",
    "import matplotlib.pyplot as plt\n",
    "import numpy"
   ]
  },
  {
   "cell_type": "markdown",
   "metadata": {},
   "source": []
  },
  {
   "cell_type": "code",
   "execution_count": 2,
   "metadata": {},
   "outputs": [],
   "source": [
    "prior_1 = hmclab.Distributions.Normal(\n",
    "    means=[3, 3],\n",
    "    covariance=[0.4,0.1],\n",
    ")\n",
    "prior_1_l = hmclab.Distributions.TransformToLogSpace(prior_1)\n"
   ]
  },
  {
   "cell_type": "code",
   "execution_count": 3,
   "metadata": {},
   "outputs": [
    {
     "data": {
      "text/plain": [
       "array([[2.],\n",
       "       [2.]])"
      ]
     },
     "execution_count": 3,
     "metadata": {},
     "output_type": "execute_result"
    }
   ],
   "source": [
    "m1 = numpy.array([[100.0],[100.0]])\n",
    "m2 = numpy.array([[101.0],[1001.0]])\n",
    "m1t = prior_1_l.transform_forward(m1)\n",
    "\n",
    "assert numpy.allclose(m1, prior_1_l.transform_backward(m1t))\n",
    "\n",
    "m1t"
   ]
  },
  {
   "cell_type": "code",
   "execution_count": 4,
   "metadata": {},
   "outputs": [
    {
     "name": "stderr",
     "output_type": "stream",
     "text": [
      "WARNING:absl:No GPU/TPU found, falling back to CPU. (Set TF_CPP_MIN_LOG_LEVEL=0 and rerun for more info.)\n"
     ]
    },
    {
     "data": {
      "text/plain": [
       "array([[-0.00080242],\n",
       "       [ 0.00100088]])"
      ]
     },
     "execution_count": 4,
     "metadata": {},
     "output_type": "execute_result"
    }
   ],
   "source": [
    "prior_1_l.gradient(m2)"
   ]
  },
  {
   "cell_type": "code",
   "execution_count": 5,
   "metadata": {},
   "outputs": [
    {
     "data": {
      "text/plain": [
       "(-0.000802148319323237, 0.0010008887025847457)"
      ]
     },
     "execution_count": 5,
     "metadata": {},
     "output_type": "execute_result"
    }
   ],
   "source": [
    "eta = 1e-2\n",
    "m2e = m2.copy()\n",
    "m2e[0] += eta\n",
    "\n",
    "grad1 = (prior_1_l.misfit(m2e) - prior_1_l.misfit(m2)) / eta\n",
    "\n",
    "m2e = m2.copy()\n",
    "m2e[1] += eta\n",
    "\n",
    "grad2 = (prior_1_l.misfit(m2e) - prior_1_l.misfit(m2)) / eta\n",
    "\n",
    "grad1, grad2"
   ]
  },
  {
   "cell_type": "code",
   "execution_count": 58,
   "metadata": {},
   "outputs": [
    {
     "name": "stdout",
     "output_type": "stream",
     "text": [
      " "
     ]
    },
    {
     "name": "stderr",
     "output_type": "stream",
     "text": [
      "Tot. acc rate: 0.90. Progress:   3%|▎         | 30957/1000000 [00:01<00:31, 30944.84it/s]"
     ]
    },
    {
     "name": "stdout",
     "output_type": "stream",
     "text": [
      " "
     ]
    },
    {
     "name": "stderr",
     "output_type": "stream",
     "text": [
      "\n",
      "Tot. acc rate: 0.94. Progress:  94%|█████████▍| 9442/10000 [00:01<00:00, 9439.18it/s]\n"
     ]
    },
    {
     "data": {
      "application/vnd.jupyter.widget-view+json": {
       "model_id": "81e1875d60a44de1a230562ba88cf2f4",
       "version_major": 2,
       "version_minor": 0
      },
      "text/plain": [
       "Tab(children=(HBox(children=(VBox(children=(Label(value='local start time (not timezone aware)'), Label(value=…"
      ]
     },
     "metadata": {},
     "output_type": "display_data"
    },
    {
     "data": {
      "text/html": [],
      "text/plain": [
       "<hmclab.Samplers.HMC at 0x147cc5700>"
      ]
     },
     "execution_count": 58,
     "metadata": {},
     "output_type": "execute_result"
    }
   ],
   "source": [
    "sampler_rwmh = hmclab.Samplers.RWMH()\n",
    "\n",
    "sampler_rwmh.sample(\n",
    "    \"bin_samples/tutorial_5_rwmh.h5\",\n",
    "    prior_1_l,\n",
    "    stepsize=100.0,\n",
    "    initial_model=m1,\n",
    "    overwrite_existing_file=True,\n",
    "    online_thinning=1,\n",
    "    autotuning=True,\n",
    "    proposals=1000000,\n",
    "    max_time=1.0,\n",
    ")\n",
    "\n",
    "sampler_hmc = hmclab.Samplers.HMC()\n",
    "\n",
    "sampler_hmc.sample(\n",
    "    \"bin_samples/tutorial_5_hmc.h5\",\n",
    "    prior_1_l,\n",
    "    stepsize=100.0,\n",
    "    initial_model=m1,\n",
    "    overwrite_existing_file=True,\n",
    "    online_thinning=1,\n",
    "    amount_of_steps=3,\n",
    "    autotuning=True,\n",
    "    proposals=10000,\n",
    "    max_time=1.0,\n",
    ")\n"
   ]
  },
  {
   "cell_type": "code",
   "execution_count": 59,
   "metadata": {},
   "outputs": [],
   "source": [
    "samples_rwmh = sampler_rwmh.load_results()\n",
    "samples_hmc = sampler_hmc.load_results()\n"
   ]
  },
  {
   "cell_type": "code",
   "execution_count": 60,
   "metadata": {},
   "outputs": [
    {
     "data": {
      "image/png": "[encoded data removed]",
      "text/plain": [
       "<Figure size 432x288 with 1 Axes>"
      ]
     },
     "metadata": {
      "needs_background": "light"
     },
     "output_type": "display_data"
    }
   ],
   "source": [
    "_ = plt.hist(samples_rwmh[1,:], bins=50,alpha=0.5,density=True)\n",
    "_ = plt.hist(samples_hmc[1,:], bins=50,alpha=0.5,density=True)"
   ]
  },
  {
   "cell_type": "code",
   "execution_count": 36,
   "metadata": {},
   "outputs": [
    {
     "data": {
      "text/plain": [
       "<matplotlib.colorbar.Colorbar at 0x147c89550>"
      ]
     },
     "execution_count": 36,
     "metadata": {},
     "output_type": "execute_result"
    },
    {
     "data": {
      "image/png": "[encoded data removed]",
      "text/plain": [
       "<Figure size 432x288 with 2 Axes>"
      ]
     },
     "metadata": {
      "needs_background": "light"
     },
     "output_type": "display_data"
    }
   ],
   "source": [
    "transform_samples = prior_1_l.transform_forward(samples[:-1,:])\n",
    "\n",
    "_ = plt.hist2d(transform_samples[0,:], transform_samples[1,:],bins=20)\n",
    "plt.colorbar()"
   ]
  },
  {
   "cell_type": "code",
   "execution_count": 20,
   "metadata": {},
   "outputs": [
    {
     "data": {
      "image/png": "[encoded data removed]",
      "text/plain": [
       "<Figure size 432x288 with 1 Axes>"
      ]
     },
     "metadata": {
      "needs_background": "light"
     },
     "output_type": "display_data"
    }
   ],
   "source": [
    "_ = plt.hist(transform_samples[1,:].flatten(), bins=20)"
   ]
  },
  {
   "cell_type": "code",
   "execution_count": null,
   "metadata": {},
   "outputs": [],
   "source": []
  }
 ],
 "metadata": {
  "interpreter": {
   "hash": "8df3f51104ceea9de2d5acc2b06a495ce381bdf6518255798a5a442a2c2ec7bb"
  },
  "kernelspec": {
   "display_name": "Python 3.8.12 ('hmclab-dev')",
   "language": "python",
   "name": "python3"
  },
  "language_info": {
   "codemirror_mode": {
    "name": "ipython",
    "version": 3
   },
   "file_extension": ".py",
   "mimetype": "text/x-python",
   "name": "python",
   "nbconvert_exporter": "python",
   "pygments_lexer": "ipython3",
   "version": "3.8.12"
  },
  "orig_nbformat": 4
 },
 "nbformat": 4,
 "nbformat_minor": 2
}
