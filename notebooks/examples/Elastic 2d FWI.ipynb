{
 "cells": [
  {
   "cell_type": "markdown",
   "metadata": {},
   "source": [
    "# Probabilistic Elastic FWI"
   ]
  },
  {
   "cell_type": "markdown",
   "metadata": {},
   "source": [
    "In this notebook we look at probabilistic elastic Full-Waveform Inversion. The example here is purposefully kept very small with only little data, to facilitate experimentation.\n",
    "\n",
    "We will use the external package `psvWave`, which implements Virieux 1986's staggered FD scheme for P-SV wave propagation. Gradients are calculated using the adjoint method.\n",
    "\n",
    "Note that the 'wheels' for psvWave are only guaranteed to work for Linux, on Python 3.7."
   ]
  },
  {
   "cell_type": "code",
   "execution_count": 1,
   "metadata": {},
   "outputs": [],
   "source": [
    "import hmclab\n",
    "import matplotlib.pyplot as plt\n",
    "import numpy\n",
    "import psvWave\n",
    "\n",
    "from mpl_toolkits.axes_grid1 import AxesGrid"
   ]
  },
  {
   "cell_type": "markdown",
   "metadata": {},
   "source": [
    "First we start by creating some synthetic data. psvWave provides a basic setting in which one can run experiments. Let's load those settings and have a look at them:"
   ]
  },
  {
   "cell_type": "code",
   "execution_count": 2,
   "metadata": {},
   "outputs": [
    {
     "data": {
      "text/plain": [
       "{'domain': {'nt': 1000,\n",
       "  'nx_inner': 20,\n",
       "  'nz_inner': 20,\n",
       "  'nx_inner_boundary': 0,\n",
       "  'nz_inner_boundary': 0,\n",
       "  'dx': 1.249,\n",
       "  'dz': 1.249,\n",
       "  'dt': 0.0002},\n",
       " 'boundary': {'np_boundary': 10, 'np_factor': 0.015},\n",
       " 'medium': {'scalar_rho': 1500.0, 'scalar_vp': 2000.0, 'scalar_vs': 800.0},\n",
       " 'sources': {'peak_frequency': 50.0,\n",
       "  'n_sources': 2,\n",
       "  'n_shots': 1,\n",
       "  'source_timeshift': 0.005,\n",
       "  'delay_cycles_per_shot': 24,\n",
       "  'moment_angles': [90, 180],\n",
       "  'ix_sources': [2, 18],\n",
       "  'iz_sources': [2, 2],\n",
       "  'which_source_to_fire_in_which_shot': [[0, 1]]},\n",
       " 'receivers': {'nr': 4,\n",
       "  'ix_receivers': [4, 8, 12, 16],\n",
       "  'iz_receivers': [18, 18, 18, 18]},\n",
       " 'inversion': {'snapshot_interval': 10},\n",
       " 'basis': {'npx': 1, 'npz': 1},\n",
       " 'output': {'observed_data_folder': '.', 'stf_folder': '.'}}"
      ]
     },
     "execution_count": 2,
     "metadata": {},
     "output_type": "execute_result"
    }
   ],
   "source": [
    "fwi_settings = psvWave.fdModel.get_dictionary()\n",
    "\n",
    "fwi_settings[\"domain\"][\"nx_inner\"] = 20\n",
    "fwi_settings[\"domain\"][\"nz_inner\"] = 20\n",
    "\n",
    "fwi_settings[\"domain\"][\"nx_inner_boundary\"] = 0\n",
    "fwi_settings[\"domain\"][\"nz_inner_boundary\"] = 0\n",
    "\n",
    "fwi_settings[\"boundary\"][\"np_boundary\"] = 10\n",
    "\n",
    "fwi_settings[\"sources\"][\"ix_sources\"] = [2, 18]\n",
    "fwi_settings[\"sources\"][\"iz_sources\"] = [2, 2]\n",
    "fwi_settings[\"receivers\"][\"ix_receivers\"] = [4, 8, 12, 16]\n",
    "fwi_settings[\"receivers\"][\"iz_receivers\"] = [18, 18, 18, 18]\n",
    "\n",
    "fwi_settings"
   ]
  },
  {
   "cell_type": "markdown",
   "metadata": {},
   "source": [
    "We see that this simulation has two sources (moment tensors with Ricker wave STF's) that are on the 'bottom' of the medium. These are recorded by sources at the top. The medium is surrounded by an absorbing boundary. Let's compress the simulation a bit and shorten it by firing the sources close together:"
   ]
  },
  {
   "cell_type": "code",
   "execution_count": 3,
   "metadata": {},
   "outputs": [],
   "source": [
    "fwi_settings[\"domain\"][\"nt\"] = 1400\n",
    "fwi_settings[\"sources\"][\"delay_cycles_per_shot\"] = 6"
   ]
  },
  {
   "cell_type": "markdown",
   "metadata": {},
   "source": [
    "Now we can create this simulation object with the requested settings:"
   ]
  },
  {
   "cell_type": "code",
   "execution_count": 4,
   "metadata": {},
   "outputs": [
    {
     "name": "stdout",
     "output_type": "stream",
     "text": [
      "Loading configuration file: 'settings.ini'.\n",
      "Parsing passed configuration.\n"
     ]
    }
   ],
   "source": [
    "psvWave.fdModel.write_dictionary(\"settings.ini\", fwi_settings)\n",
    "\n",
    "fdModel = psvWave.fdModel(\"settings.ini\")"
   ]
  },
  {
   "cell_type": "markdown",
   "metadata": {},
   "source": [
    "We can plot the geometry of all shots by doing the following."
   ]
  },
  {
   "cell_type": "code",
   "execution_count": 5,
   "metadata": {},
   "outputs": [
    {
     "data": {
      "image/png": "[encoded data removed]",
      "text/plain": [
       "<Figure size 288x216 with 1 Axes>"
      ]
     },
     "metadata": {
      "needs_background": "light"
     },
     "output_type": "display_data"
    }
   ],
   "source": [
    "for i_shot in range(fdModel.n_shots):\n",
    "    fdModel.plot_domain(shot_to_plot=i_shot)\n",
    "    plt.title(f\"Shot {i_shot+1}\")\n",
    "    plt.show()"
   ]
  },
  {
   "cell_type": "markdown",
   "metadata": {},
   "source": [
    "To look how HMC works in this settings, we need an interesting model to test on. We create a target model below, which contains a spherical anomaly in P-wave velocity, S-wave velocity and density:"
   ]
  },
  {
   "cell_type": "code",
   "execution_count": 6,
   "metadata": {},
   "outputs": [],
   "source": [
    "# Create target model\n",
    "# Get the coordinates of every grid point\n",
    "IX, IZ = fdModel.get_coordinates(True)\n",
    "# Get the associated parameter fields\n",
    "vp, vs, rho = fdModel.get_parameter_fields()\n",
    "\n",
    "x_middle = (IX.max() + IX.min()) / 2\n",
    "z_middle = (IZ.max() + IZ.min()) / 2\n",
    "\n",
    "# Add a circular negative anomaly to the 'true' model\n",
    "circle = ((IX - x_middle) ** 2 + (IZ - z_middle) ** 2) ** 0.5 < 5\n",
    "vs = vs * (1 - 0.1 * circle)\n",
    "vp = vp * (1 - 0.1 * circle)\n",
    "rho = rho * (1 + 0.1 * circle)\n",
    "\n",
    "vp_target = vp\n",
    "vs_target = vs\n",
    "rho_target = rho"
   ]
  },
  {
   "cell_type": "markdown",
   "metadata": {},
   "source": [
    "Let's visualize this anomaly in all parameters:"
   ]
  },
  {
   "cell_type": "code",
   "execution_count": 7,
   "metadata": {},
   "outputs": [
    {
     "data": {
      "image/png": "[encoded data removed]",
      "text/plain": [
       "<Figure size 288x648 with 6 Axes>"
      ]
     },
     "metadata": {
      "needs_background": "light"
     },
     "output_type": "display_data"
    }
   ],
   "source": [
    "background_means = numpy.array([2000, 800, 1500])\n",
    "percentage_deviation = 0.2\n",
    "mins = background_means * (1 - percentage_deviation)\n",
    "maxs = background_means * (1 + percentage_deviation)\n",
    "\n",
    "fdModel.set_parameter_fields(vp_target, vs_target, rho_target)\n",
    "fdModel.plot_fields(vmin=mins, vmax=maxs)\n",
    "true_model = fdModel.get_model_vector()"
   ]
  },
  {
   "cell_type": "code",
   "execution_count": 8,
   "metadata": {},
   "outputs": [
    {
     "name": "stdout",
     "output_type": "stream",
     "text": [
      "CPU times: user 157 ms, sys: 13.9 ms, total: 171 ms\n",
      "Wall time: 28.7 ms\n"
     ]
    }
   ],
   "source": [
    "%time fdModel.forward_simulate(0, omp_threads_override=6)"
   ]
  },
  {
   "cell_type": "markdown",
   "metadata": {},
   "source": [
    "Let's create the 'observed' data with some noise:"
   ]
  },
  {
   "cell_type": "code",
   "execution_count": 9,
   "metadata": {},
   "outputs": [
    {
     "data": {
      "text/plain": [
       "(<Figure size 576x216 with 2 Axes>,\n",
       " array([[<AxesSubplot:title={'center':'horizontal displacement shot 0'}, xlabel='time [s]', ylabel='channel id'>,\n",
       "         <AxesSubplot:title={'center':'vertical displacement shot 0'}, xlabel='time [s]', ylabel='channel id'>]],\n",
       "       dtype=object))"
      ]
     },
     "execution_count": 9,
     "metadata": {},
     "output_type": "execute_result"
    },
    {
     "data": {
      "image/png": "[encoded data removed]",
      "text/plain": [
       "<Figure size 576x216 with 2 Axes>"
      ]
     },
     "metadata": {
      "needs_background": "light"
     },
     "output_type": "display_data"
    }
   ],
   "source": [
    "# Create 'true' data\n",
    "# print(\"Faking observed data\")\n",
    "for i_shot in range(fdModel.n_shots):\n",
    "    fdModel.forward_simulate(i_shot, omp_threads_override=6)\n",
    "\n",
    "# Cheating of course, as this is synthetically generated data.\n",
    "ux_obs, uz_obs = fdModel.get_synthetic_data()\n",
    "\n",
    "numpy.random.seed(32312)\n",
    "ux_obs += 25 * numpy.random.randn(*ux_obs.shape)\n",
    "uz_obs += 25 * numpy.random.randn(*ux_obs.shape)\n",
    "\n",
    "fdModel.plot_data(data=(ux_obs, uz_obs), exagerration=1)"
   ]
  },
  {
   "cell_type": "code",
   "execution_count": 10,
   "metadata": {},
   "outputs": [
    {
     "data": {
      "text/plain": [
       "[<matplotlib.lines.Line2D at 0x7f1b88a3bd90>]"
      ]
     },
     "execution_count": 10,
     "metadata": {},
     "output_type": "execute_result"
    },
    {
     "data": {
      "image/png": "[encoded data removed]",
      "text/plain": [
       "<Figure size 432x288 with 1 Axes>"
      ]
     },
     "metadata": {
      "needs_background": "light"
     },
     "output_type": "display_data"
    }
   ],
   "source": [
    "plt.plot(ux_obs[0, 0, :])"
   ]
  },
  {
   "cell_type": "markdown",
   "metadata": {},
   "source": [
    "To get some intuition on what we are actually doing, we can plot the wavefield in the one shot at two different points in time. This is the wavefield of the 'true' data."
   ]
  },
  {
   "cell_type": "code",
   "execution_count": 11,
   "metadata": {},
   "outputs": [
    {
     "data": {
      "image/png": "[encoded data removed]",
      "text/plain": [
       "<Figure size 432x288 with 2 Axes>"
      ]
     },
     "metadata": {
      "needs_background": "light"
     },
     "output_type": "display_data"
    },
    {
     "data": {
      "image/png": "[encoded data removed]",
      "text/plain": [
       "<Figure size 432x288 with 2 Axes>"
      ]
     },
     "metadata": {
      "needs_background": "light"
     },
     "output_type": "display_data"
    }
   ],
   "source": [
    "time_step = 10\n",
    "plt.figure()\n",
    "for i_shot in range(fdModel.n_shots):\n",
    "    field = fdModel.get_snapshots()[0][i_shot, time_step, :, :]\n",
    "    field_extr = numpy.max(numpy.abs(field))\n",
    "    plt.imshow(\n",
    "        numpy.flipud(field.T),\n",
    "        vmin=-field_extr,\n",
    "        vmax=field_extr,\n",
    "        extent=fdModel.get_extent(True),\n",
    "        cmap=plt.get_cmap(\"seismic\"),\n",
    "    )\n",
    "    plt.colorbar()\n",
    "    plt.title(f\"Shot {i_shot+1}, step 80\")\n",
    "    plt.show()\n",
    "\n",
    "time_step = 30\n",
    "plt.figure()\n",
    "for i_shot in range(fdModel.n_shots):\n",
    "    field = fdModel.get_snapshots()[0][i_shot, time_step, :, :]\n",
    "    field_extr = numpy.max(numpy.abs(field))\n",
    "    plt.imshow(\n",
    "        numpy.flipud(field.T),\n",
    "        vmin=-field_extr,\n",
    "        vmax=field_extr,\n",
    "        extent=fdModel.get_extent(True),\n",
    "        cmap=plt.get_cmap(\"seismic\"),\n",
    "    )\n",
    "    plt.colorbar()\n",
    "    plt.title(f\"Shot {i_shot+1}, step 95\")\n",
    "    plt.show()"
   ]
  },
  {
   "cell_type": "code",
   "execution_count": 12,
   "metadata": {
    "scrolled": true
   },
   "outputs": [],
   "source": [
    "# sampler = hmclab.Samplers.HMC()\n",
    "\n",
    "# posterior = hmclab.Distributions.ElasticFullWaveform2D(\n",
    "#     \"settings.ini\",\n",
    "#     ux_obs=ux_obs,\n",
    "#     uz_obs=uz_obs,\n",
    "#     omp_threads_override=6,\n",
    "#     temperature=5**2,\n",
    "# )\n",
    "\n",
    "# posterior.update_bounds(\n",
    "#     posterior.get_model_vector() - 200,\n",
    "#     posterior.get_model_vector() + 200,\n",
    "# )\n",
    "\n",
    "# %rm samples.h5\n",
    "\n",
    "# sampler.sample(\n",
    "#     \"samples.h5\",\n",
    "#     posterior,\n",
    "#     autotuning=True,\n",
    "#     initial_model=true_model[:,None],\n",
    "#     amount_of_steps=10,\n",
    "#     proposals=10000,\n",
    "#     overwrite_existing_file=False,\n",
    "# )"
   ]
  },
  {
   "cell_type": "code",
   "execution_count": 13,
   "metadata": {},
   "outputs": [
    {
     "name": "stdout",
     "output_type": "stream",
     "text": [
      "Loading configuration file: 'settings.ini'.\n",
      "Parsing passed configuration.\n",
      "Loading configuration file: 'settings.ini'.\n",
      "Parsing passed configuration.\n",
      "Starting 2 markov chains...\n"
     ]
    },
    {
     "name": "stderr",
     "output_type": "stream",
     "text": [
      "sys:1: Warning: \n",
      "Silently overwriting samples file (samples_fwi_parallel_0.h5) if it exists.\n",
      "sys:1: Warning: \n",
      "Silently overwriting samples file (samples_fwi_parallel_1.h5) if it exists.\n"
     ]
    },
    {
     "name": "stdout",
     "output_type": "stream",
     "text": [
      "enter\n",
      "enter\n"
     ]
    },
    {
     "data": {
      "application/vnd.jupyter.widget-view+json": {
       "model_id": "b6db81a06524464c880c70b290cf7035",
       "version_major": 2,
       "version_minor": 0
      },
      "text/plain": [
       "Tab()"
      ]
     },
     "metadata": {},
     "output_type": "display_data"
    },
    {
     "data": {
      "text/html": [],
      "text/plain": [
       "<hmclab.Samplers.ParallelSampleSMP at 0x7f1b88a0b710>"
      ]
     },
     "execution_count": 13,
     "metadata": {},
     "output_type": "execute_result"
    }
   ],
   "source": [
    "# Execute parallel sampling\n",
    "parallel_sampler = hmclab.Samplers.ParallelSampleSMP()\n",
    "\n",
    "samplers = [hmclab.Samplers.HMC() for i in range(2)]\n",
    "\n",
    "filenames = [f\"samples_fwi_parallel_{i}.h5\" for i in range(2)]\n",
    "\n",
    "temperatures = [1, 3]\n",
    "\n",
    "posteriors = [\n",
    "    hmclab.Distributions.ElasticFullWaveform2D(\n",
    "        \"settings.ini\",\n",
    "        ux_obs=ux_obs,\n",
    "        uz_obs=uz_obs,\n",
    "        omp_threads_override=1,\n",
    "        temperature=(5.0 ** 2) * 1,\n",
    "    )\n",
    "    for temp in temperatures\n",
    "]\n",
    "\n",
    "for posterior in posteriors:\n",
    "    posterior.update_bounds(\n",
    "        posterior.get_model_vector() - 200,\n",
    "        posterior.get_model_vector() + 200,\n",
    "    )\n",
    "\n",
    "initial_model = [\n",
    "    true_model[:, None],\n",
    "    true_model[:, None],\n",
    "]\n",
    "\n",
    "parallel_sampler.sample(\n",
    "    samplers,\n",
    "    filenames,\n",
    "    posteriors,\n",
    "    proposals=1000,\n",
    "    overwrite_existing_files=True,\n",
    "    initial_model=true_model[:, None],\n",
    ")"
   ]
  },
  {
   "cell_type": "code",
   "execution_count": 14,
   "metadata": {},
   "outputs": [],
   "source": [
    "posteriors[0].set_model_vector(posteriors[0].get_model_vector())"
   ]
  },
  {
   "cell_type": "code",
   "execution_count": 15,
   "metadata": {},
   "outputs": [],
   "source": [
    "for i, s in enumerate(parallel_sampler.samplers):\n",
    "    pass"
   ]
  },
  {
   "cell_type": "code",
   "execution_count": 16,
   "metadata": {},
   "outputs": [
    {
     "ename": "NameError",
     "evalue": "name 'sampler' is not defined",
     "output_type": "error",
     "traceback": [
      "\u001b[0;31m---------------------------------------------------------------------------\u001b[0m",
      "\u001b[0;31mNameError\u001b[0m                                 Traceback (most recent call last)",
      "\u001b[0;32m/tmp/ipykernel_23267/3789021934.py\u001b[0m in \u001b[0;36m<module>\u001b[0;34m\u001b[0m\n\u001b[0;32m----> 1\u001b[0;31m \u001b[0mplt\u001b[0m\u001b[0;34m.\u001b[0m\u001b[0mplot\u001b[0m\u001b[0;34m(\u001b[0m\u001b[0msampler\u001b[0m\u001b[0;34m.\u001b[0m\u001b[0mstepsizes\u001b[0m\u001b[0;34m)\u001b[0m\u001b[0;34m\u001b[0m\u001b[0;34m\u001b[0m\u001b[0m\n\u001b[0m",
      "\u001b[0;31mNameError\u001b[0m: name 'sampler' is not defined"
     ]
    }
   ],
   "source": [
    "plt.plot(sampler.stepsizes)"
   ]
  },
  {
   "cell_type": "code",
   "execution_count": null,
   "metadata": {},
   "outputs": [],
   "source": [
    "with hmclab.Samples(\"samples.h5\") as samples:\n",
    "    samples_n = samples.numpy"
   ]
  },
  {
   "cell_type": "code",
   "execution_count": null,
   "metadata": {
    "scrolled": true
   },
   "outputs": [],
   "source": [
    "for i in range(10):\n",
    "    fdModel.plot_model_vector(samples_n[:-1, i * 100][:, None], vmin=mins, vmax=maxs)"
   ]
  },
  {
   "cell_type": "code",
   "execution_count": null,
   "metadata": {
    "scrolled": true
   },
   "outputs": [],
   "source": [
    "fdModel.plot_model_vector(\n",
    "    #     posterior.blob.forward_transform_background(\n",
    "    samples_n[:-1, :].mean(axis=1)[:, None],\n",
    "    vmin=mins,\n",
    "    vmax=maxs\n",
    "    #     )\n",
    ")\n",
    "\n",
    "fdModel.plot_model_vector(\n",
    "    #     posterior.blob.forward_transform_background(\n",
    "    samples_n[:-1, :].std(axis=1)[:, None]\n",
    "    #     )\n",
    ")"
   ]
  },
  {
   "cell_type": "code",
   "execution_count": null,
   "metadata": {},
   "outputs": [],
   "source": [
    "_ = plt.plot(samples_n[:-1, :].T)"
   ]
  },
  {
   "cell_type": "code",
   "execution_count": null,
   "metadata": {},
   "outputs": [],
   "source": [
    "_ = plt.plot(samples_n[-1, :].T)"
   ]
  },
  {
   "cell_type": "code",
   "execution_count": null,
   "metadata": {},
   "outputs": [],
   "source": [
    "m = samples_n[:-1, :].mean(axis=1)"
   ]
  },
  {
   "cell_type": "code",
   "execution_count": null,
   "metadata": {},
   "outputs": [],
   "source": [
    "mf = m  # posterior.blob.forward_transform_background(m[:,None])"
   ]
  },
  {
   "cell_type": "code",
   "execution_count": null,
   "metadata": {},
   "outputs": [],
   "source": [
    "vector_splits = numpy.split(mf, 3)\n",
    "\n",
    "fields = fdModel.get_parameter_fields()\n",
    "for i, field in enumerate(fields):\n",
    "    field[:] = numpy.nan\n",
    "    field[\n",
    "        (fdModel.nx_inner_boundary + fdModel.np_boundary) : -(\n",
    "            fdModel.nx_inner_boundary + fdModel.np_boundary\n",
    "        ),\n",
    "        (fdModel.nz_inner_boundary + fdModel.np_boundary) : -(\n",
    "            fdModel.nz_inner_boundary + fdModel.np_boundary\n",
    "        ),\n",
    "    ] = (\n",
    "        vector_splits[i]\n",
    "        .reshape(\n",
    "            (\n",
    "                fdModel.nz_free_parameters,\n",
    "                fdModel.nx_free_parameters,\n",
    "            )\n",
    "        )\n",
    "        .T\n",
    "    )"
   ]
  },
  {
   "cell_type": "code",
   "execution_count": null,
   "metadata": {},
   "outputs": [],
   "source": [
    "from scipy.ndimage import gaussian_filter\n",
    "\n",
    "sigma = 1.0\n",
    "\n",
    "plt.figure()\n",
    "plt.imshow(\n",
    "    gaussian_filter(fields[0][10:-10, 10:-10], sigma),\n",
    "    cmap=plt.get_cmap(\"seismic\"),\n",
    "    vmin=1800,\n",
    "    vmax=2200,\n",
    ")\n",
    "plt.colorbar()\n",
    "plt.figure()\n",
    "plt.imshow(\n",
    "    gaussian_filter(fields[1][10:-10, 10:-10], sigma),\n",
    "    cmap=plt.get_cmap(\"seismic\"),\n",
    "    vmin=700,\n",
    "    vmax=900,\n",
    ")\n",
    "plt.colorbar()\n",
    "plt.figure()\n",
    "plt.imshow(\n",
    "    gaussian_filter(fields[2][10:-10, 10:-10], sigma),\n",
    "    cmap=plt.get_cmap(\"seismic\"),\n",
    "    vmin=1350,\n",
    "    vmax=1650,\n",
    ")\n",
    "plt.colorbar()"
   ]
  },
  {
   "cell_type": "code",
   "execution_count": null,
   "metadata": {},
   "outputs": [],
   "source": [
    "import numpy as np\n",
    "\n",
    "C = np.corrcoef(samples_n[:-1, :])\n",
    "\n",
    "# C= np.cov(samples_n[:-1, :])"
   ]
  },
  {
   "cell_type": "code",
   "execution_count": null,
   "metadata": {
    "scrolled": false
   },
   "outputs": [],
   "source": [
    "plt.figure(figsize=(8, 8))\n",
    "plt.imshow(C[0:40, 0:40], vmin=-1, vmax=1, cmap=plt.get_cmap(\"seismic\"))"
   ]
  },
  {
   "cell_type": "code",
   "execution_count": null,
   "metadata": {},
   "outputs": [],
   "source": [
    "plt.imshow(C[250, :400].reshape(20, 20), vmin=-1, vmax=1, cmap=plt.get_cmap(\"seismic\"))"
   ]
  },
  {
   "cell_type": "code",
   "execution_count": null,
   "metadata": {},
   "outputs": [],
   "source": [
    "plt.semilogy(np.std(samples_n[:-1, :], axis=1))"
   ]
  },
  {
   "cell_type": "code",
   "execution_count": null,
   "metadata": {},
   "outputs": [],
   "source": [
    "_ = plt.hist(samples_n[500, :], bins=100)"
   ]
  },
  {
   "cell_type": "code",
   "execution_count": null,
   "metadata": {},
   "outputs": [],
   "source": []
  }
 ],
 "metadata": {
  "interpreter": {
   "hash": "367bd0eb6cbe27dac04d1b6395c5a79a37fb1499d1256fd1dd63882fe44b0daf"
  },
  "kernelspec": {
   "display_name": "Python 3 (ipykernel)",
   "language": "python",
   "name": "python3"
  },
  "language_info": {
   "codemirror_mode": {
    "name": "ipython",
    "version": 3
   },
   "file_extension": ".py",
   "mimetype": "text/x-python",
   "name": "python",
   "nbconvert_exporter": "python",
   "pygments_lexer": "ipython3",
   "version": "3.7.11"
  }
 },
 "nbformat": 4,
 "nbformat_minor": 4
}
