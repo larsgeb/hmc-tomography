{
 "cells": [
  {
   "cell_type": "code",
   "execution_count": 1,
   "id": "ba5e104e",
   "metadata": {},
   "outputs": [
    {
     "name": "stderr",
     "output_type": "stream",
     "text": [
      "/opt/miniforge3/envs/hmclab-dev/lib/python3.8/site-packages/pkg_resources/__init__.py:123: PkgResourcesDeprecationWarning: 1.0-beta-1-7-g3f59f5a is an invalid version and will not be supported in a future release\n",
      "  warnings.warn(\n"
     ]
    }
   ],
   "source": [
    "import numpy\n",
    "import pandas\n",
    "import glob\n",
    "import sys\n",
    "import os\n",
    "\n",
    "sys.path.append(os.path.dirname(os.path.realpath(\".\")))\n",
    "\n",
    "from helpers import *"
   ]
  },
  {
   "cell_type": "code",
   "execution_count": 2,
   "id": "b5285225",
   "metadata": {},
   "outputs": [],
   "source": [
    "df = pandas.read_csv(\"xyz_polar.csv\", delimiter=\",\")\n",
    "channel = df[\"channels\"].values"
   ]
  },
  {
   "cell_type": "code",
   "execution_count": 3,
   "id": "55026d94",
   "metadata": {},
   "outputs": [],
   "source": [
    "csv_files = glob.glob(\"*.picks.csv\")\n",
    "picks_collection = [\n",
    "    pandas.read_csv(\n",
    "        csv_file,\n",
    "        index_col=0,\n",
    "        names=[\"channel\", \"pick\", \"uncertainty\", \"snr\"],\n",
    "        skiprows=1,\n",
    "    )\n",
    "    for csv_file in csv_files\n",
    "]\n",
    "\n",
    "numpy.save(\"csv_files.npy\", csv_files)"
   ]
  },
  {
   "cell_type": "markdown",
   "id": "7e07cf2b",
   "metadata": {},
   "source": [
    "Only keep data points that contain values for all columns. i.e. no missing uncertainty or SNR"
   ]
  },
  {
   "cell_type": "code",
   "execution_count": 4,
   "id": "3bc7d876",
   "metadata": {},
   "outputs": [],
   "source": [
    "picks_without_nans_collection = [\n",
    "    pick[~rows_contain_nans(pick)] for pick in picks_collection\n",
    "]"
   ]
  },
  {
   "cell_type": "code",
   "execution_count": 5,
   "id": "1fb9d710",
   "metadata": {},
   "outputs": [],
   "source": [
    "n_events = len(picks_without_nans_collection)\n",
    "observable_arrivals_per_event = len(channel)\n",
    "\n",
    "data_array = numpy.empty((observable_arrivals_per_event, n_events))\n",
    "data_array[:] = numpy.nan\n",
    "\n",
    "uncertainty_array = numpy.empty((observable_arrivals_per_event, n_events))\n",
    "uncertainty_array[:] = numpy.nan\n",
    "\n",
    "snr_array = numpy.empty((observable_arrivals_per_event, n_events))\n",
    "snr_array[:] = numpy.nan\n",
    "\n",
    "for i_pick, pick in enumerate(picks_without_nans_collection):\n",
    "    data_array[match_arrays(channel, pick.channel.to_list()), i_pick] = (\n",
    "        pick.pick - pick.pick.min()\n",
    "    ) / 200\n",
    "\n",
    "    uncertainty_array[\n",
    "        match_arrays(channel, pick.channel.to_list()), i_pick\n",
    "    ] = pick.uncertainty\n",
    "\n",
    "    snr_array[match_arrays(channel, pick.channel.to_list()), i_pick] = pick.snr"
   ]
  },
  {
   "cell_type": "code",
   "execution_count": 6,
   "id": "5a0a00c7",
   "metadata": {},
   "outputs": [],
   "source": [
    "numpy.save(\"data_array.npy\", data_array)\n",
    "numpy.save(\"uncertainty_array.npy\", uncertainty_array)\n",
    "numpy.save(\"snr_array.npy\", snr_array)"
   ]
  }
 ],
 "metadata": {
  "kernelspec": {
   "display_name": "Python 3 (ipykernel)",
   "language": "python",
   "name": "python3"
  },
  "language_info": {
   "codemirror_mode": {
    "name": "ipython",
    "version": 3
   },
   "file_extension": ".py",
   "mimetype": "text/x-python",
   "name": "python",
   "nbconvert_exporter": "python",
   "pygments_lexer": "ipython3",
   "version": "3.8.13"
  }
 },
 "nbformat": 4,
 "nbformat_minor": 5
}
