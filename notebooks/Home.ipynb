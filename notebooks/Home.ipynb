{
 "cells": [
  {
   "cell_type": "markdown",
   "metadata": {},
   "source": [
    "# HMCLab notebooks\n",
    "\n",
    "This notebook collection contains tutorials and exmaple usages of the algorithms\n",
    "provided by HMCLab."
   ]
  },
  {
   "cell_type": "markdown",
   "metadata": {},
   "source": [
    "**Tutorials**\n",
    "\n",
    "0. [Getting started](./tutorials/0%20-%20Getting%20started.ipynb)\n",
    "1. [Tuning Hamiltonian Monte Carlo](./tutorials/1%20-%20Tuning%20Hamiltonian%20Monte%20Carlo.ipynb)\n",
    "2. [Separate priors per dimenions](./tutorials/2%20-%20Separate%20priors%20per%20dimension.ipynb)\n",
    "3. [Creating your own inverse problem](./tutorials/3%20-%20Creating%20your%20own%20inverse%20problem.ipynb)\n",
    "4. [Running parallel Markov chains](./tutorials/4%20-%20Running%20parallel%20Markov%20chains.ipynb)\n",
    "5. [Transforming parameters](./tutorials/5%20-%20Transforming%20parameters.ipynb)"
   ]
  },
  {
   "cell_type": "markdown",
   "metadata": {},
   "source": [
    "**Examples**\n",
    "- [Sampling Linear Equations](./examples/Sampling%20linear%20equations.ipynb)\n",
    "- [Sampling Sparse Equations](./examples/Sampling%20sparse%20linear%20equations.ipynb)\n",
    "- [Locating quakes](./examples/Locating%20quakes.ipynb)\n",
    "- [Elastic 2d FWI](./examples/Elastic%202d%20FWI.ipynb)\n"
   ]
  }
 ],
 "metadata": {
  "kernelspec": {
   "display_name": "Python 3.9.7 ('base')",
   "language": "python",
   "name": "python3"
  },
  "language_info": {
   "name": "python",
   "version": "3.9.7"
  },
  "orig_nbformat": 4,
  "vscode": {
   "interpreter": {
    "hash": "7c1bdad425484a1abab6401f6d03a1a21275d78af8feb7660d444a4146aa874c"
   }
  }
 },
 "nbformat": 4,
 "nbformat_minor": 2
}
