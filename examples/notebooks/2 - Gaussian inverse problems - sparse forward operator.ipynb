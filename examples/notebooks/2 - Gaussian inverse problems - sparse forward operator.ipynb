{
 "cells": [
  {
   "cell_type": "code",
   "execution_count": 1,
   "metadata": {},
   "outputs": [],
   "source": [
    "import hmc_tomography\n",
    "from hmc_tomography.Samplers import HMC\n",
    "import numpy, scipy\n",
    "import matplotlib.pyplot as plt\n",
    "\n",
    "numpy.set_printoptions(precision=2, suppress=True)"
   ]
  },
  {
   "cell_type": "markdown",
   "metadata": {},
   "source": [
    "# Tutorial 2 - Gaussian inverse problems - sparse forward operator\n",
    "\n",
    "**A verification of HMC on analytically solvable forward models**"
   ]
  },
  {
   "cell_type": "markdown",
   "metadata": {},
   "source": [
    "In this notebook, we'll look at sampling of inverse problems to which we have exact solutions, both the verify the validity of MCMC methods (HMC) and to illustrate how one could extend these simple problems with interesting (non-Gaussian) prior information."
   ]
  },
  {
   "cell_type": "markdown",
   "metadata": {},
   "source": [
    "<div class=\"alert alert-info\">\n",
    "<b>Note:</b> Throughout this notebook, we'll sample various distributions. Tuning settings are updated accordingly, but not discussed. Keep this in mind when playing around with the notebook; you might need to update parameters, primarily step lengths.\n",
    "</div>"
   ]
  },
  {
   "cell_type": "markdown",
   "metadata": {},
   "source": [
    "We will first define the model and data space size. Model parameters and data in linear forward problems are related with the following equation:\n",
    "\n",
    "\n",
    "$$\n",
    "\\mathbf{d} = G\\mathbf{m}\n",
    "$$\n",
    "\n",
    "\n",
    "Here, $\\mathbf{d}$ and $\\mathbf{m}$ are column vectors of resp. shape $[d \\times 1]$ and $[m \\times 1]$, and G has size $[m \\times d]$. Let's start of with choosing these sizes for our illustration (feel free to experiment with these):"
   ]
  },
  {
   "cell_type": "code",
   "execution_count": 2,
   "metadata": {},
   "outputs": [],
   "source": [
    "dimensions = 6\n",
    "dpoints = 12"
   ]
  },
  {
   "cell_type": "markdown",
   "metadata": {},
   "source": [
    "Next, we randomly generate a dense forward model operator. We are not interested in the exact values as of yet, but it is important to realise that by randomly generating values, we are not requiring G to be of full rank, i.e. (pseudo-)invertible."
   ]
  },
  {
   "cell_type": "code",
   "execution_count": 3,
   "metadata": {},
   "outputs": [
    {
     "name": "stdout",
     "output_type": "stream",
     "text": [
      "[[0.59 0.17 0.   0.   0.   0.  ]\n",
      " [0.   0.   0.   0.   0.61 0.  ]\n",
      " [0.   0.   0.   0.   0.61 0.75]\n",
      " [0.   0.   0.   0.   0.   0.  ]\n",
      " [0.84 0.   0.97 0.   0.   0.  ]\n",
      " [0.2  0.   0.   0.   0.   0.  ]\n",
      " [0.   0.54 0.   0.   0.02 0.  ]\n",
      " [0.   0.   0.39 0.   0.   0.  ]\n",
      " [0.   0.   0.   0.   0.79 0.  ]\n",
      " [0.29 0.   0.   0.01 0.   0.  ]\n",
      " [0.28 0.71 0.3  0.   0.   0.  ]\n",
      " [0.   0.   0.   0.42 0.   0.  ]] \n",
      "\n",
      " <class 'scipy.sparse.csr.csr_matrix'>\n"
     ]
    }
   ],
   "source": [
    "numpy.random.seed(42)\n",
    "G = scipy.sparse.random(dpoints, dimensions, density=0.25, dtype=numpy.float64).tocsr()\n",
    "print(G.todense(), \"\\n\\n\", type(G))"
   ]
  },
  {
   "cell_type": "markdown",
   "metadata": {},
   "source": [
    "Next we generate a 'true' model. Note that this model is _extremely_ sparse, only two entries are non-zero."
   ]
  },
  {
   "cell_type": "code",
   "execution_count": 4,
   "metadata": {},
   "outputs": [],
   "source": [
    "m_true = numpy.zeros((dimensions, 1))\n",
    "m_true[1] = 2.0\n",
    "m_true[3] = 1.0"
   ]
  },
  {
   "cell_type": "markdown",
   "metadata": {},
   "source": [
    "We generate true data, but we don't do this deterministically. We directly choose to generate data with a specific noise model. This noise model is assumed known for this notebook.\n",
    "\n",
    "The observed data is generated using the following relation:\n",
    "\n",
    "$$\n",
    "\\mathbf{d}_\\text{obs} = G\\mathbf{m}_\\text{true} + \\mathbf{\\sigma}\n",
    "$$\n",
    "\n",
    "Note that the added noise is also vector. We typically assume it's normally distributed (using a multivariate Gaussian):\n",
    "\n",
    "$$\n",
    "\\mathbf{\\sigma} \\sim \\mathcal{N} (\\mathbf{0} , \\Sigma)\n",
    "$$\n",
    "\n",
    "which makes inference in general much easier. Then the observed data constitute the noise-less observations together with a realization of this distribution.\n",
    "\n",
    "The description of the noise may depend strongly on which datapoint we look at. There could be correlations and strong differences in standard deviation for each datum $d_i$, as captured in the covariance matrix $\\Sigma$. We will first start with a diagonal (non-correlated) data covariance matrix. **NOTE**: we define data standard deviation in the next cell. To obtain $\\Sigma$, we need to compute the square of the standard deviation matrix."
   ]
  },
  {
   "cell_type": "markdown",
   "metadata": {},
   "source": [
    "## Case 1: diagonal covariance matrix - no prior"
   ]
  },
  {
   "cell_type": "code",
   "execution_count": 5,
   "metadata": {},
   "outputs": [],
   "source": [
    "# An array describing the noise for every datum separately\n",
    "data_std = numpy.array(dpoints * [0.2,])[:, None]\n",
    "\n",
    "# Manually change one datum's noise\n",
    "data_std[1] = 10.0\n",
    "data_std[4] = 10.0\n",
    "\n",
    "# Generate the data\n",
    "d_obs = G @ m_true + numpy.random.randn(G.shape[0], 1) * data_std"
   ]
  },
  {
   "cell_type": "markdown",
   "metadata": {},
   "source": [
    "Now we have everything we need to define our (non-regularized / prior-less) inference problem using a provided class. This object analyses the supplied objects and determines the appropriate methods (i.e. sparse vs dense $G$, dense vs diagonal $\\Sigma$, etc.)."
   ]
  },
  {
   "cell_type": "code",
   "execution_count": 6,
   "metadata": {},
   "outputs": [],
   "source": [
    "likelihood = hmc_tomography.Distributions.LinearMatrix(\n",
    "    G, d_obs, data_std ** 2, premultiplication=False\n",
    ")"
   ]
  },
  {
   "cell_type": "markdown",
   "metadata": {},
   "source": [
    "To validate sampling, we first compute the analytical posterior Gaussian. Check Tarantola (2005), page 36, example 1.38 for the relevant expressions. Note that a 'prior' is still absent, so formulas have been modified accordingly.\n",
    "\n",
    "Because the LinearMatrix class also allows for scalar data covariance, we added (but commented out) expressions for this case"
   ]
  },
  {
   "cell_type": "code",
   "execution_count": 7,
   "metadata": {},
   "outputs": [],
   "source": [
    "# Analytical results\n",
    "\n",
    "# Covariance matrix\n",
    "# COV = numpy.linalg.inv(G.T @ G / (data_std ** 2)) # Scalar data covariance\n",
    "inv_data_cov = numpy.diag(1.0 / data_std[:, 0] ** 2)\n",
    "COV = numpy.linalg.inv(G.T @ inv_data_cov @ G)  # Vector data covariance\n",
    "\n",
    "# Standard deviations\n",
    "SIGMA = numpy.diag(numpy.diag(COV) ** 0.5)\n",
    "\n",
    "# Correlation structure\n",
    "COR = numpy.linalg.inv(SIGMA) @ COV @ numpy.linalg.inv(SIGMA)\n",
    "\n",
    "# Means\n",
    "MEAN = COV @ G.T @ inv_data_cov @ d_obs"
   ]
  },
  {
   "cell_type": "markdown",
   "metadata": {},
   "source": [
    "If you encounter the warning: `invalid value encountered in sqrt` you most likely have more model parameters than observations. In this case, your likelihood covariance matrix can not be inverted (because it is guaranteed not full rank) and we probably should add a prior term that is well behaved.\n",
    "\n",
    "What this means in a probabilistic interpretation is that the resulting distribution has infinite support and is non-normalizable, and we should use Bayes' rule to counter this."
   ]
  },
  {
   "cell_type": "markdown",
   "metadata": {},
   "source": [
    "**Let's start sampling!**"
   ]
  },
  {
   "cell_type": "code",
   "execution_count": 8,
   "metadata": {},
   "outputs": [
    {
     "name": "stderr",
     "output_type": "stream",
     "text": [
      "sys:1: Warning: \r\n",
      "Silently overwriting samples file (bin_samples/tutorial_2_diagonal_covariance.h5) if it exists.\n"
     ]
    },
    {
     "data": {
      "application/vnd.jupyter.widget-view+json": {
       "model_id": "446055c697e14410916a7a092037f8c2",
       "version_major": 2,
       "version_minor": 0
      },
      "text/plain": [
       "HBox(children=(HTML(value='Sampling. Acceptance rate:'), FloatProgress(value=0.0, layout=Layout(flex='2'), max…"
      ]
     },
     "metadata": {},
     "output_type": "display_data"
    },
    {
     "name": "stdout",
     "output_type": "stream",
     "text": [
      "\n"
     ]
    }
   ],
   "source": [
    "mm = hmc_tomography.MassMatrices.Unit(likelihood.dimensions)\n",
    "\n",
    "HMC().sample(\n",
    "    \"bin_samples/tutorial_2_diagonal_covariance.h5\",\n",
    "    likelihood,\n",
    "    mass_matrix=mm,\n",
    "    proposals=5000,\n",
    "    autotuning=True,\n",
    "    online_thinning=1,\n",
    "    overwrite_existing_file=True,\n",
    "    initial_model=m_true,\n",
    ")"
   ]
  },
  {
   "cell_type": "markdown",
   "metadata": {},
   "source": [
    "Let's now compute the same quantities using the samples. The `with` construct is essential, as it closes the sample file after we exit the indent. This ensures that we don't leave open the HDF5 file. **Additionally, we'll visualize the 1d and 2d marginals of the posterior.**"
   ]
  },
  {
   "cell_type": "code",
   "execution_count": 9,
   "metadata": {},
   "outputs": [
    {
     "data": {
      "image/png": "[encoded data removed]",
      "text/plain": [
       "<Figure size 864x864 with 9 Axes>"
      ]
     },
     "metadata": {
      "needs_background": "light"
     },
     "output_type": "display_data"
    }
   ],
   "source": [
    "with hmc_tomography.Samples(\n",
    "    \"bin_samples/tutorial_2_diagonal_covariance.h5\", burn_in=100\n",
    ") as samples:\n",
    "\n",
    "    hmc_tomography.Visualization.marginal_grid(\n",
    "        samples, [0, 1, 2], figsize=(12, 12),  # Mind the ZERO INDEXED dimensions.\n",
    "    )\n",
    "\n",
    "    sampling_MEAN = numpy.mean(samples[:-1, :], axis=1)\n",
    "\n",
    "    sampling_COV = numpy.cov(samples[:-1, :])\n",
    "\n",
    "    sampling_SIGMA = numpy.diag(numpy.diag(sampling_COV) ** 0.5)\n",
    "\n",
    "    sampling_COR = (\n",
    "        numpy.linalg.inv(sampling_SIGMA)\n",
    "        @ sampling_COV\n",
    "        @ numpy.linalg.inv(sampling_SIGMA)\n",
    "    )"
   ]
  },
  {
   "cell_type": "markdown",
   "metadata": {},
   "source": [
    "Now we compare the posterior covariance and means of the two methods. We hope these two results are the same (as they theoretically should be), otherwise we probably made an error in the code.\n",
    "\n",
    "We'll visualize two different things:\n",
    "1. The means and variances of the sampling and analytical posteriors;\n",
    "2. The full covariance matrices of the sampling and analytical posteriors."
   ]
  },
  {
   "cell_type": "code",
   "execution_count": 10,
   "metadata": {},
   "outputs": [
    {
     "data": {
      "image/png": "[encoded data removed]",
      "text/plain": [
       "<Figure size 864x432 with 1 Axes>"
      ]
     },
     "metadata": {
      "needs_background": "light"
     },
     "output_type": "display_data"
    },
    {
     "name": "stdout",
     "output_type": "stream",
     "text": [
      "BE AWARE, I print only up to 2 digits. The sampling covariance will appear less accurate when printing more digits.\n",
      "\n",
      "Analytical covariance matrix:\n",
      "[[ 0.09 -0.03 -0.   -0.    0.   -0.  ]\n",
      " [-0.03  0.07 -0.05  0.   -0.    0.  ]\n",
      " [-0.   -0.05  0.21  0.    0.   -0.  ]\n",
      " [-0.    0.    0.    0.22 -0.    0.  ]\n",
      " [ 0.   -0.    0.   -0.    0.06 -0.05]\n",
      " [-0.    0.   -0.    0.   -0.05  0.11]]\n",
      "\n",
      "Sampling covariance matrix:\n",
      "[[ 0.1  -0.03 -0.01 -0.    0.    0.01]\n",
      " [-0.03  0.08 -0.06  0.01 -0.   -0.  ]\n",
      " [-0.01 -0.06  0.22 -0.01 -0.   -0.01]\n",
      " [-0.    0.01 -0.01  0.18 -0.01  0.  ]\n",
      " [ 0.   -0.   -0.   -0.01  0.06 -0.05]\n",
      " [ 0.01 -0.   -0.01  0.   -0.05  0.12]]\n",
      "\n",
      "Difference:\n",
      "[[ 0.01 -0.   -0.   -0.    0.    0.01]\n",
      " [-0.    0.01 -0.01  0.   -0.   -0.  ]\n",
      " [-0.   -0.01  0.01 -0.01 -0.   -0.  ]\n",
      " [-0.    0.   -0.01 -0.04 -0.01  0.  ]\n",
      " [ 0.   -0.   -0.   -0.01  0.    0.  ]\n",
      " [ 0.01 -0.   -0.    0.    0.    0.01]]\n"
     ]
    }
   ],
   "source": [
    "fig, ax = plt.subplots(figsize=(12, 6))\n",
    "\n",
    "ax.scatter(numpy.arange(m_true.size), m_true, label=\"True value\", marker=\"v\", color=\"k\")\n",
    "\n",
    "\n",
    "ax.errorbar(\n",
    "    numpy.arange(sampling_MEAN.size),\n",
    "    sampling_MEAN,\n",
    "    capsize=6,\n",
    "    yerr=numpy.diag(sampling_SIGMA),\n",
    "    fmt=\"o\",\n",
    "    label=\"Sampling\",\n",
    ")\n",
    "\n",
    "ax.errorbar(\n",
    "    numpy.arange(MEAN.size),\n",
    "    MEAN,\n",
    "    capsize=6,\n",
    "    yerr=numpy.diag(SIGMA),\n",
    "    fmt=\"x\",\n",
    "    label=\"Analytical\",\n",
    "    alpha=0.8,\n",
    ")\n",
    "\n",
    "ax.legend()\n",
    "ax.set_ylim([-0.5, 2.25])\n",
    "ax.set_ylabel(\"Parameter estimate\")\n",
    "ax.set_xlabel(\"Parameter index\")\n",
    "ax.set_title(\"Parameter estimates\\nmeans: markers, sigma: lines\")\n",
    "plt.show()\n",
    "\n",
    "print(\n",
    "    \"BE AWARE, I print only up to 2 digits. \"\n",
    "    \"The sampling covariance will appear less \"\n",
    "    \"accurate when printing more digits.\"\n",
    ")\n",
    "print()\n",
    "print(\"Analytical covariance matrix:\")\n",
    "print(COV)\n",
    "print()\n",
    "print(\"Sampling covariance matrix:\")\n",
    "print(sampling_COV)\n",
    "\n",
    "print()\n",
    "print(\"Difference:\")\n",
    "print(sampling_COV - COV)"
   ]
  },
  {
   "cell_type": "markdown",
   "metadata": {},
   "source": [
    "Well, everything seems to be in order! Let's extend the theory a little bit with a dense covariance matrix."
   ]
  },
  {
   "cell_type": "markdown",
   "metadata": {},
   "source": [
    "## Case 2: sparse covariance matrix - no prior"
   ]
  },
  {
   "cell_type": "markdown",
   "metadata": {},
   "source": [
    "In this case, we want to encode correlations between the errors in the observed data. This may be done with normally distributed noise by adding non-diagonal entries in the covariance matrix $\\Sigma$. To make life easier, we can decompose the covariance matrix (using Eigendecomposition) into variances (diagonal matrix with variances on the diagonal, $\\text{diag}(\\mathbf{\\sigma})$) and the correlation matrix ($R$):\n",
    "\n",
    "$$\n",
    "    \\Sigma = \\text{diag}(\\mathbf{\\sigma}) \\:\\: R \\:\\:  \n",
    "    \\text{diag} (\\mathbf{\\sigma})\n",
    "$$\n",
    "\n",
    "Correlations always lie between -1 and 1, and are 1 for correlation between one parameter and itself. Both the covariance matrix and the correlation matrix have to be positive definite, otherwise the multivariate Gaussian is non-normalizable (if positive-semidefinite) or not even a proper probability (if anything else)."
   ]
  },
  {
   "cell_type": "code",
   "execution_count": 11,
   "metadata": {},
   "outputs": [
    {
     "name": "stdout",
     "output_type": "stream",
     "text": [
      "Matrix is positive definite; proper covariance matrix.\n",
      "[[1.   0.4  0.03 0.   0.   0.   0.   0.   0.   0.   0.03 0.4 ]\n",
      " [0.4  1.   0.4  0.03 0.   0.   0.   0.   0.   0.   0.   0.03]\n",
      " [0.03 0.4  1.   0.4  0.03 0.   0.   0.   0.   0.   0.   0.  ]\n",
      " [0.   0.03 0.4  1.   0.4  0.03 0.   0.   0.   0.   0.   0.  ]\n",
      " [0.   0.   0.03 0.4  1.   0.4  0.03 0.   0.   0.   0.   0.  ]\n",
      " [0.   0.   0.   0.03 0.4  1.   0.4  0.03 0.   0.   0.   0.  ]\n",
      " [0.   0.   0.   0.   0.03 0.4  1.   0.4  0.03 0.   0.   0.  ]\n",
      " [0.   0.   0.   0.   0.   0.03 0.4  1.   0.4  0.03 0.   0.  ]\n",
      " [0.   0.   0.   0.   0.   0.   0.03 0.4  1.   0.4  0.03 0.  ]\n",
      " [0.   0.   0.   0.   0.   0.   0.   0.03 0.4  1.   0.4  0.03]\n",
      " [0.03 0.   0.   0.   0.   0.   0.   0.   0.03 0.4  1.   0.4 ]\n",
      " [0.4  0.03 0.   0.   0.   0.   0.   0.   0.   0.03 0.4  1.  ]]\n"
     ]
    }
   ],
   "source": [
    "# An array describing the noise for every datum separately\n",
    "data_std_dense = numpy.array(dpoints * [0.2,])\n",
    "\n",
    "# Manually change one datum's noise (same as previous example)\n",
    "data_std_dense[1] = 10\n",
    "data_std_dense[4] = 10\n",
    "\n",
    "data_std_dense = numpy.diag(data_std_dense)\n",
    "\n",
    "cor = numpy.eye(data_std_dense.shape[0])\n",
    "\n",
    "for i in range(data_std_dense.shape[0]):\n",
    "    for diff in range(int(data_std_dense.shape[0] / 5)):\n",
    "        cor[i, i - diff - 1] = 0.4 ** (diff * 3 + 1.0)\n",
    "        cor[i - diff - 1, i] = 0.4 ** (diff * 3 + 1.0)\n",
    "\n",
    "data_covariance_dense = data_std_dense @ cor @ data_std_dense\n",
    "\n",
    "# Positive definiteness check\n",
    "if numpy.all(numpy.linalg.eigvals(data_covariance_dense) > 0):\n",
    "    print(\"Matrix is positive definite; proper covariance matrix.\")\n",
    "else:\n",
    "    raise ValueError(\"Not a valid covariance matrix; not positive definite.\")\n",
    "\n",
    "# Upper cholesky decomposition to generate RNG\n",
    "CHOL = numpy.linalg.cholesky(data_covariance_dense)\n",
    "\n",
    "# Generate the data with the updated noise model\n",
    "dense_d_obs = G @ m_true + CHOL @ numpy.random.randn(G.shape[0], 1)\n",
    "\n",
    "print(cor)"
   ]
  },
  {
   "cell_type": "markdown",
   "metadata": {},
   "source": [
    "The matrix we create is positive definite! Now let's visualize $\\Sigma$ and $R$."
   ]
  },
  {
   "cell_type": "code",
   "execution_count": 12,
   "metadata": {},
   "outputs": [
    {
     "data": {
      "text/plain": [
       "<matplotlib.colorbar.Colorbar at 0x7f0fe0b95dd0>"
      ]
     },
     "execution_count": 12,
     "metadata": {},
     "output_type": "execute_result"
    },
    {
     "data": {
      "image/png": "[encoded data removed]",
      "text/plain": [
       "<Figure size 864x432 with 2 Axes>"
      ]
     },
     "metadata": {
      "needs_background": "light"
     },
     "output_type": "display_data"
    }
   ],
   "source": [
    "from matplotlib.ticker import FormatStrFormatter\n",
    "from matplotlib.ticker import MaxNLocator\n",
    "\n",
    "fig, ax = plt.subplots(figsize=(12, 6))\n",
    "\n",
    "ax.yaxis.set_major_locator(MaxNLocator(integer=True))\n",
    "ax.xaxis.set_major_locator(MaxNLocator(integer=True))\n",
    "im = ax.imshow(numpy.log10(numpy.abs(data_covariance_dense)))\n",
    "ax.set_xlabel(\"data index\")\n",
    "ax.set_ylabel(\"data index\")\n",
    "ax.set_title(\"Order of magnitude of covariance (logarithm)\")\n",
    "ax.yaxis.set_major_formatter(FormatStrFormatter(\"%i\"))\n",
    "plt.colorbar(im)"
   ]
  },
  {
   "cell_type": "code",
   "execution_count": 13,
   "metadata": {},
   "outputs": [
    {
     "data": {
      "image/png": "[encoded data removed]",
      "text/plain": [
       "<Figure size 432x288 with 2 Axes>"
      ]
     },
     "metadata": {
      "needs_background": "light"
     },
     "output_type": "display_data"
    }
   ],
   "source": [
    "plt.imshow(cor, vmin=-1, vmax=1, cmap=plt.get_cmap(\"seismic\"))\n",
    "cbar = plt.colorbar()"
   ]
  },
  {
   "cell_type": "markdown",
   "metadata": {},
   "source": [
    "These observations are highly correlated. Let's now construct our likelihood with this new data noise model."
   ]
  },
  {
   "cell_type": "code",
   "execution_count": 14,
   "metadata": {},
   "outputs": [],
   "source": [
    "likelihood = hmc_tomography.Distributions.LinearMatrix(\n",
    "    G, dense_d_obs, data_covariance_dense\n",
    ")"
   ]
  },
  {
   "cell_type": "markdown",
   "metadata": {},
   "source": [
    "And compute the analytical solution of the inverse problem."
   ]
  },
  {
   "cell_type": "code",
   "execution_count": 15,
   "metadata": {},
   "outputs": [],
   "source": [
    "# Analytical results\n",
    "\n",
    "# Covariance matrix\n",
    "inv_data_cov = numpy.linalg.inv(data_covariance_dense)\n",
    "dense_COV = numpy.linalg.inv(G.T @ inv_data_cov @ G)  # Vector data covariance\n",
    "\n",
    "# Standard deviations\n",
    "dense_SIGMA = numpy.diag(numpy.diag(dense_COV) ** 0.5)\n",
    "\n",
    "# Correlation structure\n",
    "dense_COR = numpy.linalg.inv(dense_SIGMA) @ dense_COV @ numpy.linalg.inv(dense_SIGMA)\n",
    "\n",
    "# Means\n",
    "dense_MEAN = dense_COV @ G.T @ inv_data_cov @ dense_d_obs"
   ]
  },
  {
   "cell_type": "markdown",
   "metadata": {},
   "source": [
    "And draw samples from the likelihood."
   ]
  },
  {
   "cell_type": "code",
   "execution_count": 16,
   "metadata": {},
   "outputs": [
    {
     "name": "stderr",
     "output_type": "stream",
     "text": [
      "sys:1: Warning: \r\n",
      "Silently overwriting samples file (bin_samples/tutorial_2_dense_covariance.h5) if it exists.\n",
      "/home/larsgebraad/Documents/Hamiltonian Monte Carlo/hmc-tomography/hmc_tomography/Samplers.py:1282: UserWarning: The stepsize of the algorithm went below zero. You possibly started the algorithm in a region with extremely strong gradients. The sampler will now default to a minimum stepsize of 1e-18. If this doesn't work, and if choosing a different initial model does not make this warning go away, trysetting a smaller minimal stepsize and initial stepsize value.\n",
      "  \"The stepsize of the algorithm went below zero. You possibly \"\n"
     ]
    },
    {
     "data": {
      "application/vnd.jupyter.widget-view+json": {
       "model_id": "4cf9ae3ec18a4d96b5d0f87b1d0f290e",
       "version_major": 2,
       "version_minor": 0
      },
      "text/plain": [
       "HBox(children=(HTML(value='Sampling. Acceptance rate:'), FloatProgress(value=0.0, layout=Layout(flex='2'), max…"
      ]
     },
     "metadata": {},
     "output_type": "display_data"
    },
    {
     "name": "stdout",
     "output_type": "stream",
     "text": [
      "\n"
     ]
    }
   ],
   "source": [
    "HMC().sample(\n",
    "    \"bin_samples/tutorial_2_dense_covariance.h5\",\n",
    "    likelihood,\n",
    "    mass_matrix=hmc_tomography.MassMatrices.Unit(likelihood.dimensions),\n",
    "    proposals=5000,\n",
    "    autotuning=True,\n",
    "    online_thinning=1,\n",
    "    overwrite_existing_file=True,\n",
    "    initial_model=m_true,\n",
    ")"
   ]
  },
  {
   "cell_type": "markdown",
   "metadata": {},
   "source": [
    "Now we visualize the marginals again. Similar to the correlation matrix of the data noise, the upper right of this plot **is** the correlation matrix of the likelihood."
   ]
  },
  {
   "cell_type": "code",
   "execution_count": 17,
   "metadata": {},
   "outputs": [
    {
     "data": {
      "image/png": "[encoded data removed]",
      "text/plain": [
       "<Figure size 864x864 with 9 Axes>"
      ]
     },
     "metadata": {
      "needs_background": "light"
     },
     "output_type": "display_data"
    }
   ],
   "source": [
    "with hmc_tomography.Samples(\n",
    "    \"bin_samples/tutorial_2_dense_covariance.h5\", burn_in=100\n",
    ") as samples:\n",
    "\n",
    "    hmc_tomography.Visualization.marginal_grid(\n",
    "        samples, [0, 1, 2], figsize=(12, 12),  # Mind the ZERO INDEXED dimensions.\n",
    "    )\n",
    "\n",
    "    sampling_dense_MEAN = numpy.mean(samples[:-1, :], axis=1)\n",
    "\n",
    "    sampling_dense_COV = numpy.cov(samples[:-1, :])\n",
    "\n",
    "    sampling_dense_SIGMA = numpy.diag(numpy.diag(sampling_dense_COV) ** 0.5)\n",
    "\n",
    "    sampling_dense_COR = (\n",
    "        numpy.linalg.inv(sampling_dense_SIGMA)\n",
    "        @ sampling_dense_COV\n",
    "        @ numpy.linalg.inv(sampling_dense_SIGMA)\n",
    "    )"
   ]
  },
  {
   "cell_type": "code",
   "execution_count": 18,
   "metadata": {},
   "outputs": [
    {
     "data": {
      "image/png": "[encoded data removed]",
      "text/plain": [
       "<Figure size 864x432 with 1 Axes>"
      ]
     },
     "metadata": {
      "needs_background": "light"
     },
     "output_type": "display_data"
    },
    {
     "name": "stdout",
     "output_type": "stream",
     "text": [
      "BE AWARE, I print only up to 2 digits. The sampling covariance will appear less accurate when printing more digits.\n",
      "\n",
      "Analytical covariance matrix:\n",
      "[[ 0.07 -0.01 -0.01  0.04  0.01 -0.02]\n",
      " [-0.01  0.04 -0.02  0.03 -0.02  0.01]\n",
      " [-0.01 -0.02  0.14  0.02  0.03 -0.02]\n",
      " [ 0.04  0.03  0.02  0.21  0.01 -0.01]\n",
      " [ 0.01 -0.02  0.03  0.01  0.05 -0.04]\n",
      " [-0.02  0.01 -0.02 -0.01 -0.04  0.08]]\n",
      "\n",
      "Sampling covariance matrix:\n",
      "[[ 0.07 -0.01 -0.01  0.05  0.01 -0.01]\n",
      " [-0.01  0.04 -0.02  0.03 -0.02  0.01]\n",
      " [-0.01 -0.02  0.15  0.02  0.03 -0.03]\n",
      " [ 0.05  0.03  0.02  0.23  0.01 -0.01]\n",
      " [ 0.01 -0.02  0.03  0.01  0.05 -0.05]\n",
      " [-0.01  0.01 -0.03 -0.01 -0.05  0.08]]\n",
      "\n",
      "Difference:\n",
      "[[-0.    0.   -0.    0.   -0.    0.  ]\n",
      " [ 0.    0.   -0.    0.   -0.   -0.  ]\n",
      " [-0.   -0.    0.   -0.    0.01 -0.01]\n",
      " [ 0.    0.   -0.    0.02 -0.    0.  ]\n",
      " [-0.   -0.    0.01 -0.   -0.   -0.  ]\n",
      " [ 0.   -0.   -0.01  0.   -0.    0.  ]]\n"
     ]
    }
   ],
   "source": [
    "fig, ax = plt.subplots(figsize=(12, 6))\n",
    "\n",
    "ax.scatter(\n",
    "    numpy.arange(m_true.size), m_true, label=\"True value\", marker=\"v\", color=\"k\",\n",
    ")\n",
    "\n",
    "ax.errorbar(\n",
    "    numpy.arange(sampling_dense_MEAN.size),\n",
    "    sampling_dense_MEAN,\n",
    "    yerr=numpy.diag(sampling_dense_SIGMA),\n",
    "    fmt=\"o\",\n",
    "    capsize=6,\n",
    "    label=\"Sampling\",\n",
    ")\n",
    "\n",
    "ax.errorbar(\n",
    "    numpy.arange(dense_MEAN.size),\n",
    "    dense_MEAN,\n",
    "    yerr=numpy.diag(dense_SIGMA),\n",
    "    fmt=\"x\",\n",
    "    capsize=6,\n",
    "    label=\"Analytical\",\n",
    "    alpha=0.8,\n",
    ")\n",
    "\n",
    "ax.errorbar(\n",
    "    numpy.arange(MEAN.size),\n",
    "    MEAN,\n",
    "    yerr=numpy.diag(SIGMA),\n",
    "    fmt=\"x\",\n",
    "    capsize=6,\n",
    "    label=\"Diagonal (previous)\",\n",
    "    alpha=0.5,\n",
    ")\n",
    "\n",
    "ax.legend()\n",
    "ax.set_ylim([-0.5, 2.25])\n",
    "ax.set_ylabel(\"Parameter estimate\")\n",
    "ax.set_xlabel(\"Parameter index\")\n",
    "ax.set_title(\"Parameter estimates\\nmeans: markers, sigma: lines\")\n",
    "plt.show()\n",
    "\n",
    "print(\n",
    "    \"BE AWARE, I print only up to 2 digits. \"\n",
    "    \"The sampling covariance will appear less \"\n",
    "    \"accurate when printing more digits.\"\n",
    ")\n",
    "print()\n",
    "print(\"Analytical covariance matrix:\")\n",
    "print(dense_COV)\n",
    "print()\n",
    "print(\"Sampling covariance matrix:\")\n",
    "print(sampling_dense_COV)\n",
    "\n",
    "print()\n",
    "print(\"Difference:\")\n",
    "print(sampling_dense_COV - dense_COV)"
   ]
  },
  {
   "cell_type": "markdown",
   "metadata": {},
   "source": [
    "There is a few important observations to made from the output here:\n",
    "\n",
    "1. The sampling variances and means are equal (to a precision proportional to the amount of samples) to the analytical solution;\n",
    "2. Because the noise realization and the data **covariance** are different, the means and variances are not equal to the previous case, even though the noise **variance** for every single datum is equal;\n",
    "3. The total variance (sum of variances *or* product of variances) seems to be lower in the dense covariance matrix case.\n",
    "\n",
    "Especially point 3 was surprising to me. If there are trade-offs between datums, shouldn't we constrain the model parameters worse? It turns out, the opposite happens. Let's first look at the data covariances matrices to argument this."
   ]
  },
  {
   "cell_type": "code",
   "execution_count": 19,
   "metadata": {},
   "outputs": [
    {
     "name": "stdout",
     "output_type": "stream",
     "text": [
      "Data space measure of dispersion of the noise model:\n",
      "Ellipsoid volume diagonal (uncorrelated noise): \t1.05e-10\n",
      "Ellipsoid volume dense (correlated noise): \t\t8.95e-12\n"
     ]
    }
   ],
   "source": [
    "data_covariance_dense\n",
    "data_covariance_diagonal = numpy.diag(data_std[:, 0] ** 2)\n",
    "\n",
    "print(f\"Data space measure of dispersion of the noise model:\")\n",
    "print(\n",
    "    f\"Ellipsoid volume diagonal (uncorrelated noise): \\t{(numpy.linalg.det(data_covariance_diagonal)):.2e}\"\n",
    ")\n",
    "print(\n",
    "    f\"Ellipsoid volume dense (correlated noise): \\t\\t{(numpy.linalg.det(data_covariance_dense)):.2e}\"\n",
    ")"
   ]
  },
  {
   "cell_type": "markdown",
   "metadata": {},
   "source": [
    "Maybe it may make intuitive sense now: The possible values the data have before the noise is added is proportional to this determinant, or volume, of the multivariate Gaussian. In the case of the correlated noise, the possible true data is a much more constrained volume.\n",
    "\n",
    "Verifying these volumes on the total variability of the posteriors in model space, we see the same thing:"
   ]
  },
  {
   "cell_type": "code",
   "execution_count": 20,
   "metadata": {},
   "outputs": [
    {
     "name": "stdout",
     "output_type": "stream",
     "text": [
      "Model space measure of dispersion of the posterior:\n",
      "Ellipsoid volume uncorrelated noise: \t9.44e-07\n",
      "Ellipsoid volume correlated noise: \t1.06e-07\n"
     ]
    }
   ],
   "source": [
    "print(f\"Model space measure of dispersion of the posterior:\")\n",
    "print(f\"Ellipsoid volume uncorrelated noise: \\t{(numpy.linalg.det(COV)):.2e}\")\n",
    "print(f\"Ellipsoid volume correlated noise: \\t{(numpy.linalg.det(dense_COV)):.2e}\")"
   ]
  },
  {
   "cell_type": "markdown",
   "metadata": {},
   "source": [
    "## Case 3: dense covariance matrix - Gaussian prior"
   ]
  },
  {
   "cell_type": "markdown",
   "metadata": {},
   "source": [
    "As a final validity test, we add a Gaussian prior. One can again find an analytical expression of the posterior in this case in Tarantola's 2005 book, page 36. We can recycle the data covariance matrix, observed data, and likelihood function from the previous case, because the noise model did not change:"
   ]
  },
  {
   "cell_type": "code",
   "execution_count": 21,
   "metadata": {},
   "outputs": [
    {
     "data": {
      "text/plain": [
       "<hmc_tomography.Distributions.LinearMatrix.LinearMatrix at 0x7f0fd55bbed0>"
      ]
     },
     "execution_count": 21,
     "metadata": {},
     "output_type": "execute_result"
    }
   ],
   "source": [
    "# Recycled variables\n",
    "data_covariance_dense\n",
    "dense_d_obs\n",
    "likelihood"
   ]
  },
  {
   "cell_type": "markdown",
   "metadata": {},
   "source": [
    "Now we can create a prior centered around zero with a given variance."
   ]
  },
  {
   "cell_type": "code",
   "execution_count": 22,
   "metadata": {},
   "outputs": [
    {
     "name": "stderr",
     "output_type": "stream",
     "text": [
      "/home/larsgebraad/Documents/Hamiltonian Monte Carlo/hmc-tomography/hmc_tomography/Distributions/base.py:403: Warning: Seems that you only passed a vector as the covariance matrix. It will be used as the covariance diagonal.\n",
      "  Warning,\n"
     ]
    }
   ],
   "source": [
    "prior_means = numpy.zeros((likelihood.dimensions, 1))\n",
    "prior_variances = 0.25 * numpy.ones((likelihood.dimensions, 1))\n",
    "\n",
    "prior = hmc_tomography.Distributions.Normal(prior_means, prior_variances)"
   ]
  },
  {
   "cell_type": "markdown",
   "metadata": {},
   "source": [
    "Now, applying Bayes' rule without normalization is extremely easy (note that this works on more than 2 distributions simultaneously too):"
   ]
  },
  {
   "cell_type": "code",
   "execution_count": 23,
   "metadata": {},
   "outputs": [],
   "source": [
    "posterior = hmc_tomography.Distributions.BayesRule([prior, likelihood])"
   ]
  },
  {
   "cell_type": "markdown",
   "metadata": {},
   "source": [
    "And we can compute the analytical solution again for this case."
   ]
  },
  {
   "cell_type": "code",
   "execution_count": 24,
   "metadata": {},
   "outputs": [],
   "source": [
    "# Analytical results\n",
    "\n",
    "# Covariance matrix\n",
    "inv_prior_cov = numpy.linalg.inv(numpy.diag(prior_variances[:, 0]))\n",
    "inv_data_cov = numpy.linalg.inv(data_covariance_dense)\n",
    "dense_COV_prior = numpy.linalg.inv(\n",
    "    G.T @ inv_data_cov @ G + inv_prior_cov\n",
    ")  # Vector data covariance\n",
    "\n",
    "# Standard deviations\n",
    "dense_SIGMA_prior = numpy.diag(numpy.diag(dense_COV_prior) ** 0.5)\n",
    "\n",
    "# Correlation structure\n",
    "dense_COR_prior = (\n",
    "    numpy.linalg.inv(dense_SIGMA) @ dense_COV @ numpy.linalg.inv(dense_SIGMA)\n",
    ")\n",
    "\n",
    "# Means\n",
    "dense_MEAN_prior = dense_COV_prior @ (\n",
    "    G.T @ inv_data_cov @ dense_d_obs + inv_prior_cov @ prior_means\n",
    ")"
   ]
  },
  {
   "cell_type": "markdown",
   "metadata": {},
   "source": [
    "Sampling the distribution ..."
   ]
  },
  {
   "cell_type": "code",
   "execution_count": 25,
   "metadata": {},
   "outputs": [
    {
     "name": "stderr",
     "output_type": "stream",
     "text": [
      "sys:1: Warning: \r\n",
      "Silently overwriting samples file (bin_samples/tutorial_2_dense_covariance_with_gaussian_prior.h5) if it exists.\n"
     ]
    },
    {
     "data": {
      "application/vnd.jupyter.widget-view+json": {
       "model_id": "9f107c2092ee4822bf0a18d70ae0896f",
       "version_major": 2,
       "version_minor": 0
      },
      "text/plain": [
       "HBox(children=(HTML(value='Sampling. Acceptance rate:'), FloatProgress(value=0.0, layout=Layout(flex='2'), max…"
      ]
     },
     "metadata": {},
     "output_type": "display_data"
    },
    {
     "name": "stdout",
     "output_type": "stream",
     "text": [
      "\n"
     ]
    }
   ],
   "source": [
    "HMC().sample(\n",
    "    \"bin_samples/tutorial_2_dense_covariance_with_gaussian_prior.h5\",\n",
    "    posterior,\n",
    "    mass_matrix=hmc_tomography.MassMatrices.Unit(posterior.dimensions),\n",
    "    proposals=5000,\n",
    "    autotuning=True,\n",
    "    overwrite_existing_file=True,\n",
    "    online_thinning=1,\n",
    "    initial_model=m_true,\n",
    ")"
   ]
  },
  {
   "cell_type": "markdown",
   "metadata": {},
   "source": [
    "Visualizing the marginals and computing the multivariate normal attributes from the samples."
   ]
  },
  {
   "cell_type": "code",
   "execution_count": 26,
   "metadata": {},
   "outputs": [
    {
     "data": {
      "image/png": "[encoded data removed]",
      "text/plain": [
       "<Figure size 864x864 with 9 Axes>"
      ]
     },
     "metadata": {
      "needs_background": "light"
     },
     "output_type": "display_data"
    }
   ],
   "source": [
    "with hmc_tomography.Samples(\n",
    "    \"bin_samples/tutorial_2_dense_covariance_with_gaussian_prior.h5\", burn_in=100\n",
    ") as samples_posterior:\n",
    "\n",
    "    hmc_tomography.Visualization.marginal_grid(\n",
    "        samples_posterior, [0, 1, 2], figsize=(12, 12)\n",
    "    )\n",
    "\n",
    "    sampling_dense_MEAN_prior = numpy.mean(samples_posterior[:-1, :], axis=1)\n",
    "\n",
    "    sampling_dense_COV_prior = numpy.cov(samples_posterior[:-1, :])\n",
    "\n",
    "    sampling_dense_SIGMA_prior = numpy.diag(numpy.diag(sampling_dense_COV_prior) ** 0.5)\n",
    "\n",
    "    sampling_dense_COR_prior = (\n",
    "        numpy.linalg.inv(sampling_dense_SIGMA_prior)\n",
    "        @ sampling_dense_COV_prior\n",
    "        @ numpy.linalg.inv(sampling_dense_SIGMA_prior)\n",
    "    )"
   ]
  },
  {
   "cell_type": "markdown",
   "metadata": {},
   "source": [
    "Now we compare three things again:\n",
    "\n",
    "1. The analytical result\n",
    "2. The sampling result\n",
    "3. The result of the non-regularized inversion\n",
    "\n",
    "We again hope that 1 and 2 are the same. Additionally, we expect the addition of a prior to reduce the variability in the posterior, while 'pulling' model parameters to it's mean. Let's see what happens:"
   ]
  },
  {
   "cell_type": "code",
   "execution_count": 27,
   "metadata": {},
   "outputs": [
    {
     "data": {
      "image/png": "[encoded data removed]",
      "text/plain": [
       "<Figure size 864x432 with 1 Axes>"
      ]
     },
     "metadata": {
      "needs_background": "light"
     },
     "output_type": "display_data"
    },
    {
     "name": "stdout",
     "output_type": "stream",
     "text": [
      "BE AWARE, I print only up to 2 digits. The sampling covariance will appear less accurate when printing more digits.\n",
      "\n",
      "Analytical covariance matrix:\n",
      "[[ 0.05 -0.01 -0.01  0.02  0.01 -0.01]\n",
      " [-0.01  0.03 -0.01  0.01 -0.01  0.01]\n",
      " [-0.01 -0.01  0.09  0.01  0.01 -0.01]\n",
      " [ 0.02  0.01  0.01  0.11  0.   -0.  ]\n",
      " [ 0.01 -0.01  0.01  0.    0.04 -0.03]\n",
      " [-0.01  0.01 -0.01 -0.   -0.03  0.06]]\n",
      "\n",
      "Sampling covariance matrix:\n",
      "[[ 0.05 -0.01 -0.    0.02  0.   -0.01]\n",
      " [-0.01  0.03 -0.01  0.01 -0.01  0.  ]\n",
      " [-0.   -0.01  0.09  0.01  0.02 -0.01]\n",
      " [ 0.02  0.01  0.01  0.11  0.01 -0.  ]\n",
      " [ 0.   -0.01  0.02  0.01  0.03 -0.02]\n",
      " [-0.01  0.   -0.01 -0.   -0.02  0.05]]\n",
      "\n",
      "Difference:\n",
      "[[ 0.    0.    0.    0.   -0.   -0.  ]\n",
      " [ 0.   -0.   -0.    0.   -0.   -0.  ]\n",
      " [ 0.   -0.    0.01  0.    0.   -0.  ]\n",
      " [ 0.    0.    0.   -0.    0.    0.  ]\n",
      " [-0.   -0.    0.    0.   -0.01  0.  ]\n",
      " [-0.   -0.   -0.    0.    0.   -0.  ]]\n"
     ]
    }
   ],
   "source": [
    "fig, ax = plt.subplots(figsize=(12, 6))\n",
    "\n",
    "ax.scatter(\n",
    "    numpy.arange(m_true.size), m_true, label=\"True value\", marker=\"v\", color=\"k\",\n",
    ")\n",
    "\n",
    "ax.errorbar(\n",
    "    numpy.arange(sampling_dense_MEAN_prior.size),\n",
    "    sampling_dense_MEAN_prior,\n",
    "    yerr=numpy.diag(sampling_dense_SIGMA_prior),\n",
    "    fmt=\"o\",\n",
    "    capsize=6,\n",
    "    label=\"Sampling\",\n",
    ")\n",
    "\n",
    "ax.errorbar(\n",
    "    numpy.arange(dense_MEAN_prior.size),\n",
    "    dense_MEAN_prior,\n",
    "    yerr=numpy.diag(dense_SIGMA_prior),\n",
    "    fmt=\"x\",\n",
    "    capsize=6,\n",
    "    label=\"Analytical\",\n",
    "    alpha=0.8,\n",
    ")\n",
    "\n",
    "ax.errorbar(\n",
    "    numpy.arange(dense_MEAN.size),\n",
    "    dense_MEAN,\n",
    "    yerr=numpy.diag(dense_SIGMA),\n",
    "    fmt=\"x\",\n",
    "    capsize=6,\n",
    "    label=\"Dense without prior (previous)\",\n",
    "    alpha=0.5,\n",
    ")\n",
    "\n",
    "ax.legend()\n",
    "ax.set_ylim([-0.5, 2.25])\n",
    "ax.set_ylabel(\"Parameter estimate\")\n",
    "ax.set_xlabel(\"Parameter index\")\n",
    "ax.set_title(\"Parameter estimates\\nmeans: markers, sigma: lines\")\n",
    "plt.show()\n",
    "\n",
    "print(\n",
    "    \"BE AWARE, I print only up to 2 digits. \"\n",
    "    \"The sampling covariance will appear less \"\n",
    "    \"accurate when printing more digits.\"\n",
    ")\n",
    "print()\n",
    "print(\"Analytical covariance matrix:\")\n",
    "print(dense_COV_prior)\n",
    "print()\n",
    "print(\"Sampling covariance matrix:\")\n",
    "print(sampling_dense_COV_prior)\n",
    "\n",
    "print()\n",
    "print(\"Difference:\")\n",
    "print(sampling_dense_COV_prior - dense_COV_prior)"
   ]
  },
  {
   "cell_type": "markdown",
   "metadata": {},
   "source": [
    "Again, our sampling corresponds to our analytical solution! The prior has two main impacts on the posterior:\n",
    "\n",
    "1. The prior reduces variation (uncertainty) in the posterior by decreasing variances for parameters as well as tuning the correlation matrix to that of the prior. The amount the posterior correlation correspond to the prior correlation (which in this case was the identity matrix, no correlation) depends on the prior variance. Try changing it and visualizing the posterior correlation matrix (**If you do this, also remember to re-tune the algorithm if you're not using autotuning!**).\n",
    "\n",
    "2. The prior 'pulls' posterior means towards prior means. But, because there are correlations introduced through the data covariance matrix and the forward model matrix, a pull in one dimension might trade-off with a 'push' for another parameter. In more mathematical terms; in e.g. 2d, a Gaussian unit prior prefers the point (0.5, 0.5) to (1.0, 0.0)."
   ]
  },
  {
   "cell_type": "markdown",
   "metadata": {},
   "source": [
    "## Case 4 - A non-Gaussian prior"
   ]
  },
  {
   "cell_type": "markdown",
   "metadata": {},
   "source": [
    "In this final example we'll test the influence of using a non-Gaussian prior. In this case, we can not solve the inverse problem analytically anymore. Our comparison can now only be done to a different posterior (i.e. the posterior from the previous case) to assess the impact of the prior.\n",
    "\n",
    "We'll use a prior that promotes sparsity. What this means, is that this prior 'prefers' solutions where many entries are zero (or many entries are at its mean, we can define what value that is). This is quantified by the Laplace distribution. In 1 dimensions it's probability density function is proportional to the exponent of the L1 distance to a mean scaled by a disperion $b$: \n",
    "\n",
    "$$\n",
    "    \\text{Laplace}(x;\\: \\mu, b) \\propto \\exp \\left( - \\frac{|x-\\mu|}{b}  \\right)\n",
    "$$\n",
    "\n",
    "By supplementing `hmc_tomography.Distributions.Laplace` with two vectors assumes `n` decoupled Laplace distributions. Next, we use Bayes' rule (in `hmc_tomography.Distributions.BayesRule`) to combine the prior and likelihood into the posterior."
   ]
  },
  {
   "cell_type": "code",
   "execution_count": 28,
   "metadata": {},
   "outputs": [],
   "source": [
    "# Create prior\n",
    "means = numpy.zeros((dimensions, 1))\n",
    "dispersion = 0.25 * numpy.ones((dimensions, 1))\n",
    "\n",
    "prior_laplace = hmc_tomography.Distributions.Laplace(means, dispersion)\n",
    "\n",
    "posterior_laplace = hmc_tomography.Distributions.BayesRule([prior_laplace, likelihood])"
   ]
  },
  {
   "cell_type": "markdown",
   "metadata": {},
   "source": [
    "And we go through all the motions again:"
   ]
  },
  {
   "cell_type": "code",
   "execution_count": 29,
   "metadata": {},
   "outputs": [
    {
     "name": "stderr",
     "output_type": "stream",
     "text": [
      "sys:1: Warning: \r\n",
      "Silently overwriting samples file (bin_samples/tutorial_2_dense_covariance_with_laplace_prior.h5) if it exists.\n",
      "/home/larsgebraad/Documents/Hamiltonian Monte Carlo/hmc-tomography/hmc_tomography/Samplers.py:1282: UserWarning: The stepsize of the algorithm went below zero. You possibly started the algorithm in a region with extremely strong gradients. The sampler will now default to a minimum stepsize of 1e-18. If this doesn't work, and if choosing a different initial model does not make this warning go away, trysetting a smaller minimal stepsize and initial stepsize value.\n",
      "  \"The stepsize of the algorithm went below zero. You possibly \"\n"
     ]
    },
    {
     "data": {
      "application/vnd.jupyter.widget-view+json": {
       "model_id": "7593ae9b957141088bb9cd4da51f7335",
       "version_major": 2,
       "version_minor": 0
      },
      "text/plain": [
       "HBox(children=(HTML(value='Sampling. Acceptance rate:'), FloatProgress(value=0.0, layout=Layout(flex='2'), max…"
      ]
     },
     "metadata": {},
     "output_type": "display_data"
    },
    {
     "name": "stdout",
     "output_type": "stream",
     "text": [
      "\n"
     ]
    }
   ],
   "source": [
    "HMC().sample(\n",
    "    \"bin_samples/tutorial_2_dense_covariance_with_laplace_prior.h5\",\n",
    "    posterior_laplace,\n",
    "    mass_matrix=hmc_tomography.MassMatrices.Unit(posterior_laplace.dimensions),\n",
    "    proposals=5000,\n",
    "    initial_model=m_true,\n",
    "    autotuning=True,\n",
    "    online_thinning=1,\n",
    "    overwrite_existing_file=True,\n",
    ")"
   ]
  },
  {
   "cell_type": "code",
   "execution_count": 30,
   "metadata": {},
   "outputs": [
    {
     "data": {
      "image/png": "[encoded data removed]",
      "text/plain": [
       "<Figure size 864x864 with 9 Axes>"
      ]
     },
     "metadata": {
      "needs_background": "light"
     },
     "output_type": "display_data"
    }
   ],
   "source": [
    "with hmc_tomography.Samples(\n",
    "    \"bin_samples/tutorial_2_dense_covariance_with_laplace_prior.h5\", burn_in=100\n",
    ") as samples_posterior:\n",
    "\n",
    "    hmc_tomography.Visualization.marginal_grid(\n",
    "        samples_posterior, [0, 1, 2], figsize=(12, 12)\n",
    "    )\n",
    "\n",
    "    sampling_dense_MEAN_prior_laplace = numpy.mean(samples_posterior[:-1, :], axis=1)\n",
    "\n",
    "    sampling_dense_COV_prior_laplace = numpy.cov(samples_posterior[:-1, :])\n",
    "\n",
    "    sampling_dense_SIGMA_prior_laplace = numpy.diag(\n",
    "        numpy.diag(sampling_dense_COV_prior_laplace) ** 0.5\n",
    "    )\n",
    "\n",
    "    sampling_dense_COR_prior_laplace = (\n",
    "        numpy.linalg.inv(sampling_dense_SIGMA_prior_laplace)\n",
    "        @ sampling_dense_COV_prior_laplace\n",
    "        @ numpy.linalg.inv(sampling_dense_SIGMA_prior_laplace)\n",
    "    )"
   ]
  },
  {
   "cell_type": "code",
   "execution_count": 31,
   "metadata": {},
   "outputs": [
    {
     "data": {
      "image/png": "[encoded data removed]",
      "text/plain": [
       "<Figure size 864x432 with 1 Axes>"
      ]
     },
     "metadata": {
      "needs_background": "light"
     },
     "output_type": "display_data"
    }
   ],
   "source": [
    "fig, ax = plt.subplots(figsize=(12, 6))\n",
    "\n",
    "ax.scatter(\n",
    "    numpy.arange(m_true.size), m_true, label=\"True value\", marker=\"v\", color=\"k\",\n",
    ")\n",
    "\n",
    "ax.errorbar(\n",
    "    numpy.arange(sampling_dense_MEAN_prior_laplace.size),\n",
    "    sampling_dense_MEAN_prior_laplace,\n",
    "    yerr=numpy.diag(sampling_dense_SIGMA_prior_laplace),\n",
    "    fmt=\"x\",\n",
    "    capsize=6,\n",
    "    label=\"Laplace prior\",\n",
    "    alpha=0.8,\n",
    ")\n",
    "\n",
    "ax.errorbar(\n",
    "    numpy.arange(sampling_dense_MEAN_prior.size),\n",
    "    sampling_dense_MEAN_prior,\n",
    "    yerr=numpy.diag(sampling_dense_SIGMA_prior),\n",
    "    fmt=\"o\",\n",
    "    capsize=6,\n",
    "    label=\"Gaussian prior (previous)\",\n",
    ")\n",
    "\n",
    "\n",
    "ax.legend()\n",
    "ax.set_ylim([-0.5, 2.25])\n",
    "ax.set_ylabel(\"Parameter estimate\")\n",
    "ax.set_xlabel(\"Parameter index\")\n",
    "ax.set_title(\"Parameter estimates\\nmeans: markers, sigma: lines\")\n",
    "plt.show()"
   ]
  },
  {
   "cell_type": "markdown",
   "metadata": {},
   "source": [
    "It seems that using the Laplace prior gives us strong certainty for model parameters that are 0. Because of this, we can resolve trade-offs to other parameters better and the means of all parameters end up closer to the true solutions. This should be a logical consequence, because we added quite strong prior knowledge (our true solution is sparse) which helped to bring the posterior closer to the true solution.\n",
    "\n",
    "We can see that for most parameters; uncertainties are lower by adding this effective prior:"
   ]
  },
  {
   "cell_type": "code",
   "execution_count": 32,
   "metadata": {},
   "outputs": [
    {
     "name": "stdout",
     "output_type": "stream",
     "text": [
      "[0.23 0.2  0.24 0.34 0.16 0.19]\n",
      "[0.23 0.18 0.31 0.33 0.18 0.23]\n"
     ]
    }
   ],
   "source": [
    "print(numpy.diag(sampling_dense_SIGMA_prior_laplace))\n",
    "\n",
    "print(numpy.diag(sampling_dense_SIGMA_prior))"
   ]
  },
  {
   "cell_type": "markdown",
   "metadata": {},
   "source": [
    "Looking at the marginals of the two posteriors also well illustrates the non-Gaussianity, as well as the increased accuracy of the posterior."
   ]
  },
  {
   "cell_type": "code",
   "execution_count": 33,
   "metadata": {},
   "outputs": [
    {
     "data": {
      "image/png": "[encoded data removed]",
      "text/plain": [
       "<Figure size 576x864 with 6 Axes>"
      ]
     },
     "metadata": {
      "needs_background": "light"
     },
     "output_type": "display_data"
    }
   ],
   "source": [
    "with hmc_tomography.Samples(\n",
    "    \"bin_samples/tutorial_2_dense_covariance_with_laplace_prior.h5\", burn_in=100\n",
    ") as samples_posterior_laplace, hmc_tomography.Samples(\n",
    "    \"bin_samples/tutorial_2_dense_covariance_with_gaussian_prior.h5\", burn_in=100\n",
    ") as samples_posterior_gaussian, hmc_tomography.Samples(\n",
    "    \"bin_samples/tutorial_2_dense_covariance.h5\", burn_in=100\n",
    ") as samples_posterior:\n",
    "\n",
    "    fix, axes = plt.subplots(6, 1, figsize=(8, 12))\n",
    "\n",
    "    plt.tight_layout()\n",
    "\n",
    "    ylims = []\n",
    "\n",
    "    for i in range(6):\n",
    "        #         axes[i].hist(samples_posterior[i, :], bins=50, label=\"No prior\", alpha=0.3, density=True)\n",
    "\n",
    "        axes[i].hist(\n",
    "            samples_posterior_gaussian[i, :],\n",
    "            bins=50,\n",
    "            label=\"Gaussian\",\n",
    "            alpha=0.3,\n",
    "            density=True,\n",
    "        )\n",
    "        axes[i].hist(\n",
    "            samples_posterior_laplace[i, :],\n",
    "            bins=50,\n",
    "            label=\"Laplace\",\n",
    "            alpha=0.3,\n",
    "            density=True,\n",
    "        )\n",
    "        axes[i].set_xlim([-0.5, 2.5])\n",
    "        axes[i].set_xlabel(f\"Parameter {i}\")\n",
    "        axes[i].set_ylabel(f\"Probability density\")\n",
    "\n",
    "        ylims.append(axes[i].get_ylim())\n",
    "\n",
    "    ymax = numpy.max(numpy.array(ylims))\n",
    "\n",
    "    for i in range(6):\n",
    "\n",
    "        axes[i].plot([m_true[i], m_true[i]], [0, ymax], label=\"true value\")\n",
    "        axes[i].set_ylim([0, ymax])\n",
    "\n",
    "    axes[0].legend()"
   ]
  }
 ],
 "metadata": {
  "language_info": {
   "codemirror_mode": {
    "name": "ipython",
    "version": 3
   },
   "file_extension": ".py",
   "mimetype": "text/x-python",
   "name": "python",
   "nbconvert_exporter": "python",
   "pygments_lexer": "ipython3",
   "version": "3.7.6"
  },
  "widgets": {
   "application/vnd.jupyter.widget-state+json": {
    "state": {
     "07f0bd82f5d64d95856be805da6c7b1e": {
      "model_module": "@jupyter-widgets/base",
      "model_module_version": "1.2.0",
      "model_name": "LayoutModel",
      "state": {
       "_model_module": "@jupyter-widgets/base",
       "_model_module_version": "1.2.0",
       "_model_name": "LayoutModel",
       "_view_count": null,
       "_view_module": "@jupyter-widgets/base",
       "_view_module_version": "1.2.0",
       "_view_name": "LayoutView",
       "align_content": null,
       "align_items": null,
       "align_self": null,
       "border": null,
       "bottom": null,
       "display": null,
       "flex": null,
       "flex_flow": null,
       "grid_area": null,
       "grid_auto_columns": null,
       "grid_auto_flow": null,
       "grid_auto_rows": null,
       "grid_column": null,
       "grid_gap": null,
       "grid_row": null,
       "grid_template_areas": null,
       "grid_template_columns": null,
       "grid_template_rows": null,
       "height": null,
       "justify_content": null,
       "justify_items": null,
       "left": null,
       "margin": null,
       "max_height": null,
       "max_width": null,
       "min_height": null,
       "min_width": null,
       "object_fit": null,
       "object_position": null,
       "order": null,
       "overflow": null,
       "overflow_x": null,
       "overflow_y": null,
       "padding": null,
       "right": null,
       "top": null,
       "visibility": null,
       "width": null
      }
     },
     "183d5cd351b24af19a2487e214e72e49": {
      "model_module": "@jupyter-widgets/controls",
      "model_module_version": "1.5.0",
      "model_name": "DescriptionStyleModel",
      "state": {
       "_model_module": "@jupyter-widgets/controls",
       "_model_module_version": "1.5.0",
       "_model_name": "DescriptionStyleModel",
       "_view_count": null,
       "_view_module": "@jupyter-widgets/base",
       "_view_module_version": "1.2.0",
       "_view_name": "StyleView",
       "description_width": ""
      }
     },
     "1a44d95018954d06939628bbe7eb562f": {
      "model_module": "@jupyter-widgets/controls",
      "model_module_version": "1.5.0",
      "model_name": "DescriptionStyleModel",
      "state": {
       "_model_module": "@jupyter-widgets/controls",
       "_model_module_version": "1.5.0",
       "_model_name": "DescriptionStyleModel",
       "_view_count": null,
       "_view_module": "@jupyter-widgets/base",
       "_view_module_version": "1.2.0",
       "_view_name": "StyleView",
       "description_width": ""
      }
     },
     "1ae0d985448049bdb6c514a00014b92b": {
      "model_module": "@jupyter-widgets/controls",
      "model_module_version": "1.5.0",
      "model_name": "ProgressStyleModel",
      "state": {
       "_model_module": "@jupyter-widgets/controls",
       "_model_module_version": "1.5.0",
       "_model_name": "ProgressStyleModel",
       "_view_count": null,
       "_view_module": "@jupyter-widgets/base",
       "_view_module_version": "1.2.0",
       "_view_name": "StyleView",
       "bar_color": null,
       "description_width": ""
      }
     },
     "2268ea5966bf4b10b699c3dddcc85bae": {
      "model_module": "@jupyter-widgets/base",
      "model_module_version": "1.2.0",
      "model_name": "LayoutModel",
      "state": {
       "_model_module": "@jupyter-widgets/base",
       "_model_module_version": "1.2.0",
       "_model_name": "LayoutModel",
       "_view_count": null,
       "_view_module": "@jupyter-widgets/base",
       "_view_module_version": "1.2.0",
       "_view_name": "LayoutView",
       "align_content": null,
       "align_items": null,
       "align_self": null,
       "border": null,
       "bottom": null,
       "display": null,
       "flex": null,
       "flex_flow": null,
       "grid_area": null,
       "grid_auto_columns": null,
       "grid_auto_flow": null,
       "grid_auto_rows": null,
       "grid_column": null,
       "grid_gap": null,
       "grid_row": null,
       "grid_template_areas": null,
       "grid_template_columns": null,
       "grid_template_rows": null,
       "height": null,
       "justify_content": null,
       "justify_items": null,
       "left": null,
       "margin": null,
       "max_height": null,
       "max_width": null,
       "min_height": null,
       "min_width": null,
       "object_fit": null,
       "object_position": null,
       "order": null,
       "overflow": null,
       "overflow_x": null,
       "overflow_y": null,
       "padding": null,
       "right": null,
       "top": null,
       "visibility": null,
       "width": null
      }
     },
     "2b19e1f6094e487b89c060f14805f36a": {
      "model_module": "@jupyter-widgets/controls",
      "model_module_version": "1.5.0",
      "model_name": "HTMLModel",
      "state": {
       "_dom_classes": [],
       "_model_module": "@jupyter-widgets/controls",
       "_model_module_version": "1.5.0",
       "_model_name": "HTMLModel",
       "_view_count": null,
       "_view_module": "@jupyter-widgets/controls",
       "_view_module_version": "1.5.0",
       "_view_name": "HTMLView",
       "description": "",
       "description_tooltip": null,
       "layout": "IPY_MODEL_7df860eb46e44ee3b42f1d6e0414a52d",
       "placeholder": "​",
       "style": "IPY_MODEL_ca6964118d7d4b8a8558ba76233d913b",
       "value": " 5000/5000 [00:03&lt;00:00, 1505.10it/s]"
      }
     },
     "3aeae865899e4df3b33beed2630a7777": {
      "model_module": "@jupyter-widgets/controls",
      "model_module_version": "1.5.0",
      "model_name": "HTMLModel",
      "state": {
       "_dom_classes": [],
       "_model_module": "@jupyter-widgets/controls",
       "_model_module_version": "1.5.0",
       "_model_name": "HTMLModel",
       "_view_count": null,
       "_view_module": "@jupyter-widgets/controls",
       "_view_module_version": "1.5.0",
       "_view_name": "HTMLView",
       "description": "",
       "description_tooltip": null,
       "layout": "IPY_MODEL_658b9b3bad4f4f6196b8dd784f4aedb4",
       "placeholder": "​",
       "style": "IPY_MODEL_a4f6613c912c4e04843cdcde813bf871",
       "value": "Tot. acc rate: 0.65. Progress: 100%"
      }
     },
     "40a25f398d4c4d9e9575676e3cbf7287": {
      "model_module": "@jupyter-widgets/controls",
      "model_module_version": "1.5.0",
      "model_name": "ProgressStyleModel",
      "state": {
       "_model_module": "@jupyter-widgets/controls",
       "_model_module_version": "1.5.0",
       "_model_name": "ProgressStyleModel",
       "_view_count": null,
       "_view_module": "@jupyter-widgets/base",
       "_view_module_version": "1.2.0",
       "_view_name": "StyleView",
       "bar_color": null,
       "description_width": ""
      }
     },
     "42e75d2bfb554d2cb29c43875060458a": {
      "model_module": "@jupyter-widgets/controls",
      "model_module_version": "1.5.0",
      "model_name": "HTMLModel",
      "state": {
       "_dom_classes": [],
       "_model_module": "@jupyter-widgets/controls",
       "_model_module_version": "1.5.0",
       "_model_name": "HTMLModel",
       "_view_count": null,
       "_view_module": "@jupyter-widgets/controls",
       "_view_module_version": "1.5.0",
       "_view_name": "HTMLView",
       "description": "",
       "description_tooltip": null,
       "layout": "IPY_MODEL_07f0bd82f5d64d95856be805da6c7b1e",
       "placeholder": "​",
       "style": "IPY_MODEL_1a44d95018954d06939628bbe7eb562f",
       "value": "Tot. acc rate: 0.64. Progress: 100%"
      }
     },
     "446055c697e14410916a7a092037f8c2": {
      "model_module": "@jupyter-widgets/controls",
      "model_module_version": "1.5.0",
      "model_name": "HBoxModel",
      "state": {
       "_dom_classes": [],
       "_model_module": "@jupyter-widgets/controls",
       "_model_module_version": "1.5.0",
       "_model_name": "HBoxModel",
       "_view_count": null,
       "_view_module": "@jupyter-widgets/controls",
       "_view_module_version": "1.5.0",
       "_view_name": "HBoxView",
       "box_style": "",
       "children": [
        "IPY_MODEL_aea4764ab795422aafdba275fe0c3abf",
        "IPY_MODEL_de4341fbd7694373901266d169c24e77",
        "IPY_MODEL_71cd39a8b723413fb8fcfa6307d6f5c1"
       ],
       "layout": "IPY_MODEL_9263b47f475846a5a892bb25d32d0524"
      }
     },
     "44f4688ff9474b84a1754131b9ba0852": {
      "model_module": "@jupyter-widgets/base",
      "model_module_version": "1.2.0",
      "model_name": "LayoutModel",
      "state": {
       "_model_module": "@jupyter-widgets/base",
       "_model_module_version": "1.2.0",
       "_model_name": "LayoutModel",
       "_view_count": null,
       "_view_module": "@jupyter-widgets/base",
       "_view_module_version": "1.2.0",
       "_view_name": "LayoutView",
       "align_content": null,
       "align_items": null,
       "align_self": null,
       "border": null,
       "bottom": null,
       "display": null,
       "flex": null,
       "flex_flow": null,
       "grid_area": null,
       "grid_auto_columns": null,
       "grid_auto_flow": null,
       "grid_auto_rows": null,
       "grid_column": null,
       "grid_gap": null,
       "grid_row": null,
       "grid_template_areas": null,
       "grid_template_columns": null,
       "grid_template_rows": null,
       "height": null,
       "justify_content": null,
       "justify_items": null,
       "left": null,
       "margin": null,
       "max_height": null,
       "max_width": null,
       "min_height": null,
       "min_width": null,
       "object_fit": null,
       "object_position": null,
       "order": null,
       "overflow": null,
       "overflow_x": null,
       "overflow_y": null,
       "padding": null,
       "right": null,
       "top": null,
       "visibility": null,
       "width": null
      }
     },
     "48bf0849e2924bdbbd45d430a6b1820c": {
      "model_module": "@jupyter-widgets/base",
      "model_module_version": "1.2.0",
      "model_name": "LayoutModel",
      "state": {
       "_model_module": "@jupyter-widgets/base",
       "_model_module_version": "1.2.0",
       "_model_name": "LayoutModel",
       "_view_count": null,
       "_view_module": "@jupyter-widgets/base",
       "_view_module_version": "1.2.0",
       "_view_name": "LayoutView",
       "align_content": null,
       "align_items": null,
       "align_self": null,
       "border": null,
       "bottom": null,
       "display": null,
       "flex": "2",
       "flex_flow": null,
       "grid_area": null,
       "grid_auto_columns": null,
       "grid_auto_flow": null,
       "grid_auto_rows": null,
       "grid_column": null,
       "grid_gap": null,
       "grid_row": null,
       "grid_template_areas": null,
       "grid_template_columns": null,
       "grid_template_rows": null,
       "height": null,
       "justify_content": null,
       "justify_items": null,
       "left": null,
       "margin": null,
       "max_height": null,
       "max_width": null,
       "min_height": null,
       "min_width": null,
       "object_fit": null,
       "object_position": null,
       "order": null,
       "overflow": null,
       "overflow_x": null,
       "overflow_y": null,
       "padding": null,
       "right": null,
       "top": null,
       "visibility": null,
       "width": null
      }
     },
     "4cf9ae3ec18a4d96b5d0f87b1d0f290e": {
      "model_module": "@jupyter-widgets/controls",
      "model_module_version": "1.5.0",
      "model_name": "HBoxModel",
      "state": {
       "_dom_classes": [],
       "_model_module": "@jupyter-widgets/controls",
       "_model_module_version": "1.5.0",
       "_model_name": "HBoxModel",
       "_view_count": null,
       "_view_module": "@jupyter-widgets/controls",
       "_view_module_version": "1.5.0",
       "_view_name": "HBoxView",
       "box_style": "",
       "children": [
        "IPY_MODEL_42e75d2bfb554d2cb29c43875060458a",
        "IPY_MODEL_8a7c04ccca744fa4a05bd5eae1f97eea",
        "IPY_MODEL_2b19e1f6094e487b89c060f14805f36a"
       ],
       "layout": "IPY_MODEL_9bc609d1f7b0443fb775f94098902918"
      }
     },
     "4e74f9545e7a496690f73a6f12f9687a": {
      "model_module": "@jupyter-widgets/base",
      "model_module_version": "1.2.0",
      "model_name": "LayoutModel",
      "state": {
       "_model_module": "@jupyter-widgets/base",
       "_model_module_version": "1.2.0",
       "_model_name": "LayoutModel",
       "_view_count": null,
       "_view_module": "@jupyter-widgets/base",
       "_view_module_version": "1.2.0",
       "_view_name": "LayoutView",
       "align_content": null,
       "align_items": null,
       "align_self": null,
       "border": null,
       "bottom": null,
       "display": "inline-flex",
       "flex": null,
       "flex_flow": "row wrap",
       "grid_area": null,
       "grid_auto_columns": null,
       "grid_auto_flow": null,
       "grid_auto_rows": null,
       "grid_column": null,
       "grid_gap": null,
       "grid_row": null,
       "grid_template_areas": null,
       "grid_template_columns": null,
       "grid_template_rows": null,
       "height": null,
       "justify_content": null,
       "justify_items": null,
       "left": null,
       "margin": null,
       "max_height": null,
       "max_width": null,
       "min_height": null,
       "min_width": null,
       "object_fit": null,
       "object_position": null,
       "order": null,
       "overflow": null,
       "overflow_x": null,
       "overflow_y": null,
       "padding": null,
       "right": null,
       "top": null,
       "visibility": null,
       "width": "100%"
      }
     },
     "56dfd0a267d64013a388b72dff3f8ab9": {
      "model_module": "@jupyter-widgets/controls",
      "model_module_version": "1.5.0",
      "model_name": "DescriptionStyleModel",
      "state": {
       "_model_module": "@jupyter-widgets/controls",
       "_model_module_version": "1.5.0",
       "_model_name": "DescriptionStyleModel",
       "_view_count": null,
       "_view_module": "@jupyter-widgets/base",
       "_view_module_version": "1.2.0",
       "_view_name": "StyleView",
       "description_width": ""
      }
     },
     "57e647f85b4b4fbb90621277e5b20bb3": {
      "model_module": "@jupyter-widgets/base",
      "model_module_version": "1.2.0",
      "model_name": "LayoutModel",
      "state": {
       "_model_module": "@jupyter-widgets/base",
       "_model_module_version": "1.2.0",
       "_model_name": "LayoutModel",
       "_view_count": null,
       "_view_module": "@jupyter-widgets/base",
       "_view_module_version": "1.2.0",
       "_view_name": "LayoutView",
       "align_content": null,
       "align_items": null,
       "align_self": null,
       "border": null,
       "bottom": null,
       "display": null,
       "flex": "2",
       "flex_flow": null,
       "grid_area": null,
       "grid_auto_columns": null,
       "grid_auto_flow": null,
       "grid_auto_rows": null,
       "grid_column": null,
       "grid_gap": null,
       "grid_row": null,
       "grid_template_areas": null,
       "grid_template_columns": null,
       "grid_template_rows": null,
       "height": null,
       "justify_content": null,
       "justify_items": null,
       "left": null,
       "margin": null,
       "max_height": null,
       "max_width": null,
       "min_height": null,
       "min_width": null,
       "object_fit": null,
       "object_position": null,
       "order": null,
       "overflow": null,
       "overflow_x": null,
       "overflow_y": null,
       "padding": null,
       "right": null,
       "top": null,
       "visibility": null,
       "width": null
      }
     },
     "5d2c4ac269f240228c61ce3ba30c81b9": {
      "model_module": "@jupyter-widgets/controls",
      "model_module_version": "1.5.0",
      "model_name": "HTMLModel",
      "state": {
       "_dom_classes": [],
       "_model_module": "@jupyter-widgets/controls",
       "_model_module_version": "1.5.0",
       "_model_name": "HTMLModel",
       "_view_count": null,
       "_view_module": "@jupyter-widgets/controls",
       "_view_module_version": "1.5.0",
       "_view_name": "HTMLView",
       "description": "",
       "description_tooltip": null,
       "layout": "IPY_MODEL_2268ea5966bf4b10b699c3dddcc85bae",
       "placeholder": "​",
       "style": "IPY_MODEL_56dfd0a267d64013a388b72dff3f8ab9",
       "value": "Tot. acc rate: 0.64. Progress: 100%"
      }
     },
     "5d6fbf8dd066409e83f497ef7e999d62": {
      "model_module": "@jupyter-widgets/controls",
      "model_module_version": "1.5.0",
      "model_name": "FloatProgressModel",
      "state": {
       "_dom_classes": [],
       "_model_module": "@jupyter-widgets/controls",
       "_model_module_version": "1.5.0",
       "_model_name": "FloatProgressModel",
       "_view_count": null,
       "_view_module": "@jupyter-widgets/controls",
       "_view_module_version": "1.5.0",
       "_view_name": "ProgressView",
       "bar_style": "success",
       "description": "",
       "description_tooltip": null,
       "layout": "IPY_MODEL_e9953728d492406e8512df7a80b7f03f",
       "max": 5000.0,
       "min": 0.0,
       "orientation": "horizontal",
       "style": "IPY_MODEL_40a25f398d4c4d9e9575676e3cbf7287",
       "value": 5000.0
      }
     },
     "5eb8f55de0734bdc91a5f3bb0e30b745": {
      "model_module": "@jupyter-widgets/base",
      "model_module_version": "1.2.0",
      "model_name": "LayoutModel",
      "state": {
       "_model_module": "@jupyter-widgets/base",
       "_model_module_version": "1.2.0",
       "_model_name": "LayoutModel",
       "_view_count": null,
       "_view_module": "@jupyter-widgets/base",
       "_view_module_version": "1.2.0",
       "_view_name": "LayoutView",
       "align_content": null,
       "align_items": null,
       "align_self": null,
       "border": null,
       "bottom": null,
       "display": null,
       "flex": null,
       "flex_flow": null,
       "grid_area": null,
       "grid_auto_columns": null,
       "grid_auto_flow": null,
       "grid_auto_rows": null,
       "grid_column": null,
       "grid_gap": null,
       "grid_row": null,
       "grid_template_areas": null,
       "grid_template_columns": null,
       "grid_template_rows": null,
       "height": null,
       "justify_content": null,
       "justify_items": null,
       "left": null,
       "margin": null,
       "max_height": null,
       "max_width": null,
       "min_height": null,
       "min_width": null,
       "object_fit": null,
       "object_position": null,
       "order": null,
       "overflow": null,
       "overflow_x": null,
       "overflow_y": null,
       "padding": null,
       "right": null,
       "top": null,
       "visibility": null,
       "width": null
      }
     },
     "658b9b3bad4f4f6196b8dd784f4aedb4": {
      "model_module": "@jupyter-widgets/base",
      "model_module_version": "1.2.0",
      "model_name": "LayoutModel",
      "state": {
       "_model_module": "@jupyter-widgets/base",
       "_model_module_version": "1.2.0",
       "_model_name": "LayoutModel",
       "_view_count": null,
       "_view_module": "@jupyter-widgets/base",
       "_view_module_version": "1.2.0",
       "_view_name": "LayoutView",
       "align_content": null,
       "align_items": null,
       "align_self": null,
       "border": null,
       "bottom": null,
       "display": null,
       "flex": null,
       "flex_flow": null,
       "grid_area": null,
       "grid_auto_columns": null,
       "grid_auto_flow": null,
       "grid_auto_rows": null,
       "grid_column": null,
       "grid_gap": null,
       "grid_row": null,
       "grid_template_areas": null,
       "grid_template_columns": null,
       "grid_template_rows": null,
       "height": null,
       "justify_content": null,
       "justify_items": null,
       "left": null,
       "margin": null,
       "max_height": null,
       "max_width": null,
       "min_height": null,
       "min_width": null,
       "object_fit": null,
       "object_position": null,
       "order": null,
       "overflow": null,
       "overflow_x": null,
       "overflow_y": null,
       "padding": null,
       "right": null,
       "top": null,
       "visibility": null,
       "width": null
      }
     },
     "71cd39a8b723413fb8fcfa6307d6f5c1": {
      "model_module": "@jupyter-widgets/controls",
      "model_module_version": "1.5.0",
      "model_name": "HTMLModel",
      "state": {
       "_dom_classes": [],
       "_model_module": "@jupyter-widgets/controls",
       "_model_module_version": "1.5.0",
       "_model_name": "HTMLModel",
       "_view_count": null,
       "_view_module": "@jupyter-widgets/controls",
       "_view_module_version": "1.5.0",
       "_view_name": "HTMLView",
       "description": "",
       "description_tooltip": null,
       "layout": "IPY_MODEL_d0ad0e6a146942d88b1f6f5dc3f77901",
       "placeholder": "​",
       "style": "IPY_MODEL_c2b1f2a3a2a941fb9dbc4c6f388732e1",
       "value": " 5000/5000 [00:02&lt;00:00, 2142.27it/s]"
      }
     },
     "7593ae9b957141088bb9cd4da51f7335": {
      "model_module": "@jupyter-widgets/controls",
      "model_module_version": "1.5.0",
      "model_name": "HBoxModel",
      "state": {
       "_dom_classes": [],
       "_model_module": "@jupyter-widgets/controls",
       "_model_module_version": "1.5.0",
       "_model_name": "HBoxModel",
       "_view_count": null,
       "_view_module": "@jupyter-widgets/controls",
       "_view_module_version": "1.5.0",
       "_view_name": "HBoxView",
       "box_style": "",
       "children": [
        "IPY_MODEL_3aeae865899e4df3b33beed2630a7777",
        "IPY_MODEL_a2a29553c2c745ae90d517c03a9426bb",
        "IPY_MODEL_bb0c76e969eb402ca276fda44bf00e30"
       ],
       "layout": "IPY_MODEL_4e74f9545e7a496690f73a6f12f9687a"
      }
     },
     "784e99ab92b84a12880582e8b0fb4d4e": {
      "model_module": "@jupyter-widgets/controls",
      "model_module_version": "1.5.0",
      "model_name": "ProgressStyleModel",
      "state": {
       "_model_module": "@jupyter-widgets/controls",
       "_model_module_version": "1.5.0",
       "_model_name": "ProgressStyleModel",
       "_view_count": null,
       "_view_module": "@jupyter-widgets/base",
       "_view_module_version": "1.2.0",
       "_view_name": "StyleView",
       "bar_color": null,
       "description_width": ""
      }
     },
     "7df860eb46e44ee3b42f1d6e0414a52d": {
      "model_module": "@jupyter-widgets/base",
      "model_module_version": "1.2.0",
      "model_name": "LayoutModel",
      "state": {
       "_model_module": "@jupyter-widgets/base",
       "_model_module_version": "1.2.0",
       "_model_name": "LayoutModel",
       "_view_count": null,
       "_view_module": "@jupyter-widgets/base",
       "_view_module_version": "1.2.0",
       "_view_name": "LayoutView",
       "align_content": null,
       "align_items": null,
       "align_self": null,
       "border": null,
       "bottom": null,
       "display": null,
       "flex": null,
       "flex_flow": null,
       "grid_area": null,
       "grid_auto_columns": null,
       "grid_auto_flow": null,
       "grid_auto_rows": null,
       "grid_column": null,
       "grid_gap": null,
       "grid_row": null,
       "grid_template_areas": null,
       "grid_template_columns": null,
       "grid_template_rows": null,
       "height": null,
       "justify_content": null,
       "justify_items": null,
       "left": null,
       "margin": null,
       "max_height": null,
       "max_width": null,
       "min_height": null,
       "min_width": null,
       "object_fit": null,
       "object_position": null,
       "order": null,
       "overflow": null,
       "overflow_x": null,
       "overflow_y": null,
       "padding": null,
       "right": null,
       "top": null,
       "visibility": null,
       "width": null
      }
     },
     "8a7c04ccca744fa4a05bd5eae1f97eea": {
      "model_module": "@jupyter-widgets/controls",
      "model_module_version": "1.5.0",
      "model_name": "FloatProgressModel",
      "state": {
       "_dom_classes": [],
       "_model_module": "@jupyter-widgets/controls",
       "_model_module_version": "1.5.0",
       "_model_name": "FloatProgressModel",
       "_view_count": null,
       "_view_module": "@jupyter-widgets/controls",
       "_view_module_version": "1.5.0",
       "_view_name": "ProgressView",
       "bar_style": "success",
       "description": "",
       "description_tooltip": null,
       "layout": "IPY_MODEL_90a769c104b543209c8d9b9dc048797c",
       "max": 5000.0,
       "min": 0.0,
       "orientation": "horizontal",
       "style": "IPY_MODEL_784e99ab92b84a12880582e8b0fb4d4e",
       "value": 5000.0
      }
     },
     "90a769c104b543209c8d9b9dc048797c": {
      "model_module": "@jupyter-widgets/base",
      "model_module_version": "1.2.0",
      "model_name": "LayoutModel",
      "state": {
       "_model_module": "@jupyter-widgets/base",
       "_model_module_version": "1.2.0",
       "_model_name": "LayoutModel",
       "_view_count": null,
       "_view_module": "@jupyter-widgets/base",
       "_view_module_version": "1.2.0",
       "_view_name": "LayoutView",
       "align_content": null,
       "align_items": null,
       "align_self": null,
       "border": null,
       "bottom": null,
       "display": null,
       "flex": "2",
       "flex_flow": null,
       "grid_area": null,
       "grid_auto_columns": null,
       "grid_auto_flow": null,
       "grid_auto_rows": null,
       "grid_column": null,
       "grid_gap": null,
       "grid_row": null,
       "grid_template_areas": null,
       "grid_template_columns": null,
       "grid_template_rows": null,
       "height": null,
       "justify_content": null,
       "justify_items": null,
       "left": null,
       "margin": null,
       "max_height": null,
       "max_width": null,
       "min_height": null,
       "min_width": null,
       "object_fit": null,
       "object_position": null,
       "order": null,
       "overflow": null,
       "overflow_x": null,
       "overflow_y": null,
       "padding": null,
       "right": null,
       "top": null,
       "visibility": null,
       "width": null
      }
     },
     "9263b47f475846a5a892bb25d32d0524": {
      "model_module": "@jupyter-widgets/base",
      "model_module_version": "1.2.0",
      "model_name": "LayoutModel",
      "state": {
       "_model_module": "@jupyter-widgets/base",
       "_model_module_version": "1.2.0",
       "_model_name": "LayoutModel",
       "_view_count": null,
       "_view_module": "@jupyter-widgets/base",
       "_view_module_version": "1.2.0",
       "_view_name": "LayoutView",
       "align_content": null,
       "align_items": null,
       "align_self": null,
       "border": null,
       "bottom": null,
       "display": "inline-flex",
       "flex": null,
       "flex_flow": "row wrap",
       "grid_area": null,
       "grid_auto_columns": null,
       "grid_auto_flow": null,
       "grid_auto_rows": null,
       "grid_column": null,
       "grid_gap": null,
       "grid_row": null,
       "grid_template_areas": null,
       "grid_template_columns": null,
       "grid_template_rows": null,
       "height": null,
       "justify_content": null,
       "justify_items": null,
       "left": null,
       "margin": null,
       "max_height": null,
       "max_width": null,
       "min_height": null,
       "min_width": null,
       "object_fit": null,
       "object_position": null,
       "order": null,
       "overflow": null,
       "overflow_x": null,
       "overflow_y": null,
       "padding": null,
       "right": null,
       "top": null,
       "visibility": null,
       "width": "100%"
      }
     },
     "9bc609d1f7b0443fb775f94098902918": {
      "model_module": "@jupyter-widgets/base",
      "model_module_version": "1.2.0",
      "model_name": "LayoutModel",
      "state": {
       "_model_module": "@jupyter-widgets/base",
       "_model_module_version": "1.2.0",
       "_model_name": "LayoutModel",
       "_view_count": null,
       "_view_module": "@jupyter-widgets/base",
       "_view_module_version": "1.2.0",
       "_view_name": "LayoutView",
       "align_content": null,
       "align_items": null,
       "align_self": null,
       "border": null,
       "bottom": null,
       "display": "inline-flex",
       "flex": null,
       "flex_flow": "row wrap",
       "grid_area": null,
       "grid_auto_columns": null,
       "grid_auto_flow": null,
       "grid_auto_rows": null,
       "grid_column": null,
       "grid_gap": null,
       "grid_row": null,
       "grid_template_areas": null,
       "grid_template_columns": null,
       "grid_template_rows": null,
       "height": null,
       "justify_content": null,
       "justify_items": null,
       "left": null,
       "margin": null,
       "max_height": null,
       "max_width": null,
       "min_height": null,
       "min_width": null,
       "object_fit": null,
       "object_position": null,
       "order": null,
       "overflow": null,
       "overflow_x": null,
       "overflow_y": null,
       "padding": null,
       "right": null,
       "top": null,
       "visibility": null,
       "width": "100%"
      }
     },
     "9f107c2092ee4822bf0a18d70ae0896f": {
      "model_module": "@jupyter-widgets/controls",
      "model_module_version": "1.5.0",
      "model_name": "HBoxModel",
      "state": {
       "_dom_classes": [],
       "_model_module": "@jupyter-widgets/controls",
       "_model_module_version": "1.5.0",
       "_model_name": "HBoxModel",
       "_view_count": null,
       "_view_module": "@jupyter-widgets/controls",
       "_view_module_version": "1.5.0",
       "_view_name": "HBoxView",
       "box_style": "",
       "children": [
        "IPY_MODEL_5d2c4ac269f240228c61ce3ba30c81b9",
        "IPY_MODEL_5d6fbf8dd066409e83f497ef7e999d62",
        "IPY_MODEL_c29ba77defb04711ae708d411c9422ff"
       ],
       "layout": "IPY_MODEL_ba772b3bd74143dc8e6b30b19f595016"
      }
     },
     "a2a29553c2c745ae90d517c03a9426bb": {
      "model_module": "@jupyter-widgets/controls",
      "model_module_version": "1.5.0",
      "model_name": "FloatProgressModel",
      "state": {
       "_dom_classes": [],
       "_model_module": "@jupyter-widgets/controls",
       "_model_module_version": "1.5.0",
       "_model_name": "FloatProgressModel",
       "_view_count": null,
       "_view_module": "@jupyter-widgets/controls",
       "_view_module_version": "1.5.0",
       "_view_name": "ProgressView",
       "bar_style": "success",
       "description": "",
       "description_tooltip": null,
       "layout": "IPY_MODEL_48bf0849e2924bdbbd45d430a6b1820c",
       "max": 5000.0,
       "min": 0.0,
       "orientation": "horizontal",
       "style": "IPY_MODEL_1ae0d985448049bdb6c514a00014b92b",
       "value": 5000.0
      }
     },
     "a4f6613c912c4e04843cdcde813bf871": {
      "model_module": "@jupyter-widgets/controls",
      "model_module_version": "1.5.0",
      "model_name": "DescriptionStyleModel",
      "state": {
       "_model_module": "@jupyter-widgets/controls",
       "_model_module_version": "1.5.0",
       "_model_name": "DescriptionStyleModel",
       "_view_count": null,
       "_view_module": "@jupyter-widgets/base",
       "_view_module_version": "1.2.0",
       "_view_name": "StyleView",
       "description_width": ""
      }
     },
     "a64011830a61404a867e3afa9664d2a3": {
      "model_module": "@jupyter-widgets/base",
      "model_module_version": "1.2.0",
      "model_name": "LayoutModel",
      "state": {
       "_model_module": "@jupyter-widgets/base",
       "_model_module_version": "1.2.0",
       "_model_name": "LayoutModel",
       "_view_count": null,
       "_view_module": "@jupyter-widgets/base",
       "_view_module_version": "1.2.0",
       "_view_name": "LayoutView",
       "align_content": null,
       "align_items": null,
       "align_self": null,
       "border": null,
       "bottom": null,
       "display": null,
       "flex": null,
       "flex_flow": null,
       "grid_area": null,
       "grid_auto_columns": null,
       "grid_auto_flow": null,
       "grid_auto_rows": null,
       "grid_column": null,
       "grid_gap": null,
       "grid_row": null,
       "grid_template_areas": null,
       "grid_template_columns": null,
       "grid_template_rows": null,
       "height": null,
       "justify_content": null,
       "justify_items": null,
       "left": null,
       "margin": null,
       "max_height": null,
       "max_width": null,
       "min_height": null,
       "min_width": null,
       "object_fit": null,
       "object_position": null,
       "order": null,
       "overflow": null,
       "overflow_x": null,
       "overflow_y": null,
       "padding": null,
       "right": null,
       "top": null,
       "visibility": null,
       "width": null
      }
     },
     "aea4764ab795422aafdba275fe0c3abf": {
      "model_module": "@jupyter-widgets/controls",
      "model_module_version": "1.5.0",
      "model_name": "HTMLModel",
      "state": {
       "_dom_classes": [],
       "_model_module": "@jupyter-widgets/controls",
       "_model_module_version": "1.5.0",
       "_model_name": "HTMLModel",
       "_view_count": null,
       "_view_module": "@jupyter-widgets/controls",
       "_view_module_version": "1.5.0",
       "_view_name": "HTMLView",
       "description": "",
       "description_tooltip": null,
       "layout": "IPY_MODEL_5eb8f55de0734bdc91a5f3bb0e30b745",
       "placeholder": "​",
       "style": "IPY_MODEL_ce417d9d7f3841e2a791bafc2baee71a",
       "value": "Tot. acc rate: 0.65. Progress: 100%"
      }
     },
     "ba772b3bd74143dc8e6b30b19f595016": {
      "model_module": "@jupyter-widgets/base",
      "model_module_version": "1.2.0",
      "model_name": "LayoutModel",
      "state": {
       "_model_module": "@jupyter-widgets/base",
       "_model_module_version": "1.2.0",
       "_model_name": "LayoutModel",
       "_view_count": null,
       "_view_module": "@jupyter-widgets/base",
       "_view_module_version": "1.2.0",
       "_view_name": "LayoutView",
       "align_content": null,
       "align_items": null,
       "align_self": null,
       "border": null,
       "bottom": null,
       "display": "inline-flex",
       "flex": null,
       "flex_flow": "row wrap",
       "grid_area": null,
       "grid_auto_columns": null,
       "grid_auto_flow": null,
       "grid_auto_rows": null,
       "grid_column": null,
       "grid_gap": null,
       "grid_row": null,
       "grid_template_areas": null,
       "grid_template_columns": null,
       "grid_template_rows": null,
       "height": null,
       "justify_content": null,
       "justify_items": null,
       "left": null,
       "margin": null,
       "max_height": null,
       "max_width": null,
       "min_height": null,
       "min_width": null,
       "object_fit": null,
       "object_position": null,
       "order": null,
       "overflow": null,
       "overflow_x": null,
       "overflow_y": null,
       "padding": null,
       "right": null,
       "top": null,
       "visibility": null,
       "width": "100%"
      }
     },
     "bb0c76e969eb402ca276fda44bf00e30": {
      "model_module": "@jupyter-widgets/controls",
      "model_module_version": "1.5.0",
      "model_name": "HTMLModel",
      "state": {
       "_dom_classes": [],
       "_model_module": "@jupyter-widgets/controls",
       "_model_module_version": "1.5.0",
       "_model_name": "HTMLModel",
       "_view_count": null,
       "_view_module": "@jupyter-widgets/controls",
       "_view_module_version": "1.5.0",
       "_view_name": "HTMLView",
       "description": "",
       "description_tooltip": null,
       "layout": "IPY_MODEL_a64011830a61404a867e3afa9664d2a3",
       "placeholder": "​",
       "style": "IPY_MODEL_d204ad583846465eba0fbc7b2fc8a764",
       "value": " 5000/5000 [00:03&lt;00:00, 1274.81it/s]"
      }
     },
     "c2116422dcb9482ebcecda4f45c64c42": {
      "model_module": "@jupyter-widgets/controls",
      "model_module_version": "1.5.0",
      "model_name": "ProgressStyleModel",
      "state": {
       "_model_module": "@jupyter-widgets/controls",
       "_model_module_version": "1.5.0",
       "_model_name": "ProgressStyleModel",
       "_view_count": null,
       "_view_module": "@jupyter-widgets/base",
       "_view_module_version": "1.2.0",
       "_view_name": "StyleView",
       "bar_color": null,
       "description_width": ""
      }
     },
     "c29ba77defb04711ae708d411c9422ff": {
      "model_module": "@jupyter-widgets/controls",
      "model_module_version": "1.5.0",
      "model_name": "HTMLModel",
      "state": {
       "_dom_classes": [],
       "_model_module": "@jupyter-widgets/controls",
       "_model_module_version": "1.5.0",
       "_model_name": "HTMLModel",
       "_view_count": null,
       "_view_module": "@jupyter-widgets/controls",
       "_view_module_version": "1.5.0",
       "_view_name": "HTMLView",
       "description": "",
       "description_tooltip": null,
       "layout": "IPY_MODEL_44f4688ff9474b84a1754131b9ba0852",
       "placeholder": "​",
       "style": "IPY_MODEL_183d5cd351b24af19a2487e214e72e49",
       "value": " 5000/5000 [00:04&lt;00:00, 1157.59it/s]"
      }
     },
     "c2b1f2a3a2a941fb9dbc4c6f388732e1": {
      "model_module": "@jupyter-widgets/controls",
      "model_module_version": "1.5.0",
      "model_name": "DescriptionStyleModel",
      "state": {
       "_model_module": "@jupyter-widgets/controls",
       "_model_module_version": "1.5.0",
       "_model_name": "DescriptionStyleModel",
       "_view_count": null,
       "_view_module": "@jupyter-widgets/base",
       "_view_module_version": "1.2.0",
       "_view_name": "StyleView",
       "description_width": ""
      }
     },
     "ca6964118d7d4b8a8558ba76233d913b": {
      "model_module": "@jupyter-widgets/controls",
      "model_module_version": "1.5.0",
      "model_name": "DescriptionStyleModel",
      "state": {
       "_model_module": "@jupyter-widgets/controls",
       "_model_module_version": "1.5.0",
       "_model_name": "DescriptionStyleModel",
       "_view_count": null,
       "_view_module": "@jupyter-widgets/base",
       "_view_module_version": "1.2.0",
       "_view_name": "StyleView",
       "description_width": ""
      }
     },
     "ce417d9d7f3841e2a791bafc2baee71a": {
      "model_module": "@jupyter-widgets/controls",
      "model_module_version": "1.5.0",
      "model_name": "DescriptionStyleModel",
      "state": {
       "_model_module": "@jupyter-widgets/controls",
       "_model_module_version": "1.5.0",
       "_model_name": "DescriptionStyleModel",
       "_view_count": null,
       "_view_module": "@jupyter-widgets/base",
       "_view_module_version": "1.2.0",
       "_view_name": "StyleView",
       "description_width": ""
      }
     },
     "d0ad0e6a146942d88b1f6f5dc3f77901": {
      "model_module": "@jupyter-widgets/base",
      "model_module_version": "1.2.0",
      "model_name": "LayoutModel",
      "state": {
       "_model_module": "@jupyter-widgets/base",
       "_model_module_version": "1.2.0",
       "_model_name": "LayoutModel",
       "_view_count": null,
       "_view_module": "@jupyter-widgets/base",
       "_view_module_version": "1.2.0",
       "_view_name": "LayoutView",
       "align_content": null,
       "align_items": null,
       "align_self": null,
       "border": null,
       "bottom": null,
       "display": null,
       "flex": null,
       "flex_flow": null,
       "grid_area": null,
       "grid_auto_columns": null,
       "grid_auto_flow": null,
       "grid_auto_rows": null,
       "grid_column": null,
       "grid_gap": null,
       "grid_row": null,
       "grid_template_areas": null,
       "grid_template_columns": null,
       "grid_template_rows": null,
       "height": null,
       "justify_content": null,
       "justify_items": null,
       "left": null,
       "margin": null,
       "max_height": null,
       "max_width": null,
       "min_height": null,
       "min_width": null,
       "object_fit": null,
       "object_position": null,
       "order": null,
       "overflow": null,
       "overflow_x": null,
       "overflow_y": null,
       "padding": null,
       "right": null,
       "top": null,
       "visibility": null,
       "width": null
      }
     },
     "d204ad583846465eba0fbc7b2fc8a764": {
      "model_module": "@jupyter-widgets/controls",
      "model_module_version": "1.5.0",
      "model_name": "DescriptionStyleModel",
      "state": {
       "_model_module": "@jupyter-widgets/controls",
       "_model_module_version": "1.5.0",
       "_model_name": "DescriptionStyleModel",
       "_view_count": null,
       "_view_module": "@jupyter-widgets/base",
       "_view_module_version": "1.2.0",
       "_view_name": "StyleView",
       "description_width": ""
      }
     },
     "de4341fbd7694373901266d169c24e77": {
      "model_module": "@jupyter-widgets/controls",
      "model_module_version": "1.5.0",
      "model_name": "FloatProgressModel",
      "state": {
       "_dom_classes": [],
       "_model_module": "@jupyter-widgets/controls",
       "_model_module_version": "1.5.0",
       "_model_name": "FloatProgressModel",
       "_view_count": null,
       "_view_module": "@jupyter-widgets/controls",
       "_view_module_version": "1.5.0",
       "_view_name": "ProgressView",
       "bar_style": "success",
       "description": "",
       "description_tooltip": null,
       "layout": "IPY_MODEL_57e647f85b4b4fbb90621277e5b20bb3",
       "max": 5000.0,
       "min": 0.0,
       "orientation": "horizontal",
       "style": "IPY_MODEL_c2116422dcb9482ebcecda4f45c64c42",
       "value": 5000.0
      }
     },
     "e9953728d492406e8512df7a80b7f03f": {
      "model_module": "@jupyter-widgets/base",
      "model_module_version": "1.2.0",
      "model_name": "LayoutModel",
      "state": {
       "_model_module": "@jupyter-widgets/base",
       "_model_module_version": "1.2.0",
       "_model_name": "LayoutModel",
       "_view_count": null,
       "_view_module": "@jupyter-widgets/base",
       "_view_module_version": "1.2.0",
       "_view_name": "LayoutView",
       "align_content": null,
       "align_items": null,
       "align_self": null,
       "border": null,
       "bottom": null,
       "display": null,
       "flex": "2",
       "flex_flow": null,
       "grid_area": null,
       "grid_auto_columns": null,
       "grid_auto_flow": null,
       "grid_auto_rows": null,
       "grid_column": null,
       "grid_gap": null,
       "grid_row": null,
       "grid_template_areas": null,
       "grid_template_columns": null,
       "grid_template_rows": null,
       "height": null,
       "justify_content": null,
       "justify_items": null,
       "left": null,
       "margin": null,
       "max_height": null,
       "max_width": null,
       "min_height": null,
       "min_width": null,
       "object_fit": null,
       "object_position": null,
       "order": null,
       "overflow": null,
       "overflow_x": null,
       "overflow_y": null,
       "padding": null,
       "right": null,
       "top": null,
       "visibility": null,
       "width": null
      }
     }
    },
    "version_major": 2,
    "version_minor": 0
   }
  }
 },
 "nbformat": 4,
 "nbformat_minor": 4
}
