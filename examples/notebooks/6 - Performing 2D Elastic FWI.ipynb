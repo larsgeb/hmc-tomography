{
 "cells": [
  {
   "cell_type": "code",
   "execution_count": null,
   "metadata": {},
   "outputs": [],
   "source": [
    "import hmc_tomography\n",
    "import matplotlib.pyplot as plt\n",
    "import numpy\n",
    "import psvWave\n",
    "\n",
    "from mpl_toolkits.axes_grid1 import AxesGrid"
   ]
  },
  {
   "cell_type": "markdown",
   "metadata": {},
   "source": [
    "# Tutorial 5 - Running parallel Markov chains"
   ]
  },
  {
   "cell_type": "code",
   "execution_count": null,
   "metadata": {},
   "outputs": [],
   "source": [
    "fwi_settings = psvWave.fdModel.get_dictionary()\n",
    "\n",
    "fwi_settings[\"domain\"][\"nt\"] = 2400\n",
    "\n",
    "fwi_settings[\"sources\"][\"delay_cycles_per_shot\"] = 8"
   ]
  },
  {
   "cell_type": "code",
   "execution_count": null,
   "metadata": {},
   "outputs": [],
   "source": [
    "psvWave.fdModel.write_dictionary(\"settings.ini\", fwi_settings)\n",
    "\n",
    "fdModel = psvWave.fdModel(\"settings.ini\")"
   ]
  },
  {
   "cell_type": "code",
   "execution_count": null,
   "metadata": {},
   "outputs": [],
   "source": [
    "for i_shot in range(fdModel.n_shots):\n",
    "    fdModel.plot_domain(shot_to_plot=i_shot)\n",
    "    plt.title(f\"Shot {i_shot+1}\")\n",
    "    plt.show()"
   ]
  },
  {
   "cell_type": "code",
   "execution_count": null,
   "metadata": {},
   "outputs": [],
   "source": [
    "# Create target model\n",
    "# Get the coordinates of every grid point\n",
    "IX, IZ = fdModel.get_coordinates(True)\n",
    "# Get the associated parameter fields\n",
    "vp, vs, rho = fdModel.get_parameter_fields()\n",
    "\n",
    "x_middle = (IX.max() + IX.min()) / 2\n",
    "z_middle = (IZ.max() + IZ.min()) / 2\n",
    "\n",
    "# Add a circular negative anomaly to the 'true' model\n",
    "circle = ((IX - x_middle) ** 2 + (IZ - z_middle) ** 2) ** 0.5 < 15\n",
    "vs = vs * (1 - 0.1 * circle)\n",
    "vp = vp * (1 - 0.1 * circle)\n",
    "rho = rho * (1 + 0.1 * circle)\n",
    "\n",
    "vp_target = vp\n",
    "vs_target = vs\n",
    "rho_target = rho"
   ]
  },
  {
   "cell_type": "code",
   "execution_count": null,
   "metadata": {},
   "outputs": [],
   "source": [
    "background_means = numpy.array([2000, 800, 1500])\n",
    "percentage_deviation = 0.2\n",
    "mins = background_means * (1 - percentage_deviation)\n",
    "maxs = background_means * (1 + percentage_deviation)\n",
    "\n",
    "fdModel.set_parameter_fields(vp_target, vs_target, rho_target)\n",
    "fdModel.plot_fields(vmin=mins, vmax=maxs)"
   ]
  },
  {
   "cell_type": "code",
   "execution_count": null,
   "metadata": {},
   "outputs": [],
   "source": [
    "# Create 'true' data\n",
    "# print(\"Faking observed data\")\n",
    "for i_shot in range(fdModel.n_shots):\n",
    "    fdModel.forward_simulate(i_shot, omp_threads_override=6)\n",
    "\n",
    "# Cheating of course, as this is synthetically generated data.\n",
    "ux_obs, uz_obs = fdModel.get_synthetic_data()\n",
    "\n",
    "numpy.random.seed(32312)\n",
    "ux_obs += 25 * numpy.random.randn(*ux_obs.shape)\n",
    "uz_obs += 25 * numpy.random.randn(*ux_obs.shape)\n",
    "\n",
    "fdModel.plot_data(data=(ux_obs, uz_obs), exagerration=1)"
   ]
  },
  {
   "cell_type": "code",
   "execution_count": null,
   "metadata": {},
   "outputs": [],
   "source": [
    "time_step = 80\n",
    "plt.figure()\n",
    "for i_shot in range(fdModel.n_shots):\n",
    "    field = fdModel.get_snapshots()[0][i_shot, time_step, :, :]\n",
    "    field_extr = numpy.max(numpy.abs(field))\n",
    "    plt.imshow(field, vmin=-field_extr, vmax=field_extr, cmap=plt.get_cmap(\"seismic\"))\n",
    "    plt.colorbar()\n",
    "    plt.title(f\"Shot {i_shot+1}\")\n",
    "    plt.show()"
   ]
  },
  {
   "cell_type": "code",
   "execution_count": null,
   "metadata": {},
   "outputs": [],
   "source": [
    "sampler = hmc_tomography.Samplers.HMC()\n",
    "\n",
    "posterior = hmc_tomography.Distributions.ElasticFullWaveform2D(\n",
    "    \"settings.ini\",\n",
    "    ux_obs=ux_obs,\n",
    "    uz_obs=uz_obs,\n",
    "    omp_threads_override=6,\n",
    "    temperature=25 * 25,\n",
    "    free_parameter_grid=[10, 10],\n",
    ")\n",
    "\n",
    "posterior.update_bounds(\n",
    "    lower_bounds=posterior.get_model_vector() - 200,\n",
    "    upper_bounds=posterior.get_model_vector() + 200,\n",
    ")\n",
    "\n",
    "\n",
    "sampler.sample(\n",
    "    \"samples.h5\",\n",
    "    posterior,\n",
    "    autotuning=True,\n",
    "    initial_model=posterior.get_model_vector(),\n",
    "    amount_of_steps=10,\n",
    "    proposals=10000,\n",
    ")"
   ]
  },
  {
   "cell_type": "code",
   "execution_count": null,
   "metadata": {},
   "outputs": [],
   "source": [
    "sampler.stepsizes"
   ]
  },
  {
   "cell_type": "code",
   "execution_count": null,
   "metadata": {},
   "outputs": [],
   "source": [
    "with hmc_tomography.Samples(\"samples.h5\") as samples:\n",
    "    samples_n = samples.numpy"
   ]
  },
  {
   "cell_type": "code",
   "execution_count": null,
   "metadata": {},
   "outputs": [],
   "source": [
    "fdModel.plot_model_vector(\n",
    "    posterior.blob.forward_transform_background(\n",
    "        samples_n[:-1, 100:].mean(axis=1)[:, None]\n",
    "    )\n",
    ")\n",
    "\n",
    "fdModel.plot_model_vector(\n",
    "    posterior.blob.forward_transform_background(\n",
    "        samples_n[:-1, 100:].std(axis=1)[:, None]\n",
    "    )\n",
    ")"
   ]
  },
  {
   "cell_type": "code",
   "execution_count": null,
   "metadata": {},
   "outputs": [],
   "source": [
    "_ = plt.plot(samples_n[:-1, :].T)"
   ]
  },
  {
   "cell_type": "code",
   "execution_count": null,
   "metadata": {},
   "outputs": [],
   "source": [
    "m = samples_n[:-1, :].mean(axis=1)"
   ]
  },
  {
   "cell_type": "code",
   "execution_count": null,
   "metadata": {},
   "outputs": [],
   "source": [
    "vector_splits = numpy.split(m, 3)\n",
    "\n",
    "fields = fdModel.get_parameter_fields()\n",
    "for i, field in enumerate(fields):\n",
    "    field[:] = numpy.nan\n",
    "    field[\n",
    "        (fdModel.nx_inner_boundary + fdModel.np_boundary) : -(\n",
    "            fdModel.nx_inner_boundary + fdModel.np_boundary\n",
    "        ),\n",
    "        (fdModel.nz_inner_boundary + fdModel.np_boundary) : -(\n",
    "            fdModel.nz_inner_boundary + fdModel.np_boundary\n",
    "        ),\n",
    "    ] = (\n",
    "        vector_splits[i]\n",
    "        .reshape(\n",
    "            (\n",
    "                fdModel.nz_free_parameters,\n",
    "                fdModel.nx_free_parameters,\n",
    "            )\n",
    "        )\n",
    "        .T\n",
    "    )"
   ]
  },
  {
   "cell_type": "code",
   "execution_count": null,
   "metadata": {},
   "outputs": [],
   "source": [
    "from scipy.ndimage import gaussian_filter\n",
    "\n",
    "plt.imshow(gaussian_filter(fields[1][35:-35, 35:-35], 3), cmap=plt.get_cmap(\"seismic\"))\n",
    "plt.colorbar()"
   ]
  }
 ],
 "metadata": {},
 "nbformat": 4,
 "nbformat_minor": 4
}
