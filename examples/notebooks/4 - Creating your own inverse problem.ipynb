{
 "cells": [
  {
   "cell_type": "code",
   "execution_count": 1,
   "metadata": {},
   "outputs": [],
   "source": [
    "import hmc_tomography\n",
    "from hmc_tomography.Samplers import HMC\n",
    "import numpy"
   ]
  },
  {
   "cell_type": "markdown",
   "metadata": {},
   "source": [
    "# Tutorial 4 - Creating your own inverse problem"
   ]
  },
  {
   "cell_type": "markdown",
   "metadata": {},
   "source": [
    "This notebook will show the steps required to implement (HMC) sampling of your own defined inverse problem.\n",
    "\n",
    "To illustrate the process we will implement the Styblisnky-Tang function in arbitrary dimensions. The class will be built piece by piece, to indicate all required objects.\n",
    "\n",
    "To implement any distribution / likelihood / target, we need to inherit from `hmc_tomography.Distributions._AbstractDistribution`. By doing this, we can make the sampler understand that we passed a distribution, as well as providing checks on all required methods and attributes."
   ]
  },
  {
   "cell_type": "markdown",
   "metadata": {},
   "source": [
    "<div class=\"alert alert-info\">    \n",
    "<b>**Note:**</b> We will now go through the process of illustrating what happens when you implement a distribution yourself, in steps. I'll do this in a trial-and-error fashion, to show what happens if you omit required parts. For the shorter technical version, I refer to the documentation of the abstract class <span style=\"display:none\">[hmc_tomography.Distributions._AbstractDistribution](../api/distributions/_AbstractDistribution.rst)</span>, which illustrates the required abstract methods and attributes.\n",
    "</div>"
   ]
  },
  {
   "cell_type": "markdown",
   "metadata": {},
   "source": [
    "## Gathering all the ingredients"
   ]
  },
  {
   "cell_type": "markdown",
   "metadata": {},
   "source": [
    "We can create a class that defines nothing (yet) and only inherits from the abstract base class the following way:"
   ]
  },
  {
   "cell_type": "code",
   "execution_count": 2,
   "metadata": {},
   "outputs": [],
   "source": [
    "class my_inverse_problem_class(hmc_tomography.Distributions._AbstractDistribution):\n",
    "    pass"
   ]
  },
  {
   "cell_type": "markdown",
   "metadata": {},
   "source": [
    "We now have a class of this distribution, e.g. a template on how to construct it. To actually use it, we need an instance. Instances of classes are created in the following way:"
   ]
  },
  {
   "cell_type": "code",
   "execution_count": 3,
   "metadata": {},
   "outputs": [
    {
     "name": "stdout",
     "output_type": "stream",
     "text": [
      "Can't instantiate abstract class my_inverse_problem_class with abstract methods generate, gradient, misfit\n"
     ]
    }
   ],
   "source": [
    "try:\n",
    "    target = my_inverse_problem_class()\n",
    "except Exception as e:\n",
    "    print(e)"
   ]
  },
  {
   "cell_type": "markdown",
   "metadata": {},
   "source": [
    "Oops, that didn't work! If we try to decipher the Python error we can actually understand why: the class is missing 'abstract' functions. **Abstract functions are functions that we have to implement ourselves.** The abstract base class is asking for the following functions:\n",
    "\n",
    "1. `generate` : A function that generates an independent sample from the distrbution (i.e. subsequent samples are i.i.d.).\n",
    "2. `gradient` : A function to compute the gradient of the misfit function.\n",
    "3. `misfit`   : A function to compute the misfit function.\n",
    "\n",
    "Typically, we can not generate from a distribution that we still wish to investigate. But not to worry, if we actually inspect the documentation of these functions we can see that we do not require the `generate` function to work in order to sample using Markov chain Monte Carlo methods:"
   ]
  },
  {
   "cell_type": "code",
   "execution_count": 4,
   "metadata": {},
   "outputs": [
    {
     "name": "stdout",
     "output_type": "stream",
     "text": [
      "Function: generate\n",
      "Method to draw samples from the distribution.\n",
      "\n",
      "        Returns\n",
      "        -------\n",
      "        sample : numpy.ndarray\n",
      "            A numpy array shaped as (dimensions, 1) containing a sample of the\n",
      "            distribution.\n",
      "\n",
      "        Raises\n",
      "        ------\n",
      "        NotImplementedError\n",
      "            If the distribution does not allow generation of samples.\n",
      "\n",
      "\n",
      "        This method is mostly a convenience class. The algorithm itself does not\n",
      "        require the implementation. Therefore an implementation as such will suffice::\n",
      "\n",
      "            def generate(self) -> _numpy.ndarray:\n",
      "                raise NotImplementedError(\"This function is not implemented.\")\n",
      "\n",
      "        \n"
     ]
    }
   ],
   "source": [
    "print(\n",
    "    f\"Function: {hmc_tomography.Distributions._AbstractDistribution.generate.__name__}\"\n",
    ")\n",
    "print(hmc_tomography.Distributions._AbstractDistribution.generate.__doc__)"
   ]
  },
  {
   "cell_type": "markdown",
   "metadata": {},
   "source": [
    "<span style=\"display:none\">The API reference of this method can be found at&#32;[_AbstractDistribution.generate](../api/distributions/_AbstractDistribution.rst#hmc_tomography.Distributions._AbstractDistribution.generate).</span>"
   ]
  },
  {
   "cell_type": "markdown",
   "metadata": {},
   "source": [
    "The required input of `misfit` and `gradient` is a numpy vector of shape (dimensions, 1). The outputs are respectively a float and a numpy vector of shape (dimensions, 1). This can also be found when printing the documentation:"
   ]
  },
  {
   "cell_type": "code",
   "execution_count": 5,
   "metadata": {},
   "outputs": [
    {
     "name": "stdout",
     "output_type": "stream",
     "text": [
      "Function: gradient\n",
      "Computes the misfit gradient of the distribution at the given coordinates.\n",
      "\n",
      "        Parameters\n",
      "        ----------\n",
      "        coordinates : numpy.ndarray\n",
      "            Numpy array shaped as (dimensions, 1) representing a column vector\n",
      "            containing the coordinates :math:`\\mathbf{m}`.\n",
      "\n",
      "        Returns\n",
      "        -------\n",
      "        gradient : numpy.ndarray\n",
      "            The distribution misfit gradient :math:`\\nabla_\\mathbf{m}\\chi`.\n",
      "\n",
      "\n",
      "        The distribution misfit gradient is related to the distribution probability \n",
      "        density as:\n",
      "\n",
      "        .. math::\n",
      "\n",
      "            \\nabla_\\mathbf{m} \\chi_\\text{distribution} (\\mathbf{m}) = -\n",
      "            \\nabla_\\mathbf{m} \\log p(\\mathbf{m}).\n",
      "\n",
      "\n",
      "        This method is called many times in an HMC appraisal. It is therefore\n",
      "        beneficial to optimize the implementation.\n",
      "        \n",
      "Function: misfit\n",
      "Computes the misfit of the distribution at the given coordinates.\n",
      "\n",
      "        Parameters\n",
      "        ----------\n",
      "        coordinates : numpy.ndarray\n",
      "            Numpy array shaped as (dimensions, 1) representing a column vector\n",
      "            containing the coordinates :math:`\\mathbf{m}`.\n",
      "\n",
      "        Returns\n",
      "        -------\n",
      "        misfit : float\n",
      "            The distribution misfit :math:`\\chi`.\n",
      "\n",
      "\n",
      "        The distribution misfit is related to the distribution probability density as:\n",
      "\n",
      "        .. math::\n",
      "\n",
      "            \\chi_\\text{distribution} (\\mathbf{m}) = -\\log p(\\mathbf{m}).\n",
      "\n",
      "\n",
      "        This method is called many times in an HMC appraisal. It is therefore\n",
      "        beneficial to optimize the implementation.\n",
      "        \n"
     ]
    }
   ],
   "source": [
    "print(\n",
    "    f\"Function: {hmc_tomography.Distributions._AbstractDistribution.gradient.__name__}\"\n",
    ")\n",
    "print(hmc_tomography.Distributions._AbstractDistribution.gradient.__doc__)\n",
    "\n",
    "print(f\"Function: {hmc_tomography.Distributions._AbstractDistribution.misfit.__name__}\")\n",
    "print(hmc_tomography.Distributions._AbstractDistribution.misfit.__doc__)"
   ]
  },
  {
   "cell_type": "markdown",
   "metadata": {},
   "source": [
    "<span style=\"display:none\">The API reference of these methods can be found at&#32;[_AbstractDistribution.gradient](../api/distributions/_AbstractDistribution.rst#hmc_tomography.Distributions._AbstractDistribution.gradient)&#32;and&#32;[_AbstractDistribution.misfit](../api/distributions/_AbstractDistribution.rst#hmc_tomography.Distributions._AbstractDistribution.misfit).</span>"
   ]
  },
  {
   "cell_type": "markdown",
   "metadata": {},
   "source": [
    "## An empty target model: Brownian Motion\n",
    "\n",
    "To start, we can make a mock class, with zero misfit everywhere. This was the easiest implementation of *a* distribution that I could think of.\n",
    "\n",
    "This essentially is a uniform unbouded distribution. Because it is an unnormalizable distribution, it is actually an improper prior. However, that doesn't stop us from creating a Markov chain over it.\n",
    "\n",
    "A class based on this could look like the following:"
   ]
  },
  {
   "cell_type": "code",
   "execution_count": 6,
   "metadata": {},
   "outputs": [],
   "source": [
    "class my_inverse_problem_class(hmc_tomography.Distributions._AbstractDistribution):\n",
    "    def misfit(self, m):\n",
    "        return 0\n",
    "\n",
    "    def gradient(self, m):\n",
    "        return numpy.zeros((dimensions, 1))\n",
    "\n",
    "    def generate(self, m):\n",
    "        raise NotImplementedError()"
   ]
  },
  {
   "cell_type": "markdown",
   "metadata": {},
   "source": [
    "Creating an instance of this class should work now we have implemented all the required functions:"
   ]
  },
  {
   "cell_type": "code",
   "execution_count": 7,
   "metadata": {},
   "outputs": [
    {
     "name": "stdout",
     "output_type": "stream",
     "text": [
      "Can't instantiate abstract class my_inverse_problem_class with abstract attributes: dimensions\n"
     ]
    }
   ],
   "source": [
    "try:\n",
    "    target = my_inverse_problem_class()\n",
    "except Exception as e:\n",
    "    print(e)"
   ]
  },
  {
   "cell_type": "markdown",
   "metadata": {},
   "source": [
    "**The error changed!** No complaints about missing methods. We now have a complaint about a missing attribute; `dimensions`. It turns out, to do any sampling, we still have to define in what dimension model space we are operating. We can set this property in the constructor in the following way:"
   ]
  },
  {
   "cell_type": "code",
   "execution_count": 8,
   "metadata": {},
   "outputs": [],
   "source": [
    "class my_inverse_problem_class(hmc_tomography.Distributions._AbstractDistribution):\n",
    "    def __init__(self):\n",
    "        self.dimensions = 2\n",
    "\n",
    "    def misfit(self, m):\n",
    "        return 0\n",
    "\n",
    "    def gradient(self, m):\n",
    "        return numpy.zeros((self.dimensions, 1))\n",
    "\n",
    "    def generate(self, m):\n",
    "        raise NotImplementedError()"
   ]
  },
  {
   "cell_type": "code",
   "execution_count": 9,
   "metadata": {},
   "outputs": [],
   "source": [
    "try:\n",
    "    target = my_inverse_problem_class()\n",
    "except Exception as e:\n",
    "    print(e)"
   ]
  },
  {
   "cell_type": "markdown",
   "metadata": {},
   "source": [
    "**No errors!!**\n",
    "\n",
    "Now that we have an instance of a distribution, we can supply it to a sampler. Let's give Hamiltonian Monte Carlo a try. The only thing we need other than the target is a mass matrix and a sampler instance. Creating these and starting the sampler:"
   ]
  },
  {
   "cell_type": "code",
   "execution_count": 10,
   "metadata": {},
   "outputs": [
    {
     "name": "stderr",
     "output_type": "stream",
     "text": [
      "sys:1: Warning: \n",
      "Silently overwriting samples file (bin_samples/tutorial_4_empty.h5) if it exists.\n",
      "Tot. acc rate: 1.00. Last 100 acc rate: 1.00. Progress: 100%|██████████| 3000/3000 [00:00<00:00, 11719.10it/s]\n"
     ]
    }
   ],
   "source": [
    "HMC.sample(\n",
    "    target, \"bin_samples/tutorial_4_empty.h5\", proposals=3000, overwrite_samples=True\n",
    ")"
   ]
  },
  {
   "cell_type": "markdown",
   "metadata": {},
   "source": [
    "Visualizing the results shows how this empty class creates a Brownian motion. Brownian motion is simply a process that is independent of starting point and scale. Go ahead and change the time step of HMC or the amount of steps, histograms will always look similar (similarly random)."
   ]
  },
  {
   "cell_type": "code",
   "execution_count": 11,
   "metadata": {},
   "outputs": [
    {
     "data": {
      "image/png": "[encoded data removed]",
      "text/plain": [
       "<Figure size 576x576 with 4 Axes>"
      ]
     },
     "metadata": {
      "needs_background": "light"
     },
     "output_type": "display_data"
    }
   ],
   "source": [
    "with hmc_tomography.Post.Samples(\"bin_samples/samples_5.h5\") as samples:\n",
    "    hmc_tomography.Post.Visualization.marginal_grid(samples, [0, 1])"
   ]
  },
  {
   "cell_type": "markdown",
   "metadata": {},
   "source": [
    "## The Styblinsky-Tang Function"
   ]
  },
  {
   "cell_type": "markdown",
   "metadata": {},
   "source": [
    "A more complete example would be to inplement some function as misfit and its derivative. One thing the following class implements is tempering, i.e. annealing. This changes a distribution to amplify or surpress local minima. This is a technique used in algorithms such as [parallel tempering](https://en.wikipedia.org/wiki/Parallel_tempering) and [simulated annealing](https://en.wikipedia.org/wiki/Simulated_annealing). Tempering is implemented simply by dividing the misfit (and gradient) by the temperature. \n",
    "\n",
    "You're completely free to do the implementation of the gradient in any way you want (analytical derivatives, backpropagation, finite differences), however the accuracy to which the gradient is computed has direct influence on the performance of HMC. Getting it right (and fast) is typically essential to performant sampling with HMC.\n",
    "\n",
    "The example demonstrated here is the n-dimensional tempered Styblinsky-Tang function. Its misfit is a sum of the same expression on every separate dimension, making the expression of the misfit and gradient rather simple. We don't implement a generate function (as I wouldn't know an effective way of generating samples), and we leave the dimensionality open to each instance."
   ]
  },
  {
   "cell_type": "code",
   "execution_count": 12,
   "metadata": {},
   "outputs": [],
   "source": [
    "class StyblinskiTang(hmc_tomography.Distributions._AbstractDistribution):\n",
    "    def __init__(self, dimensions=None, temperature=20.0):\n",
    "\n",
    "        # Default to 2 dimensions if not specified\n",
    "        if dimensions is None:\n",
    "            self.dimensions = 2\n",
    "        else:\n",
    "            self.dimensions = dimensions\n",
    "\n",
    "        # Default to temperature = 10 if not specified\n",
    "        self.temperature = temperature\n",
    "\n",
    "    def misfit(self, m):\n",
    "\n",
    "        # Check the shape of the passed model\n",
    "        assert m.shape == (self.dimensions, 1)\n",
    "\n",
    "        return 0.5 * numpy.sum(m ** 4 - 16 * (m ** 2) + 5 * m) / self.temperature\n",
    "\n",
    "    def gradient(self, m):\n",
    "\n",
    "        assert m.shape == (self.dimensions, 1)\n",
    "\n",
    "        return 0.5 * (4 * (m ** 3) - 32 * m + 5) / self.temperature\n",
    "\n",
    "    def generate(self, m):\n",
    "        raise NotImplementedError()"
   ]
  },
  {
   "cell_type": "markdown",
   "metadata": {},
   "source": [
    "No errors is always good. Let's try sampling this distribution at a temperature of 20."
   ]
  },
  {
   "cell_type": "code",
   "execution_count": 13,
   "metadata": {},
   "outputs": [
    {
     "name": "stderr",
     "output_type": "stream",
     "text": [
      "sys:1: Warning: \n",
      "Silently overwriting samples file (bin_samples/tutorial_4_StyblinskiTang_20.h5) if it exists.\n",
      "Tot. acc rate: 0.47. Last 100 acc rate: 0.47. Progress: 100%|██████████| 20000/20000 [00:03<00:00, 5138.05it/s]\n"
     ]
    }
   ],
   "source": [
    "target = StyblinskiTang(temperature=20)\n",
    "\n",
    "HMC.sample(\n",
    "    target,\n",
    "    \"bin_samples/tutorial_4_StyblinskiTang_20.h5\",\n",
    "    proposals=20000,\n",
    "    time_step=1.0,\n",
    "    overwrite_samples=True,\n",
    ")"
   ]
  },
  {
   "cell_type": "code",
   "execution_count": 14,
   "metadata": {},
   "outputs": [
    {
     "data": {
      "image/png": "[encoded data removed]",
      "text/plain": [
       "<Figure size 576x576 with 4 Axes>"
      ]
     },
     "metadata": {
      "needs_background": "light"
     },
     "output_type": "display_data"
    }
   ],
   "source": [
    "with hmc_tomography.Post.Samples(\n",
    "    \"bin_samples/tutorial_4_StyblinskiTang_20.h5\"\n",
    ") as samples:\n",
    "    hmc_tomography.Post.Visualization.marginal_grid(samples, [0, 1], bins=25)"
   ]
  },
  {
   "cell_type": "markdown",
   "metadata": {},
   "source": [
    "That looks great! Now you are ready to use the package on **your** interesting problems. Have fun!"
   ]
  },
  {
   "cell_type": "markdown",
   "metadata": {},
   "source": [
    "As a bonus, we can check what influence the tempering parameter has on the shape of the probability distribution. Reducing the temperature to 5 will 'cool' the distribution, sharpening it:"
   ]
  },
  {
   "cell_type": "code",
   "execution_count": 15,
   "metadata": {},
   "outputs": [
    {
     "name": "stderr",
     "output_type": "stream",
     "text": [
      "sys:1: Warning: \n",
      "Silently overwriting samples file (bin_samples/tutorial_4_StyblinskiTang_5.h5) if it exists.\n",
      "Tot. acc rate: 0.57. Last 100 acc rate: 0.61. Progress: 100%|██████████| 20000/20000 [00:03<00:00, 5058.12it/s]\n"
     ]
    }
   ],
   "source": [
    "target = StyblinskiTang(temperature=5)\n",
    "\n",
    "HMC.sample(\n",
    "    target,\n",
    "    \"bin_samples/tutorial_4_StyblinskiTang_5.h5\",\n",
    "    proposals=20000,\n",
    "    time_step=0.5,\n",
    "    overwrite_samples=True,\n",
    ")"
   ]
  },
  {
   "cell_type": "code",
   "execution_count": 16,
   "metadata": {},
   "outputs": [
    {
     "data": {
      "image/png": "[encoded data removed]",
      "text/plain": [
       "<Figure size 576x576 with 4 Axes>"
      ]
     },
     "metadata": {
      "needs_background": "light"
     },
     "output_type": "display_data"
    }
   ],
   "source": [
    "with hmc_tomography.Post.Samples(\n",
    "    \"bin_samples/tutorial_4_StyblinskiTang_5.h5\"\n",
    ") as samples:\n",
    "    hmc_tomography.Post.Visualization.marginal_grid(samples, [0, 1], bins=25)"
   ]
  }
 ],
 "metadata": {
  "kernelspec": {
   "display_name": "Python 3.7.3 64-bit ('hmc-tomography': conda)",
   "language": "python",
   "name": "python37364bithmctomographycondad0b099aefa2a439f9d19a4f09847ca7d"
  },
  "language_info": {
   "codemirror_mode": {
    "name": "ipython",
    "version": 3
   },
   "file_extension": ".py",
   "mimetype": "text/x-python",
   "name": "python",
   "nbconvert_exporter": "python",
   "pygments_lexer": "ipython3",
   "version": "3.7.3"
  }
 },
 "nbformat": 4,
 "nbformat_minor": 4
}
