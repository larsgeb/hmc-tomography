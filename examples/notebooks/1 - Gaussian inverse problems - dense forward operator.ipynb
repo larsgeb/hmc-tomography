{
 "cells": [
  {
   "cell_type": "code",
   "execution_count": 1,
   "metadata": {},
   "outputs": [],
   "source": [
    "import hmc_tomography\n",
    "import numpy\n",
    "import matplotlib.pyplot as plt\n",
    "\n",
    "numpy.set_printoptions(precision=2, suppress=True)"
   ]
  },
  {
   "cell_type": "markdown",
   "metadata": {},
   "source": [
    "# Tutorial 1 - Gaussian inverse problems - dense forward operator\n",
    "\n",
    "\n",
    "**A verification of HMC on analytically solvable forward models**"
   ]
  },
  {
   "cell_type": "markdown",
   "metadata": {},
   "source": [
    "In this notebook, we'll look at sampling of inverse problems to which we have exact solutions, both the verify the validity of MCMC methods (HMC) and to illustrate how one could extend these simple problems with interesting (non-Gaussian) prior information."
   ]
  },
  {
   "cell_type": "markdown",
   "metadata": {},
   "source": [
    "<div class=\"alert alert-info\">\n",
    "<b>Note:</b> Throughout this notebook, we'll sample various distributions. Tuning settings are updated accordingly, but not discussed. Keep this in mind when playing around with the notebook; you might need to update parameters, primarily step lengths.\n",
    "</div>"
   ]
  },
  {
   "cell_type": "markdown",
   "metadata": {},
   "source": [
    "We will first define the model and data space size. Model parameters and data in linear forward problems are related with the following equation:\n",
    "\n",
    "\n",
    "$$\n",
    "\\mathbf{d} = G\\mathbf{m}\n",
    "$$\n",
    "\n",
    "\n",
    "Here, $\\mathbf{d}$ and $\\mathbf{m}$ are column vectors of resp. shape $[d \\times 1]$ and $[m \\times 1]$, and G has size $[m \\times d]$. Let's start of with choosing these sizes for our illustration (feel free to experiment with these):"
   ]
  },
  {
   "cell_type": "code",
   "execution_count": 2,
   "metadata": {},
   "outputs": [],
   "source": [
    "dimensions = 3\n",
    "dpoints = 6"
   ]
  },
  {
   "cell_type": "markdown",
   "metadata": {},
   "source": [
    "Next, we randomly generate a dense forward model operator. We are not interested in the exact values as of yet, but it is important to realise that by randomly generating values, we are not requiring G to be of full rank, i.e. (pseudo-)invertible."
   ]
  },
  {
   "cell_type": "code",
   "execution_count": 3,
   "metadata": {},
   "outputs": [
    {
     "name": "stdout",
     "output_type": "stream",
     "text": [
      "[[0.25 0.05 0.68]\n",
      " [0.04 0.12 0.6 ]\n",
      " [0.19 0.67 0.92]\n",
      " [0.42 0.33 0.28]\n",
      " [0.19 0.32 0.48]\n",
      " [0.07 0.7  0.31]] \n",
      "\n",
      " <class 'numpy.ndarray'>\n"
     ]
    }
   ],
   "source": [
    "numpy.random.seed(int(42 + numpy.random.randn()))\n",
    "G = numpy.random.rand(dpoints, dimensions)\n",
    "\n",
    "print(G, \"\\n\\n\", type(G))"
   ]
  },
  {
   "cell_type": "markdown",
   "metadata": {},
   "source": [
    "Next we generate a 'true' model. Note that this model is sparse, only two entries are non-zero (depending what you chose for dimensions)."
   ]
  },
  {
   "cell_type": "code",
   "execution_count": 4,
   "metadata": {},
   "outputs": [],
   "source": [
    "m_true = numpy.zeros((dimensions, 1))\n",
    "m_true[1] = 2.0\n",
    "m_true[2] = 1.0"
   ]
  },
  {
   "cell_type": "markdown",
   "metadata": {},
   "source": [
    "We generate true data, but we don't do this deterministically. We directly choose to generate data with a specific noise model. This noise model is assumed known for this notebook.\n",
    "\n",
    "The observed data is generated using the following relation:\n",
    "\n",
    "$$\n",
    "\\mathbf{d}_\\text{obs} = G\\mathbf{m}_\\text{true} + \\mathbf{\\sigma}\n",
    "$$\n",
    "\n",
    "Note that the added noise is also vector. We typically assume it's normally distributed (using a multivariate Gaussian):\n",
    "\n",
    "$$\n",
    "\\mathbf{\\sigma} \\sim \\mathcal{N} (\\mathbf{0} , \\Sigma)\n",
    "$$\n",
    "\n",
    "which makes inference in general much easier. Then the observed data constitute the noise-less observations together with a realization of this distribution.\n",
    "\n",
    "The description of the noise may depend strongly on which datapoint we look at. There could be correlations and strong differences in standard deviation for each datum $d_i$, as captured in the covariance matrix $\\Sigma$. We will first start with a diagonal (non-correlated) data covariance matrix. **NOTE**: we define data standard deviation in the next cell. To obtain $\\Sigma$, we need to compute the square of the standard deviation matrix."
   ]
  },
  {
   "cell_type": "markdown",
   "metadata": {},
   "source": [
    "## Case 1: diagonal covariance matrix - no prior"
   ]
  },
  {
   "cell_type": "code",
   "execution_count": 5,
   "metadata": {},
   "outputs": [],
   "source": [
    "# An array describing the noise for every datum separately\n",
    "data_std = numpy.array(dpoints * [0.2,])[:, None]\n",
    "\n",
    "# Manually change one datum's noise\n",
    "data_std[1] = 10.0\n",
    "data_std[4] = 10.0\n",
    "\n",
    "# Generate the data\n",
    "d_obs = G @ m_true + numpy.random.randn(G.shape[0], 1) * data_std"
   ]
  },
  {
   "cell_type": "markdown",
   "metadata": {},
   "source": [
    "Now we have everything we need to define our (non-regularized / prior-less) inference problem using a provided class. This object analyses the supplied objects and determines the appropriate methods (i.e. sparse vs dense $G$, dense vs diagonal $\\Sigma$, etc.)."
   ]
  },
  {
   "cell_type": "code",
   "execution_count": 6,
   "metadata": {},
   "outputs": [],
   "source": [
    "likelihood = hmc_tomography.Distributions.LinearMatrix(G, d_obs, data_std ** 2)"
   ]
  },
  {
   "cell_type": "markdown",
   "metadata": {},
   "source": [
    "To validate sampling, we first compute the analytical posterior Gaussian. Check Tarantola (2005), page 36, example 1.38 for the relevant expressions. Note that a 'prior' is still absent, so formulas have been modified accordingly.\n",
    "\n",
    "Because the LinearMatrix class also allows for scalar data covariance, we added (but commented out) expressions for this case"
   ]
  },
  {
   "cell_type": "code",
   "execution_count": 7,
   "metadata": {},
   "outputs": [],
   "source": [
    "# Analytical results\n",
    "\n",
    "# Covariance matrix\n",
    "# COV = numpy.linalg.inv(G.T @ G / (data_std ** 2)) # Scalar data covariance\n",
    "inv_data_cov = numpy.diag(1.0 / data_std[:, 0] ** 2)\n",
    "COV = numpy.linalg.inv(G.T @ inv_data_cov @ G)  # Vector data covariance\n",
    "\n",
    "# Standard deviations\n",
    "SIGMA = numpy.diag(numpy.diag(COV) ** 0.5)\n",
    "\n",
    "# Correlation structure\n",
    "COR = numpy.linalg.inv(SIGMA) @ COV @ numpy.linalg.inv(SIGMA)\n",
    "\n",
    "# Means\n",
    "MEAN = COV @ G.T @ inv_data_cov @ d_obs"
   ]
  },
  {
   "cell_type": "markdown",
   "metadata": {},
   "source": [
    "If you encounter the warning: `invalid value encountered in sqrt` you most likely have more model parameters than observations. In this case, your likelihood covariance matrix can not be inverted (because it is guaranteed not full rank) and we probably should add a prior term that is well behaved.\n",
    "\n",
    "What this means in a probabilistic interpretation is that the resulting distribution has infinite support and is non-normalizable, and we should use Bayes' rule to counter this."
   ]
  },
  {
   "cell_type": "markdown",
   "metadata": {},
   "source": [
    "**Let's start sampling!**"
   ]
  },
  {
   "cell_type": "code",
   "execution_count": 8,
   "metadata": {},
   "outputs": [
    {
     "name": "stderr",
     "output_type": "stream",
     "text": [
      "sys:1: Warning: \r\n",
      "Silently overwriting samples file (bin_samples/tutorial_1_diagonal_covariance.h5) if it exists.\n"
     ]
    },
    {
     "data": {
      "application/vnd.jupyter.widget-view+json": {
       "model_id": "093fe430745244f79caf64a13afd2349",
       "version_major": 2,
       "version_minor": 0
      },
      "text/plain": [
       "HBox(children=(HTML(value='Sampling. Acceptance rate:'), FloatProgress(value=0.0, layout=Layout(flex='2'), max…"
      ]
     },
     "metadata": {},
     "output_type": "display_data"
    },
    {
     "name": "stdout",
     "output_type": "stream",
     "text": [
      "\n"
     ]
    }
   ],
   "source": [
    "hmc_tomography.Samplers.HMC().sample(\n",
    "    \"bin_samples/tutorial_1_diagonal_covariance.h5\",\n",
    "    likelihood,\n",
    "    mass_matrix=hmc_tomography.MassMatrices.Unit(likelihood.dimensions),\n",
    "    proposals=5000,\n",
    "    amount_of_steps=20,\n",
    "    online_thinning=1,\n",
    "    overwrite_existing_file=True,\n",
    "    initial_model=m_true,\n",
    "    autotuning=True,\n",
    "    target_acceptance_rate=0.9,\n",
    ")"
   ]
  },
  {
   "cell_type": "markdown",
   "metadata": {},
   "source": [
    "Let's now compute the same quantities using the samples. The `with` construct is essential, as it closes the sample file after we exit the indent. This ensures that we don't leave open the HDF5 file. **Additionally, we'll visualize the 1d and 2d marginals of the posterior.**"
   ]
  },
  {
   "cell_type": "code",
   "execution_count": 9,
   "metadata": {},
   "outputs": [
    {
     "data": {
      "image/png": "[encoded data removed]",
      "text/plain": [
       "<Figure size 864x864 with 9 Axes>"
      ]
     },
     "metadata": {
      "needs_background": "light"
     },
     "output_type": "display_data"
    }
   ],
   "source": [
    "with hmc_tomography.Samples(\n",
    "    \"bin_samples/tutorial_1_diagonal_covariance.h5\", burn_in=1000\n",
    ") as samples:\n",
    "\n",
    "    hmc_tomography.Visualization.marginal_grid(\n",
    "        samples, [0, 1, 2], figsize=(12, 12),  # Mind the ZERO INDEXED dimensions.\n",
    "    )\n",
    "\n",
    "    sampling_MEAN = numpy.mean(samples[:-1, :], axis=1)\n",
    "\n",
    "    sampling_COV = numpy.cov(samples[:-1, :])\n",
    "\n",
    "    sampling_SIGMA = numpy.diag(numpy.diag(sampling_COV) ** 0.5)\n",
    "\n",
    "    sampling_COR = (\n",
    "        numpy.linalg.inv(sampling_SIGMA)\n",
    "        @ sampling_COV\n",
    "        @ numpy.linalg.inv(sampling_SIGMA)\n",
    "    )"
   ]
  },
  {
   "cell_type": "markdown",
   "metadata": {},
   "source": [
    "Now we compare the posterior covariance and means of the two methods. We hope these two results are the same (as they theoretically should be), otherwise we probably made an error in the code.\n",
    "\n",
    "We'll visualize two different things:\n",
    "1. The means and variances of the sampling and analytical posteriors;\n",
    "2. The full covariance matrices of the sampling and analytical posteriors."
   ]
  },
  {
   "cell_type": "code",
   "execution_count": 10,
   "metadata": {},
   "outputs": [
    {
     "data": {
      "image/png": "[encoded data removed]",
      "text/plain": [
       "<Figure size 864x432 with 1 Axes>"
      ]
     },
     "metadata": {
      "needs_background": "light"
     },
     "output_type": "display_data"
    },
    {
     "name": "stdout",
     "output_type": "stream",
     "text": [
      "BE AWARE, I print only up to 2 digits. The sampling covariance will appear less accurate when printing more digits.\n",
      "\n",
      "Analytical covariance matrix:\n",
      "[[ 0.33 -0.01 -0.1 ]\n",
      " [-0.01  0.09 -0.06]\n",
      " [-0.1  -0.06  0.1 ]]\n",
      "\n",
      "Sampling covariance matrix:\n",
      "[[ 0.33 -0.01 -0.09]\n",
      " [-0.01  0.08 -0.06]\n",
      " [-0.09 -0.06  0.12]]\n",
      "\n",
      "Difference:\n",
      "[[-0.    0.    0.01]\n",
      " [ 0.   -0.01  0.  ]\n",
      " [ 0.01  0.    0.02]]\n"
     ]
    }
   ],
   "source": [
    "fig, ax = plt.subplots(figsize=(12, 6))\n",
    "\n",
    "ax.scatter(numpy.arange(m_true.size), m_true, label=\"True value\", marker=\"v\", color=\"k\")\n",
    "\n",
    "\n",
    "ax.errorbar(\n",
    "    numpy.arange(sampling_MEAN.size),\n",
    "    sampling_MEAN,\n",
    "    capsize=6,\n",
    "    yerr=numpy.diag(sampling_SIGMA),\n",
    "    fmt=\"o\",\n",
    "    label=\"Sampling\",\n",
    ")\n",
    "\n",
    "ax.errorbar(\n",
    "    numpy.arange(MEAN.size),\n",
    "    MEAN,\n",
    "    capsize=6,\n",
    "    yerr=numpy.diag(SIGMA),\n",
    "    fmt=\"x\",\n",
    "    label=\"Analytical\",\n",
    "    alpha=0.8,\n",
    ")\n",
    "\n",
    "ax.legend()\n",
    "ax.set_ylim([-0.5, 3.0])\n",
    "ax.set_ylabel(\"Parameter estimate\")\n",
    "ax.set_xlabel(\"Parameter index\")\n",
    "ax.set_title(\"Parameter estimates\\nmeans: markers, sigma: lines\")\n",
    "plt.show()\n",
    "\n",
    "print(\n",
    "    \"BE AWARE, I print only up to 2 digits. \"\n",
    "    \"The sampling covariance will appear less \"\n",
    "    \"accurate when printing more digits.\"\n",
    ")\n",
    "print()\n",
    "print(\"Analytical covariance matrix:\")\n",
    "print(COV)\n",
    "print()\n",
    "print(\"Sampling covariance matrix:\")\n",
    "print(sampling_COV)\n",
    "\n",
    "print()\n",
    "print(\"Difference:\")\n",
    "print(sampling_COV - COV)"
   ]
  },
  {
   "cell_type": "markdown",
   "metadata": {},
   "source": [
    "Well, everything seems to be in order! Let's extend the theory a little bit with a dense covariance matrix."
   ]
  },
  {
   "cell_type": "markdown",
   "metadata": {},
   "source": [
    "## Case 2: dense covariance matrix - no prior"
   ]
  },
  {
   "cell_type": "markdown",
   "metadata": {},
   "source": [
    "In this case, we want to encode correlations between the errors in the observed data. This may be done with normally distributed noise by adding non-diagonal entries in the covariance matrix $\\Sigma$. To make life easier, we can decompose the covariance matrix (using Eigendecomposition) into variances (diagonal matrix with variances on the diagonal, $\\text{diag}(\\mathbf{\\sigma})$) and the correlation matrix ($R$):\n",
    "\n",
    "$$\n",
    "    \\Sigma = \\text{diag}(\\mathbf{\\sigma}) \\:\\: R \\:\\:  \n",
    "    \\text{diag} (\\mathbf{\\sigma})\n",
    "$$\n",
    "\n",
    "Correlations always lie between -1 and 1, and are 1 for correlation between one parameter and itself. Both the covariance matrix and the correlation matrix have to be positive definite, otherwise the multivariate Gaussian is non-normalizable (if positive-semidefinite) or not even a proper probability (if anything else)."
   ]
  },
  {
   "cell_type": "code",
   "execution_count": 11,
   "metadata": {},
   "outputs": [
    {
     "name": "stdout",
     "output_type": "stream",
     "text": [
      "Matrix is positive definite; proper covariance matrix.\n"
     ]
    }
   ],
   "source": [
    "# An array describing the noise for every datum separately\n",
    "data_std_dense = numpy.array(dpoints * [0.2,])\n",
    "\n",
    "# Manually change one datum's noise (same as previous example)\n",
    "data_std_dense[1] = 10\n",
    "data_std_dense[4] = 10\n",
    "\n",
    "data_std_dense = numpy.diag(data_std_dense)\n",
    "\n",
    "cor = numpy.eye(data_std_dense.shape[0])\n",
    "\n",
    "for i in range(data_std_dense.shape[0]):\n",
    "    for diff in range(int(data_std_dense.shape[0] / 2)):\n",
    "        cor[i, i - diff - 1] = 0.7 ** (diff / 5.0 + 1.0)\n",
    "        cor[i - diff - 1, i] = 0.7 ** (diff / 5.0 + 1.0)\n",
    "\n",
    "data_covariance_dense = data_std_dense @ cor @ data_std_dense\n",
    "\n",
    "# Positive definiteness check\n",
    "if numpy.all(numpy.linalg.eigvals(data_covariance_dense) > 0):\n",
    "    print(\"Matrix is positive definite; proper covariance matrix.\")\n",
    "else:\n",
    "    raise ValueError(\"Not a valid covariance matrix; not positive definite.\")\n",
    "\n",
    "# Upper cholesky decomposition to generate RNG\n",
    "CHOL = numpy.linalg.cholesky(data_covariance_dense)\n",
    "\n",
    "# Generate the data with the updated noise model\n",
    "dense_d_obs = G @ m_true + CHOL @ numpy.random.randn(G.shape[0], 1)"
   ]
  },
  {
   "cell_type": "markdown",
   "metadata": {},
   "source": [
    "The matrix we create is positive definite! Now let's visualize $\\Sigma$ and $R$."
   ]
  },
  {
   "cell_type": "code",
   "execution_count": 12,
   "metadata": {},
   "outputs": [
    {
     "data": {
      "text/plain": [
       "<matplotlib.colorbar.Colorbar at 0x7fe6f97e2cd0>"
      ]
     },
     "execution_count": 12,
     "metadata": {},
     "output_type": "execute_result"
    },
    {
     "data": {
      "image/png": "[encoded data removed]",
      "text/plain": [
       "<Figure size 864x432 with 2 Axes>"
      ]
     },
     "metadata": {
      "needs_background": "light"
     },
     "output_type": "display_data"
    }
   ],
   "source": [
    "from matplotlib.ticker import FormatStrFormatter\n",
    "from matplotlib.ticker import MaxNLocator\n",
    "\n",
    "fig, ax = plt.subplots(figsize=(12, 6))\n",
    "\n",
    "ax.yaxis.set_major_locator(MaxNLocator(integer=True))\n",
    "ax.xaxis.set_major_locator(MaxNLocator(integer=True))\n",
    "im = ax.imshow(numpy.log10(numpy.abs(data_covariance_dense)))\n",
    "plt.title(\"Data covariance matrix (logarithmic)\")\n",
    "ax.set_xlabel(\"data index\")\n",
    "ax.set_ylabel(\"data index\")\n",
    "ax.yaxis.set_major_formatter(FormatStrFormatter(\"%i\"))\n",
    "plt.colorbar(im)"
   ]
  },
  {
   "cell_type": "code",
   "execution_count": 13,
   "metadata": {},
   "outputs": [
    {
     "data": {
      "image/png": "[encoded data removed]",
      "text/plain": [
       "<Figure size 864x432 with 2 Axes>"
      ]
     },
     "metadata": {
      "needs_background": "light"
     },
     "output_type": "display_data"
    }
   ],
   "source": [
    "fig, ax = plt.subplots(figsize=(12, 6))\n",
    "plt.imshow(cor, vmin=-1, vmax=1, cmap=plt.get_cmap(\"seismic\"))\n",
    "plt.title(\"Data correlation matrix\")\n",
    "cbar = plt.colorbar()"
   ]
  },
  {
   "cell_type": "markdown",
   "metadata": {},
   "source": [
    "These observations are highly correlated. Let's now construct our likelihood with this new data noise model."
   ]
  },
  {
   "cell_type": "code",
   "execution_count": 14,
   "metadata": {},
   "outputs": [],
   "source": [
    "likelihood = hmc_tomography.Distributions.LinearMatrix(\n",
    "    G, dense_d_obs, data_covariance_dense\n",
    ")"
   ]
  },
  {
   "cell_type": "markdown",
   "metadata": {},
   "source": [
    "And compute the analytical solution of the inverse problem."
   ]
  },
  {
   "cell_type": "code",
   "execution_count": 15,
   "metadata": {},
   "outputs": [],
   "source": [
    "# Analytical results\n",
    "\n",
    "# Covariance matrix\n",
    "inv_data_cov = numpy.linalg.inv(data_covariance_dense)\n",
    "dense_COV = numpy.linalg.inv(G.T @ inv_data_cov @ G)  # Vector data covariance\n",
    "\n",
    "# Standard deviations\n",
    "dense_SIGMA = numpy.diag(numpy.diag(dense_COV) ** 0.5)\n",
    "\n",
    "# Correlation structure\n",
    "dense_COR = numpy.linalg.inv(dense_SIGMA) @ dense_COV @ numpy.linalg.inv(dense_SIGMA)\n",
    "\n",
    "# Means\n",
    "dense_MEAN = dense_COV @ G.T @ inv_data_cov @ dense_d_obs"
   ]
  },
  {
   "cell_type": "markdown",
   "metadata": {},
   "source": [
    "And draw samples from the likelihood."
   ]
  },
  {
   "cell_type": "code",
   "execution_count": 16,
   "metadata": {},
   "outputs": [
    {
     "name": "stderr",
     "output_type": "stream",
     "text": [
      "sys:1: Warning: \r\n",
      "Silently overwriting samples file (bin_samples/tutorial_1_dense_covariance.h5) if it exists.\n",
      "/home/larsgebraad/Documents/Hamiltonian Monte Carlo/hmc-tomography/hmc_tomography/Samplers.py:1317: UserWarning: The stepsize of the algorithm went below zero. You possibly started the algorithm in a region with extremely strong gradients. The sampler will now default to a minimum stepsize of 1e-18. If this doesn't work, and if choosing a different initial model does not make this warning go away, trysetting a smaller minimal stepsize and initial stepsize value.\n",
      "  \"The stepsize of the algorithm went below zero. You possibly \"\n"
     ]
    },
    {
     "data": {
      "application/vnd.jupyter.widget-view+json": {
       "model_id": "9c068fdf774d4732a4d6c32695a87afe",
       "version_major": 2,
       "version_minor": 0
      },
      "text/plain": [
       "HBox(children=(HTML(value='Sampling. Acceptance rate:'), FloatProgress(value=0.0, layout=Layout(flex='2'), max…"
      ]
     },
     "metadata": {},
     "output_type": "display_data"
    },
    {
     "name": "stdout",
     "output_type": "stream",
     "text": [
      "\n"
     ]
    }
   ],
   "source": [
    "hmc_tomography.Samplers.HMC().sample(\n",
    "    \"bin_samples/tutorial_1_dense_covariance.h5\",\n",
    "    likelihood,\n",
    "    mass_matrix=hmc_tomography.MassMatrices.Unit(likelihood.dimensions),\n",
    "    proposals=5000,\n",
    "    amount_of_steps=20,\n",
    "    online_thinning=1,\n",
    "    overwrite_existing_file=True,\n",
    "    initial_model=m_true,\n",
    "    autotuning=True,\n",
    "    target_acceptance_rate=0.9,\n",
    ")"
   ]
  },
  {
   "cell_type": "markdown",
   "metadata": {},
   "source": [
    "Now we visualize the marginals again. Similar to the correlation matrix of the data noise, the upper right of this plot **is** the correlation matrix of the likelihood."
   ]
  },
  {
   "cell_type": "code",
   "execution_count": 17,
   "metadata": {},
   "outputs": [
    {
     "data": {
      "image/png": "[encoded data removed]",
      "text/plain": [
       "<Figure size 864x864 with 9 Axes>"
      ]
     },
     "metadata": {
      "needs_background": "light"
     },
     "output_type": "display_data"
    }
   ],
   "source": [
    "with hmc_tomography.Samples(\n",
    "    \"bin_samples/tutorial_1_dense_covariance.h5\", burn_in=2000\n",
    ") as samples:\n",
    "\n",
    "    hmc_tomography.Visualization.marginal_grid(\n",
    "        samples, [0, 1, 2], figsize=(12, 12),  # Mind the ZERO INDEXED dimensions.\n",
    "    )\n",
    "\n",
    "    sampling_dense_MEAN = numpy.mean(samples[:-1, :], axis=1)\n",
    "\n",
    "    sampling_dense_COV = numpy.cov(samples[:-1, :])\n",
    "\n",
    "    sampling_dense_SIGMA = numpy.diag(numpy.diag(sampling_dense_COV) ** 0.5)\n",
    "\n",
    "    sampling_dense_COR = (\n",
    "        numpy.linalg.inv(sampling_dense_SIGMA)\n",
    "        @ sampling_dense_COV\n",
    "        @ numpy.linalg.inv(sampling_dense_SIGMA)\n",
    "    )"
   ]
  },
  {
   "cell_type": "code",
   "execution_count": 18,
   "metadata": {},
   "outputs": [
    {
     "data": {
      "image/png": "[encoded data removed]",
      "text/plain": [
       "<Figure size 864x432 with 1 Axes>"
      ]
     },
     "metadata": {
      "needs_background": "light"
     },
     "output_type": "display_data"
    },
    {
     "name": "stdout",
     "output_type": "stream",
     "text": [
      "BE AWARE, I print only up to 2 digits. The sampling covariance will appear less accurate when printing more digits.\n",
      "\n",
      "Analytical covariance matrix:\n",
      "[[ 0.11  0.01 -0.03]\n",
      " [ 0.01  0.03 -0.02]\n",
      " [-0.03 -0.02  0.03]]\n",
      "\n",
      "Sampling covariance matrix:\n",
      "[[ 0.11  0.01 -0.03]\n",
      " [ 0.01  0.02 -0.01]\n",
      " [-0.03 -0.01  0.03]]\n",
      "\n",
      "Difference:\n",
      "[[-0.    0.   -0.  ]\n",
      " [ 0.   -0.01  0.01]\n",
      " [-0.    0.01  0.  ]]\n"
     ]
    }
   ],
   "source": [
    "fig, ax = plt.subplots(figsize=(12, 6))\n",
    "\n",
    "ax.scatter(\n",
    "    numpy.arange(m_true.size), m_true, label=\"True value\", marker=\"v\", color=\"k\",\n",
    ")\n",
    "\n",
    "ax.errorbar(\n",
    "    numpy.arange(sampling_dense_MEAN.size),\n",
    "    sampling_dense_MEAN,\n",
    "    yerr=numpy.diag(sampling_dense_SIGMA),\n",
    "    fmt=\"o\",\n",
    "    capsize=6,\n",
    "    label=\"Sampling\",\n",
    ")\n",
    "\n",
    "ax.errorbar(\n",
    "    numpy.arange(dense_MEAN.size),\n",
    "    dense_MEAN,\n",
    "    yerr=numpy.diag(dense_SIGMA),\n",
    "    fmt=\"x\",\n",
    "    capsize=6,\n",
    "    label=\"Analytical\",\n",
    "    alpha=0.8,\n",
    ")\n",
    "\n",
    "ax.errorbar(\n",
    "    numpy.arange(MEAN.size),\n",
    "    MEAN,\n",
    "    yerr=numpy.diag(SIGMA),\n",
    "    fmt=\"x\",\n",
    "    capsize=6,\n",
    "    label=\"Diagonal (previous)\",\n",
    "    alpha=0.5,\n",
    ")\n",
    "\n",
    "ax.legend()\n",
    "ax.set_ylim([-0.5, 3.0])\n",
    "ax.set_ylabel(\"Parameter estimate\")\n",
    "ax.set_xlabel(\"Parameter index\")\n",
    "ax.set_title(\"Parameter estimates\\nmeans: markers, sigma: lines\")\n",
    "plt.show()\n",
    "\n",
    "print(\n",
    "    \"BE AWARE, I print only up to 2 digits. \"\n",
    "    \"The sampling covariance will appear less \"\n",
    "    \"accurate when printing more digits.\"\n",
    ")\n",
    "print()\n",
    "print(\"Analytical covariance matrix:\")\n",
    "print(dense_COV)\n",
    "print()\n",
    "print(\"Sampling covariance matrix:\")\n",
    "print(sampling_dense_COV)\n",
    "\n",
    "print()\n",
    "print(\"Difference:\")\n",
    "print(sampling_dense_COV - dense_COV)"
   ]
  },
  {
   "cell_type": "markdown",
   "metadata": {},
   "source": [
    "There is a few important observations to made from the output here:\n",
    "\n",
    "1. The sampling variances and means are equal (to a precision proportional to the amount of samples) to the analytical solution;\n",
    "2. Because the noise realization and the data **covariance** are different, the means and variances are not equal to the previous case, even though the noise **variance** for every single datum is equal;\n",
    "3. The total variance (sum of variances *or* product of variances) seems to be lower in the dense covariance matrix case.\n",
    "\n",
    "Especially point 3 was surprising to me. If there are trade-offs between datums, shouldn't we constrain the model parameters worse? It turns out, the opposite happens. Let's first look at the data covariances matrices to argument this."
   ]
  },
  {
   "cell_type": "code",
   "execution_count": 19,
   "metadata": {},
   "outputs": [
    {
     "name": "stdout",
     "output_type": "stream",
     "text": [
      "Data space measure of dispersion of the noise model:\n",
      "Ellipsoid volume diagonal (uncorrelated noise): \t2.56e-02\n",
      "Ellipsoid volume dense (correlated noise): \t\t4.15e-04\n"
     ]
    }
   ],
   "source": [
    "data_covariance_dense\n",
    "data_covariance_diagonal = numpy.diag(data_std[:, 0] ** 2)\n",
    "\n",
    "print(f\"Data space measure of dispersion of the noise model:\")\n",
    "print(\n",
    "    f\"Ellipsoid volume diagonal (uncorrelated noise): \\t{(numpy.linalg.det(data_covariance_diagonal)):.2e}\"\n",
    ")\n",
    "print(\n",
    "    f\"Ellipsoid volume dense (correlated noise): \\t\\t{(numpy.linalg.det(data_covariance_dense)):.2e}\"\n",
    ")"
   ]
  },
  {
   "cell_type": "markdown",
   "metadata": {},
   "source": [
    "Maybe it may make intuitive sense now: The possible values the data have before the noise is added is proportional to this determinant, or volume, of the multivariate Gaussian. In the case of the correlated noise, the possible true data is a much more constrained volume.\n",
    "\n",
    "Verifying these volumes on the total variability of the posteriors in model space, we see the same thing:"
   ]
  },
  {
   "cell_type": "code",
   "execution_count": 20,
   "metadata": {},
   "outputs": [
    {
     "name": "stdout",
     "output_type": "stream",
     "text": [
      "Model space measure of dispersion of the posterior:\n",
      "Ellipsoid volume uncorrelated noise: \t8.33e-04\n",
      "Ellipsoid volume correlated noise: \t4.96e-05\n"
     ]
    }
   ],
   "source": [
    "print(f\"Model space measure of dispersion of the posterior:\")\n",
    "print(f\"Ellipsoid volume uncorrelated noise: \\t{(numpy.linalg.det(COV)):.2e}\")\n",
    "print(f\"Ellipsoid volume correlated noise: \\t{(numpy.linalg.det(dense_COV)):.2e}\")"
   ]
  },
  {
   "cell_type": "markdown",
   "metadata": {},
   "source": [
    "## Case 3: dense covariance matrix - Gaussian prior"
   ]
  },
  {
   "cell_type": "markdown",
   "metadata": {},
   "source": [
    "As a final validity test, we add a Gaussian prior. In this case study, the forward operator already allows us to find all medium parameters; the inverse problem is overdetermined. When this is not the case, we actually **require** a prior that makes the inverse well-behaved.\n",
    "\n",
    "One can again find an analytical expression of the posterior in this case in Tarantola's 2005 book, page 36. We can recycle the data covariance matrix, observed data, and likelihood function from the previous case, because the noise model did not change:"
   ]
  },
  {
   "cell_type": "code",
   "execution_count": 21,
   "metadata": {},
   "outputs": [
    {
     "data": {
      "text/plain": [
       "<hmc_tomography.Distributions.LinearMatrix.LinearMatrix at 0x7fe6f95dd350>"
      ]
     },
     "execution_count": 21,
     "metadata": {},
     "output_type": "execute_result"
    }
   ],
   "source": [
    "# Recycled variables\n",
    "data_covariance_dense\n",
    "dense_d_obs\n",
    "likelihood"
   ]
  },
  {
   "cell_type": "markdown",
   "metadata": {},
   "source": [
    "Now we can create a prior centered around zero with a given variance."
   ]
  },
  {
   "cell_type": "code",
   "execution_count": 22,
   "metadata": {},
   "outputs": [
    {
     "name": "stderr",
     "output_type": "stream",
     "text": [
      "/home/larsgebraad/Documents/Hamiltonian Monte Carlo/hmc-tomography/hmc_tomography/Distributions/base.py:403: Warning: Seems that you only passed a vector as the covariance matrix. It will be used as the covariance diagonal.\n",
      "  Warning,\n"
     ]
    }
   ],
   "source": [
    "prior_means = numpy.zeros((likelihood.dimensions, 1))\n",
    "prior_variances = 0.025 * numpy.ones((likelihood.dimensions, 1))\n",
    "\n",
    "prior = hmc_tomography.Distributions.Normal(prior_means, prior_variances)"
   ]
  },
  {
   "cell_type": "markdown",
   "metadata": {},
   "source": [
    "Now, applying Bayes' rule without normalization is extremely easy (note that this works on more than 2 distributions simultaneously too):"
   ]
  },
  {
   "cell_type": "code",
   "execution_count": 23,
   "metadata": {},
   "outputs": [],
   "source": [
    "posterior = hmc_tomography.Distributions.BayesRule([prior, likelihood])"
   ]
  },
  {
   "cell_type": "markdown",
   "metadata": {},
   "source": [
    "And we can compute the analytical solution again for this case."
   ]
  },
  {
   "cell_type": "code",
   "execution_count": 24,
   "metadata": {},
   "outputs": [],
   "source": [
    "# Analytical results\n",
    "\n",
    "# Covariance matrix\n",
    "inv_prior_cov = numpy.linalg.inv(numpy.diag(prior_variances[:, 0]))\n",
    "inv_data_cov = numpy.linalg.inv(data_covariance_dense)\n",
    "dense_COV_prior = numpy.linalg.inv(\n",
    "    G.T @ inv_data_cov @ G + inv_prior_cov\n",
    ")  # Vector data covariance\n",
    "\n",
    "# Standard deviations\n",
    "dense_SIGMA_prior = numpy.diag(numpy.diag(dense_COV_prior) ** 0.5)\n",
    "\n",
    "# Correlation structure\n",
    "dense_COR_prior = (\n",
    "    numpy.linalg.inv(dense_SIGMA) @ dense_COV @ numpy.linalg.inv(dense_SIGMA)\n",
    ")\n",
    "\n",
    "# Means\n",
    "dense_MEAN_prior = dense_COV_prior @ (\n",
    "    G.T @ inv_data_cov @ dense_d_obs + inv_prior_cov @ prior_means\n",
    ")"
   ]
  },
  {
   "cell_type": "markdown",
   "metadata": {},
   "source": [
    "Sampling the distribution ..."
   ]
  },
  {
   "cell_type": "code",
   "execution_count": 25,
   "metadata": {},
   "outputs": [
    {
     "name": "stderr",
     "output_type": "stream",
     "text": [
      "sys:1: Warning: \r\n",
      "Silently overwriting samples file (bin_samples/tutorial_1_dense_covariance_with_gaussian_prior.h5) if it exists.\n",
      "/home/larsgebraad/Documents/Hamiltonian Monte Carlo/hmc-tomography/hmc_tomography/Samplers.py:1317: UserWarning: The stepsize of the algorithm went below zero. You possibly started the algorithm in a region with extremely strong gradients. The sampler will now default to a minimum stepsize of 1e-18. If this doesn't work, and if choosing a different initial model does not make this warning go away, trysetting a smaller minimal stepsize and initial stepsize value.\n",
      "  \"The stepsize of the algorithm went below zero. You possibly \"\n"
     ]
    },
    {
     "data": {
      "application/vnd.jupyter.widget-view+json": {
       "model_id": "be0e3144790d4905ad3ef70667c945cf",
       "version_major": 2,
       "version_minor": 0
      },
      "text/plain": [
       "HBox(children=(HTML(value='Sampling. Acceptance rate:'), FloatProgress(value=0.0, layout=Layout(flex='2'), max…"
      ]
     },
     "metadata": {},
     "output_type": "display_data"
    },
    {
     "name": "stdout",
     "output_type": "stream",
     "text": [
      "\n"
     ]
    }
   ],
   "source": [
    "hmc_tomography.Samplers.HMC().sample(\n",
    "    \"bin_samples/tutorial_1_dense_covariance_with_gaussian_prior.h5\",\n",
    "    posterior,\n",
    "    mass_matrix=hmc_tomography.MassMatrices.Unit(likelihood.dimensions),\n",
    "    proposals=5000,\n",
    "    amount_of_steps=20,\n",
    "    online_thinning=1,\n",
    "    overwrite_existing_file=True,\n",
    "    initial_model=m_true,\n",
    "    autotuning=True,\n",
    "    target_acceptance_rate=0.9,\n",
    ")"
   ]
  },
  {
   "cell_type": "markdown",
   "metadata": {},
   "source": [
    "Visualizing the marginals and computing the multivariate normal attributes from the samples."
   ]
  },
  {
   "cell_type": "code",
   "execution_count": 26,
   "metadata": {},
   "outputs": [
    {
     "data": {
      "image/png": "[encoded data removed]",
      "text/plain": [
       "<Figure size 864x864 with 9 Axes>"
      ]
     },
     "metadata": {
      "needs_background": "light"
     },
     "output_type": "display_data"
    }
   ],
   "source": [
    "with hmc_tomography.Samples(\n",
    "    \"bin_samples/tutorial_1_dense_covariance_with_gaussian_prior.h5\", burn_in=1000\n",
    ") as samples_posterior:\n",
    "\n",
    "    hmc_tomography.Visualization.marginal_grid(\n",
    "        samples_posterior, [0, 1, 2], figsize=(12, 12)\n",
    "    )\n",
    "\n",
    "    sampling_dense_MEAN_prior = numpy.mean(samples_posterior[:-1, :], axis=1)\n",
    "\n",
    "    sampling_dense_COV_prior = numpy.cov(samples_posterior[:-1, :])\n",
    "\n",
    "    sampling_dense_SIGMA_prior = numpy.diag(numpy.diag(sampling_dense_COV_prior) ** 0.5)\n",
    "\n",
    "    sampling_dense_COR_prior = (\n",
    "        numpy.linalg.inv(sampling_dense_SIGMA_prior)\n",
    "        @ sampling_dense_COV_prior\n",
    "        @ numpy.linalg.inv(sampling_dense_SIGMA_prior)\n",
    "    )"
   ]
  },
  {
   "cell_type": "markdown",
   "metadata": {},
   "source": [
    "Now we compare three things again:\n",
    "\n",
    "1. The analytical result\n",
    "2. The sampling result\n",
    "3. The result of the non-regularized inversion\n",
    "\n",
    "We again hope that 1 and 2 are the same. Additionally, we expect the addition of a prior to reduce the variability in the posterior, while 'pulling' model parameters to it's mean. Let's see what happens:"
   ]
  },
  {
   "cell_type": "code",
   "execution_count": 27,
   "metadata": {},
   "outputs": [
    {
     "data": {
      "image/png": "[encoded data removed]",
      "text/plain": [
       "<Figure size 864x432 with 1 Axes>"
      ]
     },
     "metadata": {
      "needs_background": "light"
     },
     "output_type": "display_data"
    },
    {
     "name": "stdout",
     "output_type": "stream",
     "text": [
      "BE AWARE, I print only up to 2 digits. The sampling covariance will appear less accurate when printing more digits.\n",
      "\n",
      "Analytical covariance matrix:\n",
      "[[ 0.02 -0.   -0.  ]\n",
      " [-0.    0.01 -0.  ]\n",
      " [-0.   -0.    0.01]]\n",
      "\n",
      "Sampling covariance matrix:\n",
      "[[ 0.02 -0.   -0.  ]\n",
      " [-0.    0.01 -0.  ]\n",
      " [-0.   -0.    0.01]]\n",
      "\n",
      "Difference:\n",
      "[[-0.  0.  0.]\n",
      " [ 0.  0.  0.]\n",
      " [ 0.  0.  0.]]\n"
     ]
    }
   ],
   "source": [
    "fig, ax = plt.subplots(figsize=(12, 6))\n",
    "\n",
    "ax.scatter(\n",
    "    numpy.arange(m_true.size), m_true, label=\"True value\", marker=\"v\", color=\"k\",\n",
    ")\n",
    "\n",
    "ax.errorbar(\n",
    "    numpy.arange(sampling_dense_MEAN_prior.size),\n",
    "    sampling_dense_MEAN_prior,\n",
    "    yerr=numpy.diag(sampling_dense_SIGMA_prior),\n",
    "    fmt=\"o\",\n",
    "    capsize=6,\n",
    "    label=\"Sampling\",\n",
    ")\n",
    "\n",
    "ax.errorbar(\n",
    "    numpy.arange(dense_MEAN_prior.size),\n",
    "    dense_MEAN_prior,\n",
    "    yerr=numpy.diag(dense_SIGMA_prior),\n",
    "    fmt=\"x\",\n",
    "    capsize=6,\n",
    "    label=\"Analytical\",\n",
    "    alpha=0.8,\n",
    ")\n",
    "\n",
    "ax.errorbar(\n",
    "    numpy.arange(dense_MEAN.size),\n",
    "    dense_MEAN,\n",
    "    yerr=numpy.diag(dense_SIGMA),\n",
    "    fmt=\"x\",\n",
    "    capsize=6,\n",
    "    label=\"Dense without prior (previous)\",\n",
    "    alpha=0.5,\n",
    ")\n",
    "\n",
    "ax.legend()\n",
    "ax.set_ylim([-0.5, 2.25])\n",
    "ax.set_ylabel(\"Parameter estimate\")\n",
    "ax.set_xlabel(\"Parameter index\")\n",
    "ax.set_title(\"Parameter estimates\\nmeans: markers, sigma: lines\")\n",
    "plt.show()\n",
    "\n",
    "print(\n",
    "    \"BE AWARE, I print only up to 2 digits. \"\n",
    "    \"The sampling covariance will appear less \"\n",
    "    \"accurate when printing more digits.\"\n",
    ")\n",
    "print()\n",
    "print(\"Analytical covariance matrix:\")\n",
    "print(dense_COV_prior)\n",
    "print()\n",
    "print(\"Sampling covariance matrix:\")\n",
    "print(sampling_dense_COV_prior)\n",
    "\n",
    "print()\n",
    "print(\"Difference:\")\n",
    "print(sampling_dense_COV_prior - dense_COV_prior)"
   ]
  },
  {
   "cell_type": "markdown",
   "metadata": {},
   "source": [
    "Again, our sampling corresponds to our analytical solution! The prior has two main impacts on the posterior:\n",
    "\n",
    "1. The prior reduces variation (uncertainty) in the posterior by decreasing variances for parameters as well as tuning the correlation matrix to that of the prior. The amount the posterior correlation correspond to the prior correlation (which in this case was the identity matrix, no correlation) depends on the prior variance. Try changing it and visualizing the posterior correlation matrix (**If you do this, also remember to re-tune the algorithm!**).\n",
    "\n",
    "2. The prior 'pulls' posterior means towards prior means. But, because there are correlations introduced through the data covariance matrix and the forward model matrix, a pull in one dimension might trade-off with a 'push' for another parameter. In more mathematical terms; in e.g. 2d, a Gaussian unit prior prefers the point (0.5, 0.5) to (1.0, 0.0)."
   ]
  },
  {
   "cell_type": "markdown",
   "metadata": {},
   "source": [
    "## Case 4 - A non-Gaussian prior"
   ]
  },
  {
   "cell_type": "markdown",
   "metadata": {},
   "source": [
    "In this final example we'll test the influence of using a non-Gaussian prior. In this case, we can not solve the inverse problem analytically anymore. Our comparison can now only be done to a different posterior (i.e. the posterior from the previous case) to assess the impact of the prior.\n",
    "\n",
    "We'll use a prior that promotes sparsity. What this means, is that this prior 'prefers' solutions where many entries are zero (or many entries are at its mean, we can define what value that is). This is quantified by the Laplace distribution. In 1 dimensions it's probability density function is proportional to the exponent of the L1 distance to a mean scaled by a disperion $b$: \n",
    "\n",
    "$$\n",
    "    \\text{Laplace}(x;\\: \\mu, b) \\propto \\exp \\left( - \\frac{|x-\\mu|}{b}  \\right)\n",
    "$$\n",
    "\n",
    "By supplementing `hmc_tomography.Distributions.Laplace` with two vectors assumes `n` decoupled Laplace distributions. Next, we use Bayes' rule (in `hmc_tomography.Distributions.BayesRule`) to combine the prior and likelihood into the posterior."
   ]
  },
  {
   "cell_type": "code",
   "execution_count": 28,
   "metadata": {},
   "outputs": [],
   "source": [
    "# Create prior\n",
    "means = numpy.zeros((dimensions, 1))\n",
    "dispersion = 0.025 * numpy.ones((dimensions, 1))\n",
    "\n",
    "prior_laplace = hmc_tomography.Distributions.Laplace(means, dispersion)\n",
    "\n",
    "posterior_laplace = hmc_tomography.Distributions.BayesRule([prior_laplace, likelihood])"
   ]
  },
  {
   "cell_type": "markdown",
   "metadata": {},
   "source": [
    "And we go through all the motions again:"
   ]
  },
  {
   "cell_type": "code",
   "execution_count": 29,
   "metadata": {},
   "outputs": [
    {
     "name": "stderr",
     "output_type": "stream",
     "text": [
      "sys:1: Warning: \r\n",
      "Silently overwriting samples file (bin_samples/tutorial_1_dense_covariance_with_laplace_prior.h5) if it exists.\n",
      "/home/larsgebraad/Documents/Hamiltonian Monte Carlo/hmc-tomography/hmc_tomography/Samplers.py:1317: UserWarning: The stepsize of the algorithm went below zero. You possibly started the algorithm in a region with extremely strong gradients. The sampler will now default to a minimum stepsize of 1e-18. If this doesn't work, and if choosing a different initial model does not make this warning go away, trysetting a smaller minimal stepsize and initial stepsize value.\n",
      "  \"The stepsize of the algorithm went below zero. You possibly \"\n"
     ]
    },
    {
     "data": {
      "application/vnd.jupyter.widget-view+json": {
       "model_id": "f33e68b45f1a49e884e73fc88e04fc35",
       "version_major": 2,
       "version_minor": 0
      },
      "text/plain": [
       "HBox(children=(HTML(value='Sampling. Acceptance rate:'), FloatProgress(value=0.0, layout=Layout(flex='2'), max…"
      ]
     },
     "metadata": {},
     "output_type": "display_data"
    },
    {
     "name": "stdout",
     "output_type": "stream",
     "text": [
      "\n"
     ]
    }
   ],
   "source": [
    "hmc_tomography.Samplers.HMC().sample(\n",
    "    \"bin_samples/tutorial_1_dense_covariance_with_laplace_prior.h5\",\n",
    "    posterior_laplace,\n",
    "    mass_matrix=hmc_tomography.MassMatrices.Unit(likelihood.dimensions),\n",
    "    proposals=5000,\n",
    "    amount_of_steps=20,\n",
    "    online_thinning=1,\n",
    "    overwrite_existing_file=True,\n",
    "    initial_model=m_true,\n",
    "    autotuning=True,\n",
    "    target_acceptance_rate=0.9,\n",
    ")"
   ]
  },
  {
   "cell_type": "code",
   "execution_count": 30,
   "metadata": {},
   "outputs": [
    {
     "data": {
      "image/png": "[encoded data removed]",
      "text/plain": [
       "<Figure size 864x864 with 9 Axes>"
      ]
     },
     "metadata": {
      "needs_background": "light"
     },
     "output_type": "display_data"
    }
   ],
   "source": [
    "with hmc_tomography.Samples(\n",
    "    \"bin_samples/tutorial_1_dense_covariance_with_laplace_prior.h5\", burn_in=1000\n",
    ") as samples_posterior:\n",
    "\n",
    "    hmc_tomography.Visualization.marginal_grid(\n",
    "        samples_posterior, [0, 1, 2], figsize=(12, 12)\n",
    "    )\n",
    "\n",
    "    sampling_dense_MEAN_prior_laplace = numpy.mean(samples_posterior[:-1, :], axis=1)\n",
    "\n",
    "    sampling_dense_COV_prior_laplace = numpy.cov(samples_posterior[:-1, :])\n",
    "\n",
    "    sampling_dense_SIGMA_prior_laplace = numpy.diag(\n",
    "        numpy.diag(sampling_dense_COV_prior_laplace) ** 0.5\n",
    "    )\n",
    "\n",
    "    sampling_dense_COR_prior_laplace = (\n",
    "        numpy.linalg.inv(sampling_dense_SIGMA_prior_laplace)\n",
    "        @ sampling_dense_COV_prior_laplace\n",
    "        @ numpy.linalg.inv(sampling_dense_SIGMA_prior_laplace)\n",
    "    )"
   ]
  },
  {
   "cell_type": "code",
   "execution_count": 31,
   "metadata": {},
   "outputs": [
    {
     "data": {
      "image/png": "[encoded data removed]",
      "text/plain": [
       "<Figure size 864x432 with 1 Axes>"
      ]
     },
     "metadata": {
      "needs_background": "light"
     },
     "output_type": "display_data"
    }
   ],
   "source": [
    "fig, ax = plt.subplots(figsize=(12, 6))\n",
    "\n",
    "ax.scatter(\n",
    "    numpy.arange(m_true.size), m_true, label=\"True value\", marker=\"v\", color=\"k\",\n",
    ")\n",
    "\n",
    "ax.errorbar(\n",
    "    numpy.arange(sampling_dense_MEAN_prior_laplace.size),\n",
    "    sampling_dense_MEAN_prior_laplace,\n",
    "    yerr=numpy.diag(sampling_dense_SIGMA_prior_laplace),\n",
    "    fmt=\"x\",\n",
    "    capsize=6,\n",
    "    label=\"Laplace prior\",\n",
    "    alpha=0.8,\n",
    ")\n",
    "\n",
    "ax.errorbar(\n",
    "    numpy.arange(sampling_dense_MEAN_prior.size),\n",
    "    sampling_dense_MEAN_prior,\n",
    "    yerr=numpy.diag(sampling_dense_SIGMA_prior),\n",
    "    fmt=\"o\",\n",
    "    capsize=6,\n",
    "    label=\"Gaussian prior (previous)\",\n",
    ")\n",
    "\n",
    "\n",
    "ax.legend()\n",
    "ax.set_ylim([-0.5, 2.25])\n",
    "ax.set_ylabel(\"Parameter estimate\")\n",
    "ax.set_xlabel(\"Parameter index\")\n",
    "ax.set_title(\"Parameter estimates\\nmeans: markers, sigma: lines\")\n",
    "plt.show()"
   ]
  },
  {
   "cell_type": "markdown",
   "metadata": {},
   "source": [
    "It seems that using the Laplace prior gives us strong certainty for model parameters that are 0. Because of this, we can resolve trade-offs to other parameters better and the means of all parameters end up closer to the true solutions. This should be a logical consequence, because we added quite strong prior knowledge (our true solution is sparse) which helped to bring the posterior closer to the true solution.\n",
    "\n",
    "We can see that for most parameters; uncertainties are lower by adding this effective prior:"
   ]
  },
  {
   "cell_type": "code",
   "execution_count": 32,
   "metadata": {},
   "outputs": [
    {
     "name": "stdout",
     "output_type": "stream",
     "text": [
      "[0.03 0.16 0.15]\n",
      "[0.14 0.12 0.11]\n"
     ]
    }
   ],
   "source": [
    "print(numpy.diag(sampling_dense_SIGMA_prior_laplace))\n",
    "\n",
    "print(numpy.diag(sampling_dense_SIGMA_prior))"
   ]
  },
  {
   "cell_type": "markdown",
   "metadata": {},
   "source": [
    "Looking at the marginals of the two posteriors also well illustrates the non-Gaussianity, as well as the increased accuracy of the posterior."
   ]
  },
  {
   "cell_type": "code",
   "execution_count": 33,
   "metadata": {},
   "outputs": [
    {
     "data": {
      "image/png": "[encoded data removed]",
      "text/plain": [
       "<Figure size 576x864 with 3 Axes>"
      ]
     },
     "metadata": {
      "needs_background": "light"
     },
     "output_type": "display_data"
    }
   ],
   "source": [
    "with hmc_tomography.Samples(\n",
    "    \"bin_samples/tutorial_1_dense_covariance_with_laplace_prior.h5\", burn_in=1000\n",
    ") as samples_posterior_laplace, hmc_tomography.Samples(\n",
    "    \"bin_samples/tutorial_1_dense_covariance_with_gaussian_prior.h5\", burn_in=1000\n",
    ") as samples_posterior_gaussian, hmc_tomography.Samples(\n",
    "    \"bin_samples/tutorial_1_dense_covariance.h5\", burn_in=1000\n",
    ") as samples_posterior:\n",
    "\n",
    "    fix, axes = plt.subplots(3, 1, figsize=(8, 12))\n",
    "\n",
    "    plt.tight_layout()\n",
    "\n",
    "    ylims = []\n",
    "\n",
    "    for i in range(3):\n",
    "\n",
    "        axes[i].hist(\n",
    "            samples_posterior_gaussian[i, :],\n",
    "            bins=50,\n",
    "            label=\"Gaussian\",\n",
    "            alpha=0.3,\n",
    "            density=True,\n",
    "        )\n",
    "        axes[i].hist(\n",
    "            samples_posterior_laplace[i, :],\n",
    "            bins=50,\n",
    "            label=\"Laplace\",\n",
    "            alpha=0.3,\n",
    "            density=True,\n",
    "        )\n",
    "        axes[i].set_xlim([-0.5, 2.5])\n",
    "        axes[i].set_xlabel(f\"Parameter {i}\")\n",
    "        axes[i].set_ylabel(f\"Probability density\")\n",
    "\n",
    "        ylims.append(axes[i].get_ylim())\n",
    "\n",
    "    ymax = numpy.max(numpy.array(ylims))\n",
    "\n",
    "    for i in range(3):\n",
    "\n",
    "        axes[i].plot([m_true[i], m_true[i]], [0, ymax], label=\"true value\")\n",
    "        axes[i].set_ylim([0, ymax])\n",
    "\n",
    "    axes[0].legend()"
   ]
  }
 ],
 "metadata": {
  "language_info": {
   "codemirror_mode": {
    "name": "ipython",
    "version": 3
   },
   "file_extension": ".py",
   "mimetype": "text/x-python",
   "name": "python",
   "nbconvert_exporter": "python",
   "pygments_lexer": "ipython3",
   "version": "3.7.8"
  },
  "widgets": {
   "application/vnd.jupyter.widget-state+json": {
    "state": {
     "093fe430745244f79caf64a13afd2349": {
      "model_module": "@jupyter-widgets/controls",
      "model_module_version": "1.5.0",
      "model_name": "HBoxModel",
      "state": {
       "_dom_classes": [],
       "_model_module": "@jupyter-widgets/controls",
       "_model_module_version": "1.5.0",
       "_model_name": "HBoxModel",
       "_view_count": null,
       "_view_module": "@jupyter-widgets/controls",
       "_view_module_version": "1.5.0",
       "_view_name": "HBoxView",
       "box_style": "",
       "children": [
        "IPY_MODEL_09400cdf2ca949f48293aaea5ef82746",
        "IPY_MODEL_3e8af2fbc1ab4ae2a9791ab0fdcf5eba",
        "IPY_MODEL_684e1301e6db4a198e5692f6d97bed38"
       ],
       "layout": "IPY_MODEL_bbc81a8a942940c2ad07f4755a6b4f9c"
      }
     },
     "09400cdf2ca949f48293aaea5ef82746": {
      "model_module": "@jupyter-widgets/controls",
      "model_module_version": "1.5.0",
      "model_name": "HTMLModel",
      "state": {
       "_dom_classes": [],
       "_model_module": "@jupyter-widgets/controls",
       "_model_module_version": "1.5.0",
       "_model_name": "HTMLModel",
       "_view_count": null,
       "_view_module": "@jupyter-widgets/controls",
       "_view_module_version": "1.5.0",
       "_view_name": "HTMLView",
       "description": "",
       "description_tooltip": null,
       "layout": "IPY_MODEL_406040e7b3df4e4986c4802510c2e77e",
       "placeholder": "​",
       "style": "IPY_MODEL_f6ce5544b62b4523876e169ccee8bab4",
       "value": "Tot. acc rate: 0.90. Progress: 100%"
      }
     },
     "0ed190c0a4dd4f44abb69e2abada7f05": {
      "model_module": "@jupyter-widgets/base",
      "model_module_version": "1.2.0",
      "model_name": "LayoutModel",
      "state": {
       "_model_module": "@jupyter-widgets/base",
       "_model_module_version": "1.2.0",
       "_model_name": "LayoutModel",
       "_view_count": null,
       "_view_module": "@jupyter-widgets/base",
       "_view_module_version": "1.2.0",
       "_view_name": "LayoutView",
       "align_content": null,
       "align_items": null,
       "align_self": null,
       "border": null,
       "bottom": null,
       "display": "inline-flex",
       "flex": null,
       "flex_flow": "row wrap",
       "grid_area": null,
       "grid_auto_columns": null,
       "grid_auto_flow": null,
       "grid_auto_rows": null,
       "grid_column": null,
       "grid_gap": null,
       "grid_row": null,
       "grid_template_areas": null,
       "grid_template_columns": null,
       "grid_template_rows": null,
       "height": null,
       "justify_content": null,
       "justify_items": null,
       "left": null,
       "margin": null,
       "max_height": null,
       "max_width": null,
       "min_height": null,
       "min_width": null,
       "object_fit": null,
       "object_position": null,
       "order": null,
       "overflow": null,
       "overflow_x": null,
       "overflow_y": null,
       "padding": null,
       "right": null,
       "top": null,
       "visibility": null,
       "width": "100%"
      }
     },
     "0facda79399347ddbb5a0fcd26069dd3": {
      "model_module": "@jupyter-widgets/controls",
      "model_module_version": "1.5.0",
      "model_name": "HTMLModel",
      "state": {
       "_dom_classes": [],
       "_model_module": "@jupyter-widgets/controls",
       "_model_module_version": "1.5.0",
       "_model_name": "HTMLModel",
       "_view_count": null,
       "_view_module": "@jupyter-widgets/controls",
       "_view_module_version": "1.5.0",
       "_view_name": "HTMLView",
       "description": "",
       "description_tooltip": null,
       "layout": "IPY_MODEL_74fabc03b40347b69912cd2e74cc52e9",
       "placeholder": "​",
       "style": "IPY_MODEL_d06f27c101e84f84aa25d34d7b01fe5e",
       "value": "Tot. acc rate: 0.90. Progress: 100%"
      }
     },
     "10959ec6247a418b804b51c926cd6aa8": {
      "model_module": "@jupyter-widgets/controls",
      "model_module_version": "1.5.0",
      "model_name": "DescriptionStyleModel",
      "state": {
       "_model_module": "@jupyter-widgets/controls",
       "_model_module_version": "1.5.0",
       "_model_name": "DescriptionStyleModel",
       "_view_count": null,
       "_view_module": "@jupyter-widgets/base",
       "_view_module_version": "1.2.0",
       "_view_name": "StyleView",
       "description_width": ""
      }
     },
     "143ca5aaafd24a588357e88475fd525f": {
      "model_module": "@jupyter-widgets/controls",
      "model_module_version": "1.5.0",
      "model_name": "HTMLModel",
      "state": {
       "_dom_classes": [],
       "_model_module": "@jupyter-widgets/controls",
       "_model_module_version": "1.5.0",
       "_model_name": "HTMLModel",
       "_view_count": null,
       "_view_module": "@jupyter-widgets/controls",
       "_view_module_version": "1.5.0",
       "_view_name": "HTMLView",
       "description": "",
       "description_tooltip": null,
       "layout": "IPY_MODEL_7f615f731bf9485f916e0e2334e0f423",
       "placeholder": "​",
       "style": "IPY_MODEL_24aafdb2d4df4139a46cb7d9fb514d2a",
       "value": " 5000/5000 [00:03&lt;00:00, 1507.62it/s]"
      }
     },
     "1d1b4b18a6644dd38665c3df2045cb38": {
      "model_module": "@jupyter-widgets/controls",
      "model_module_version": "1.5.0",
      "model_name": "DescriptionStyleModel",
      "state": {
       "_model_module": "@jupyter-widgets/controls",
       "_model_module_version": "1.5.0",
       "_model_name": "DescriptionStyleModel",
       "_view_count": null,
       "_view_module": "@jupyter-widgets/base",
       "_view_module_version": "1.2.0",
       "_view_name": "StyleView",
       "description_width": ""
      }
     },
     "24aafdb2d4df4139a46cb7d9fb514d2a": {
      "model_module": "@jupyter-widgets/controls",
      "model_module_version": "1.5.0",
      "model_name": "DescriptionStyleModel",
      "state": {
       "_model_module": "@jupyter-widgets/controls",
       "_model_module_version": "1.5.0",
       "_model_name": "DescriptionStyleModel",
       "_view_count": null,
       "_view_module": "@jupyter-widgets/base",
       "_view_module_version": "1.2.0",
       "_view_name": "StyleView",
       "description_width": ""
      }
     },
     "2ac3cab5774f402a83902a95fc0d3a84": {
      "model_module": "@jupyter-widgets/base",
      "model_module_version": "1.2.0",
      "model_name": "LayoutModel",
      "state": {
       "_model_module": "@jupyter-widgets/base",
       "_model_module_version": "1.2.0",
       "_model_name": "LayoutModel",
       "_view_count": null,
       "_view_module": "@jupyter-widgets/base",
       "_view_module_version": "1.2.0",
       "_view_name": "LayoutView",
       "align_content": null,
       "align_items": null,
       "align_self": null,
       "border": null,
       "bottom": null,
       "display": null,
       "flex": "2",
       "flex_flow": null,
       "grid_area": null,
       "grid_auto_columns": null,
       "grid_auto_flow": null,
       "grid_auto_rows": null,
       "grid_column": null,
       "grid_gap": null,
       "grid_row": null,
       "grid_template_areas": null,
       "grid_template_columns": null,
       "grid_template_rows": null,
       "height": null,
       "justify_content": null,
       "justify_items": null,
       "left": null,
       "margin": null,
       "max_height": null,
       "max_width": null,
       "min_height": null,
       "min_width": null,
       "object_fit": null,
       "object_position": null,
       "order": null,
       "overflow": null,
       "overflow_x": null,
       "overflow_y": null,
       "padding": null,
       "right": null,
       "top": null,
       "visibility": null,
       "width": null
      }
     },
     "3e8af2fbc1ab4ae2a9791ab0fdcf5eba": {
      "model_module": "@jupyter-widgets/controls",
      "model_module_version": "1.5.0",
      "model_name": "FloatProgressModel",
      "state": {
       "_dom_classes": [],
       "_model_module": "@jupyter-widgets/controls",
       "_model_module_version": "1.5.0",
       "_model_name": "FloatProgressModel",
       "_view_count": null,
       "_view_module": "@jupyter-widgets/controls",
       "_view_module_version": "1.5.0",
       "_view_name": "ProgressView",
       "bar_style": "success",
       "description": "",
       "description_tooltip": null,
       "layout": "IPY_MODEL_a29a18de906e415abed4189a01525e23",
       "max": 5000.0,
       "min": 0.0,
       "orientation": "horizontal",
       "style": "IPY_MODEL_a3f9532819794b3785aac4573f6ce4fa",
       "value": 5000.0
      }
     },
     "3f3847a0f4a94083851f660aaaa883e9": {
      "model_module": "@jupyter-widgets/controls",
      "model_module_version": "1.5.0",
      "model_name": "FloatProgressModel",
      "state": {
       "_dom_classes": [],
       "_model_module": "@jupyter-widgets/controls",
       "_model_module_version": "1.5.0",
       "_model_name": "FloatProgressModel",
       "_view_count": null,
       "_view_module": "@jupyter-widgets/controls",
       "_view_module_version": "1.5.0",
       "_view_name": "ProgressView",
       "bar_style": "success",
       "description": "",
       "description_tooltip": null,
       "layout": "IPY_MODEL_2ac3cab5774f402a83902a95fc0d3a84",
       "max": 5000.0,
       "min": 0.0,
       "orientation": "horizontal",
       "style": "IPY_MODEL_be9f5c672d5a41d0a785eb19ab11a6c2",
       "value": 5000.0
      }
     },
     "406040e7b3df4e4986c4802510c2e77e": {
      "model_module": "@jupyter-widgets/base",
      "model_module_version": "1.2.0",
      "model_name": "LayoutModel",
      "state": {
       "_model_module": "@jupyter-widgets/base",
       "_model_module_version": "1.2.0",
       "_model_name": "LayoutModel",
       "_view_count": null,
       "_view_module": "@jupyter-widgets/base",
       "_view_module_version": "1.2.0",
       "_view_name": "LayoutView",
       "align_content": null,
       "align_items": null,
       "align_self": null,
       "border": null,
       "bottom": null,
       "display": null,
       "flex": null,
       "flex_flow": null,
       "grid_area": null,
       "grid_auto_columns": null,
       "grid_auto_flow": null,
       "grid_auto_rows": null,
       "grid_column": null,
       "grid_gap": null,
       "grid_row": null,
       "grid_template_areas": null,
       "grid_template_columns": null,
       "grid_template_rows": null,
       "height": null,
       "justify_content": null,
       "justify_items": null,
       "left": null,
       "margin": null,
       "max_height": null,
       "max_width": null,
       "min_height": null,
       "min_width": null,
       "object_fit": null,
       "object_position": null,
       "order": null,
       "overflow": null,
       "overflow_x": null,
       "overflow_y": null,
       "padding": null,
       "right": null,
       "top": null,
       "visibility": null,
       "width": null
      }
     },
     "4442ebbfb0be4c12bac84013eb044502": {
      "model_module": "@jupyter-widgets/controls",
      "model_module_version": "1.5.0",
      "model_name": "ProgressStyleModel",
      "state": {
       "_model_module": "@jupyter-widgets/controls",
       "_model_module_version": "1.5.0",
       "_model_name": "ProgressStyleModel",
       "_view_count": null,
       "_view_module": "@jupyter-widgets/base",
       "_view_module_version": "1.2.0",
       "_view_name": "StyleView",
       "bar_color": null,
       "description_width": ""
      }
     },
     "4fa9b19b732a4f4ebfff52cefb0eddc6": {
      "model_module": "@jupyter-widgets/controls",
      "model_module_version": "1.5.0",
      "model_name": "ProgressStyleModel",
      "state": {
       "_model_module": "@jupyter-widgets/controls",
       "_model_module_version": "1.5.0",
       "_model_name": "ProgressStyleModel",
       "_view_count": null,
       "_view_module": "@jupyter-widgets/base",
       "_view_module_version": "1.2.0",
       "_view_name": "StyleView",
       "bar_color": null,
       "description_width": ""
      }
     },
     "5616241087bc48f9bbced7f1e5c2e149": {
      "model_module": "@jupyter-widgets/base",
      "model_module_version": "1.2.0",
      "model_name": "LayoutModel",
      "state": {
       "_model_module": "@jupyter-widgets/base",
       "_model_module_version": "1.2.0",
       "_model_name": "LayoutModel",
       "_view_count": null,
       "_view_module": "@jupyter-widgets/base",
       "_view_module_version": "1.2.0",
       "_view_name": "LayoutView",
       "align_content": null,
       "align_items": null,
       "align_self": null,
       "border": null,
       "bottom": null,
       "display": "inline-flex",
       "flex": null,
       "flex_flow": "row wrap",
       "grid_area": null,
       "grid_auto_columns": null,
       "grid_auto_flow": null,
       "grid_auto_rows": null,
       "grid_column": null,
       "grid_gap": null,
       "grid_row": null,
       "grid_template_areas": null,
       "grid_template_columns": null,
       "grid_template_rows": null,
       "height": null,
       "justify_content": null,
       "justify_items": null,
       "left": null,
       "margin": null,
       "max_height": null,
       "max_width": null,
       "min_height": null,
       "min_width": null,
       "object_fit": null,
       "object_position": null,
       "order": null,
       "overflow": null,
       "overflow_x": null,
       "overflow_y": null,
       "padding": null,
       "right": null,
       "top": null,
       "visibility": null,
       "width": "100%"
      }
     },
     "591d31c9c1d147079887d98176afa087": {
      "model_module": "@jupyter-widgets/controls",
      "model_module_version": "1.5.0",
      "model_name": "FloatProgressModel",
      "state": {
       "_dom_classes": [],
       "_model_module": "@jupyter-widgets/controls",
       "_model_module_version": "1.5.0",
       "_model_name": "FloatProgressModel",
       "_view_count": null,
       "_view_module": "@jupyter-widgets/controls",
       "_view_module_version": "1.5.0",
       "_view_name": "ProgressView",
       "bar_style": "success",
       "description": "",
       "description_tooltip": null,
       "layout": "IPY_MODEL_ea59b3443c044c0dab24e916c45e1211",
       "max": 5000.0,
       "min": 0.0,
       "orientation": "horizontal",
       "style": "IPY_MODEL_4fa9b19b732a4f4ebfff52cefb0eddc6",
       "value": 5000.0
      }
     },
     "63b48e0e85b7453ea9170e3168dcbaa3": {
      "model_module": "@jupyter-widgets/controls",
      "model_module_version": "1.5.0",
      "model_name": "DescriptionStyleModel",
      "state": {
       "_model_module": "@jupyter-widgets/controls",
       "_model_module_version": "1.5.0",
       "_model_name": "DescriptionStyleModel",
       "_view_count": null,
       "_view_module": "@jupyter-widgets/base",
       "_view_module_version": "1.2.0",
       "_view_name": "StyleView",
       "description_width": ""
      }
     },
     "684e1301e6db4a198e5692f6d97bed38": {
      "model_module": "@jupyter-widgets/controls",
      "model_module_version": "1.5.0",
      "model_name": "HTMLModel",
      "state": {
       "_dom_classes": [],
       "_model_module": "@jupyter-widgets/controls",
       "_model_module_version": "1.5.0",
       "_model_name": "HTMLModel",
       "_view_count": null,
       "_view_module": "@jupyter-widgets/controls",
       "_view_module_version": "1.5.0",
       "_view_name": "HTMLView",
       "description": "",
       "description_tooltip": null,
       "layout": "IPY_MODEL_a1b43a500c2e470cb5421f30ab641fe9",
       "placeholder": "​",
       "style": "IPY_MODEL_10959ec6247a418b804b51c926cd6aa8",
       "value": " 5000/5000 [00:03&lt;00:00, 1379.17it/s]"
      }
     },
     "69622329b6524d46904a400515e7c51b": {
      "model_module": "@jupyter-widgets/controls",
      "model_module_version": "1.5.0",
      "model_name": "HTMLModel",
      "state": {
       "_dom_classes": [],
       "_model_module": "@jupyter-widgets/controls",
       "_model_module_version": "1.5.0",
       "_model_name": "HTMLModel",
       "_view_count": null,
       "_view_module": "@jupyter-widgets/controls",
       "_view_module_version": "1.5.0",
       "_view_name": "HTMLView",
       "description": "",
       "description_tooltip": null,
       "layout": "IPY_MODEL_d7cb151fd216496ca21f4c7255868c46",
       "placeholder": "​",
       "style": "IPY_MODEL_d7e85652048b44ffb01a942567e989c8",
       "value": "Tot. acc rate: 0.90. Progress: 100%"
      }
     },
     "715a5133568944c3a24536c22559017a": {
      "model_module": "@jupyter-widgets/base",
      "model_module_version": "1.2.0",
      "model_name": "LayoutModel",
      "state": {
       "_model_module": "@jupyter-widgets/base",
       "_model_module_version": "1.2.0",
       "_model_name": "LayoutModel",
       "_view_count": null,
       "_view_module": "@jupyter-widgets/base",
       "_view_module_version": "1.2.0",
       "_view_name": "LayoutView",
       "align_content": null,
       "align_items": null,
       "align_self": null,
       "border": null,
       "bottom": null,
       "display": null,
       "flex": null,
       "flex_flow": null,
       "grid_area": null,
       "grid_auto_columns": null,
       "grid_auto_flow": null,
       "grid_auto_rows": null,
       "grid_column": null,
       "grid_gap": null,
       "grid_row": null,
       "grid_template_areas": null,
       "grid_template_columns": null,
       "grid_template_rows": null,
       "height": null,
       "justify_content": null,
       "justify_items": null,
       "left": null,
       "margin": null,
       "max_height": null,
       "max_width": null,
       "min_height": null,
       "min_width": null,
       "object_fit": null,
       "object_position": null,
       "order": null,
       "overflow": null,
       "overflow_x": null,
       "overflow_y": null,
       "padding": null,
       "right": null,
       "top": null,
       "visibility": null,
       "width": null
      }
     },
     "74fabc03b40347b69912cd2e74cc52e9": {
      "model_module": "@jupyter-widgets/base",
      "model_module_version": "1.2.0",
      "model_name": "LayoutModel",
      "state": {
       "_model_module": "@jupyter-widgets/base",
       "_model_module_version": "1.2.0",
       "_model_name": "LayoutModel",
       "_view_count": null,
       "_view_module": "@jupyter-widgets/base",
       "_view_module_version": "1.2.0",
       "_view_name": "LayoutView",
       "align_content": null,
       "align_items": null,
       "align_self": null,
       "border": null,
       "bottom": null,
       "display": null,
       "flex": null,
       "flex_flow": null,
       "grid_area": null,
       "grid_auto_columns": null,
       "grid_auto_flow": null,
       "grid_auto_rows": null,
       "grid_column": null,
       "grid_gap": null,
       "grid_row": null,
       "grid_template_areas": null,
       "grid_template_columns": null,
       "grid_template_rows": null,
       "height": null,
       "justify_content": null,
       "justify_items": null,
       "left": null,
       "margin": null,
       "max_height": null,
       "max_width": null,
       "min_height": null,
       "min_width": null,
       "object_fit": null,
       "object_position": null,
       "order": null,
       "overflow": null,
       "overflow_x": null,
       "overflow_y": null,
       "padding": null,
       "right": null,
       "top": null,
       "visibility": null,
       "width": null
      }
     },
     "767190e480054c4e8f6bd74934276afb": {
      "model_module": "@jupyter-widgets/controls",
      "model_module_version": "1.5.0",
      "model_name": "FloatProgressModel",
      "state": {
       "_dom_classes": [],
       "_model_module": "@jupyter-widgets/controls",
       "_model_module_version": "1.5.0",
       "_model_name": "FloatProgressModel",
       "_view_count": null,
       "_view_module": "@jupyter-widgets/controls",
       "_view_module_version": "1.5.0",
       "_view_name": "ProgressView",
       "bar_style": "success",
       "description": "",
       "description_tooltip": null,
       "layout": "IPY_MODEL_c690d59afdd34b42a924ad2462b70d89",
       "max": 5000.0,
       "min": 0.0,
       "orientation": "horizontal",
       "style": "IPY_MODEL_4442ebbfb0be4c12bac84013eb044502",
       "value": 5000.0
      }
     },
     "7f615f731bf9485f916e0e2334e0f423": {
      "model_module": "@jupyter-widgets/base",
      "model_module_version": "1.2.0",
      "model_name": "LayoutModel",
      "state": {
       "_model_module": "@jupyter-widgets/base",
       "_model_module_version": "1.2.0",
       "_model_name": "LayoutModel",
       "_view_count": null,
       "_view_module": "@jupyter-widgets/base",
       "_view_module_version": "1.2.0",
       "_view_name": "LayoutView",
       "align_content": null,
       "align_items": null,
       "align_self": null,
       "border": null,
       "bottom": null,
       "display": null,
       "flex": null,
       "flex_flow": null,
       "grid_area": null,
       "grid_auto_columns": null,
       "grid_auto_flow": null,
       "grid_auto_rows": null,
       "grid_column": null,
       "grid_gap": null,
       "grid_row": null,
       "grid_template_areas": null,
       "grid_template_columns": null,
       "grid_template_rows": null,
       "height": null,
       "justify_content": null,
       "justify_items": null,
       "left": null,
       "margin": null,
       "max_height": null,
       "max_width": null,
       "min_height": null,
       "min_width": null,
       "object_fit": null,
       "object_position": null,
       "order": null,
       "overflow": null,
       "overflow_x": null,
       "overflow_y": null,
       "padding": null,
       "right": null,
       "top": null,
       "visibility": null,
       "width": null
      }
     },
     "8408a9a481c248a998e97f1d0423fbd1": {
      "model_module": "@jupyter-widgets/controls",
      "model_module_version": "1.5.0",
      "model_name": "HTMLModel",
      "state": {
       "_dom_classes": [],
       "_model_module": "@jupyter-widgets/controls",
       "_model_module_version": "1.5.0",
       "_model_name": "HTMLModel",
       "_view_count": null,
       "_view_module": "@jupyter-widgets/controls",
       "_view_module_version": "1.5.0",
       "_view_name": "HTMLView",
       "description": "",
       "description_tooltip": null,
       "layout": "IPY_MODEL_715a5133568944c3a24536c22559017a",
       "placeholder": "​",
       "style": "IPY_MODEL_1d1b4b18a6644dd38665c3df2045cb38",
       "value": "Tot. acc rate: 0.91. Progress: 100%"
      }
     },
     "865496bfbbd1442f8b8686223784a15f": {
      "model_module": "@jupyter-widgets/controls",
      "model_module_version": "1.5.0",
      "model_name": "DescriptionStyleModel",
      "state": {
       "_model_module": "@jupyter-widgets/controls",
       "_model_module_version": "1.5.0",
       "_model_name": "DescriptionStyleModel",
       "_view_count": null,
       "_view_module": "@jupyter-widgets/base",
       "_view_module_version": "1.2.0",
       "_view_name": "StyleView",
       "description_width": ""
      }
     },
     "8d127c95335c4d36a8ccf04e5442dbc6": {
      "model_module": "@jupyter-widgets/base",
      "model_module_version": "1.2.0",
      "model_name": "LayoutModel",
      "state": {
       "_model_module": "@jupyter-widgets/base",
       "_model_module_version": "1.2.0",
       "_model_name": "LayoutModel",
       "_view_count": null,
       "_view_module": "@jupyter-widgets/base",
       "_view_module_version": "1.2.0",
       "_view_name": "LayoutView",
       "align_content": null,
       "align_items": null,
       "align_self": null,
       "border": null,
       "bottom": null,
       "display": "inline-flex",
       "flex": null,
       "flex_flow": "row wrap",
       "grid_area": null,
       "grid_auto_columns": null,
       "grid_auto_flow": null,
       "grid_auto_rows": null,
       "grid_column": null,
       "grid_gap": null,
       "grid_row": null,
       "grid_template_areas": null,
       "grid_template_columns": null,
       "grid_template_rows": null,
       "height": null,
       "justify_content": null,
       "justify_items": null,
       "left": null,
       "margin": null,
       "max_height": null,
       "max_width": null,
       "min_height": null,
       "min_width": null,
       "object_fit": null,
       "object_position": null,
       "order": null,
       "overflow": null,
       "overflow_x": null,
       "overflow_y": null,
       "padding": null,
       "right": null,
       "top": null,
       "visibility": null,
       "width": "100%"
      }
     },
     "9c068fdf774d4732a4d6c32695a87afe": {
      "model_module": "@jupyter-widgets/controls",
      "model_module_version": "1.5.0",
      "model_name": "HBoxModel",
      "state": {
       "_dom_classes": [],
       "_model_module": "@jupyter-widgets/controls",
       "_model_module_version": "1.5.0",
       "_model_name": "HBoxModel",
       "_view_count": null,
       "_view_module": "@jupyter-widgets/controls",
       "_view_module_version": "1.5.0",
       "_view_name": "HBoxView",
       "box_style": "",
       "children": [
        "IPY_MODEL_8408a9a481c248a998e97f1d0423fbd1",
        "IPY_MODEL_767190e480054c4e8f6bd74934276afb",
        "IPY_MODEL_dfd7868fb37645ddb89f89fbd202a551"
       ],
       "layout": "IPY_MODEL_8d127c95335c4d36a8ccf04e5442dbc6"
      }
     },
     "a1b43a500c2e470cb5421f30ab641fe9": {
      "model_module": "@jupyter-widgets/base",
      "model_module_version": "1.2.0",
      "model_name": "LayoutModel",
      "state": {
       "_model_module": "@jupyter-widgets/base",
       "_model_module_version": "1.2.0",
       "_model_name": "LayoutModel",
       "_view_count": null,
       "_view_module": "@jupyter-widgets/base",
       "_view_module_version": "1.2.0",
       "_view_name": "LayoutView",
       "align_content": null,
       "align_items": null,
       "align_self": null,
       "border": null,
       "bottom": null,
       "display": null,
       "flex": null,
       "flex_flow": null,
       "grid_area": null,
       "grid_auto_columns": null,
       "grid_auto_flow": null,
       "grid_auto_rows": null,
       "grid_column": null,
       "grid_gap": null,
       "grid_row": null,
       "grid_template_areas": null,
       "grid_template_columns": null,
       "grid_template_rows": null,
       "height": null,
       "justify_content": null,
       "justify_items": null,
       "left": null,
       "margin": null,
       "max_height": null,
       "max_width": null,
       "min_height": null,
       "min_width": null,
       "object_fit": null,
       "object_position": null,
       "order": null,
       "overflow": null,
       "overflow_x": null,
       "overflow_y": null,
       "padding": null,
       "right": null,
       "top": null,
       "visibility": null,
       "width": null
      }
     },
     "a29a18de906e415abed4189a01525e23": {
      "model_module": "@jupyter-widgets/base",
      "model_module_version": "1.2.0",
      "model_name": "LayoutModel",
      "state": {
       "_model_module": "@jupyter-widgets/base",
       "_model_module_version": "1.2.0",
       "_model_name": "LayoutModel",
       "_view_count": null,
       "_view_module": "@jupyter-widgets/base",
       "_view_module_version": "1.2.0",
       "_view_name": "LayoutView",
       "align_content": null,
       "align_items": null,
       "align_self": null,
       "border": null,
       "bottom": null,
       "display": null,
       "flex": "2",
       "flex_flow": null,
       "grid_area": null,
       "grid_auto_columns": null,
       "grid_auto_flow": null,
       "grid_auto_rows": null,
       "grid_column": null,
       "grid_gap": null,
       "grid_row": null,
       "grid_template_areas": null,
       "grid_template_columns": null,
       "grid_template_rows": null,
       "height": null,
       "justify_content": null,
       "justify_items": null,
       "left": null,
       "margin": null,
       "max_height": null,
       "max_width": null,
       "min_height": null,
       "min_width": null,
       "object_fit": null,
       "object_position": null,
       "order": null,
       "overflow": null,
       "overflow_x": null,
       "overflow_y": null,
       "padding": null,
       "right": null,
       "top": null,
       "visibility": null,
       "width": null
      }
     },
     "a3f9532819794b3785aac4573f6ce4fa": {
      "model_module": "@jupyter-widgets/controls",
      "model_module_version": "1.5.0",
      "model_name": "ProgressStyleModel",
      "state": {
       "_model_module": "@jupyter-widgets/controls",
       "_model_module_version": "1.5.0",
       "_model_name": "ProgressStyleModel",
       "_view_count": null,
       "_view_module": "@jupyter-widgets/base",
       "_view_module_version": "1.2.0",
       "_view_name": "StyleView",
       "bar_color": null,
       "description_width": ""
      }
     },
     "b67eb129bd0b4ce290c005e5fe70360c": {
      "model_module": "@jupyter-widgets/controls",
      "model_module_version": "1.5.0",
      "model_name": "HTMLModel",
      "state": {
       "_dom_classes": [],
       "_model_module": "@jupyter-widgets/controls",
       "_model_module_version": "1.5.0",
       "_model_name": "HTMLModel",
       "_view_count": null,
       "_view_module": "@jupyter-widgets/controls",
       "_view_module_version": "1.5.0",
       "_view_name": "HTMLView",
       "description": "",
       "description_tooltip": null,
       "layout": "IPY_MODEL_fa5ebb3fa6ec4840bd795d7d4bca137a",
       "placeholder": "​",
       "style": "IPY_MODEL_865496bfbbd1442f8b8686223784a15f",
       "value": " 5000/5000 [00:02&lt;00:00, 1875.63it/s]"
      }
     },
     "bbc81a8a942940c2ad07f4755a6b4f9c": {
      "model_module": "@jupyter-widgets/base",
      "model_module_version": "1.2.0",
      "model_name": "LayoutModel",
      "state": {
       "_model_module": "@jupyter-widgets/base",
       "_model_module_version": "1.2.0",
       "_model_name": "LayoutModel",
       "_view_count": null,
       "_view_module": "@jupyter-widgets/base",
       "_view_module_version": "1.2.0",
       "_view_name": "LayoutView",
       "align_content": null,
       "align_items": null,
       "align_self": null,
       "border": null,
       "bottom": null,
       "display": "inline-flex",
       "flex": null,
       "flex_flow": "row wrap",
       "grid_area": null,
       "grid_auto_columns": null,
       "grid_auto_flow": null,
       "grid_auto_rows": null,
       "grid_column": null,
       "grid_gap": null,
       "grid_row": null,
       "grid_template_areas": null,
       "grid_template_columns": null,
       "grid_template_rows": null,
       "height": null,
       "justify_content": null,
       "justify_items": null,
       "left": null,
       "margin": null,
       "max_height": null,
       "max_width": null,
       "min_height": null,
       "min_width": null,
       "object_fit": null,
       "object_position": null,
       "order": null,
       "overflow": null,
       "overflow_x": null,
       "overflow_y": null,
       "padding": null,
       "right": null,
       "top": null,
       "visibility": null,
       "width": "100%"
      }
     },
     "be0e3144790d4905ad3ef70667c945cf": {
      "model_module": "@jupyter-widgets/controls",
      "model_module_version": "1.5.0",
      "model_name": "HBoxModel",
      "state": {
       "_dom_classes": [],
       "_model_module": "@jupyter-widgets/controls",
       "_model_module_version": "1.5.0",
       "_model_name": "HBoxModel",
       "_view_count": null,
       "_view_module": "@jupyter-widgets/controls",
       "_view_module_version": "1.5.0",
       "_view_name": "HBoxView",
       "box_style": "",
       "children": [
        "IPY_MODEL_0facda79399347ddbb5a0fcd26069dd3",
        "IPY_MODEL_3f3847a0f4a94083851f660aaaa883e9",
        "IPY_MODEL_143ca5aaafd24a588357e88475fd525f"
       ],
       "layout": "IPY_MODEL_5616241087bc48f9bbced7f1e5c2e149"
      }
     },
     "be9f5c672d5a41d0a785eb19ab11a6c2": {
      "model_module": "@jupyter-widgets/controls",
      "model_module_version": "1.5.0",
      "model_name": "ProgressStyleModel",
      "state": {
       "_model_module": "@jupyter-widgets/controls",
       "_model_module_version": "1.5.0",
       "_model_name": "ProgressStyleModel",
       "_view_count": null,
       "_view_module": "@jupyter-widgets/base",
       "_view_module_version": "1.2.0",
       "_view_name": "StyleView",
       "bar_color": null,
       "description_width": ""
      }
     },
     "c690d59afdd34b42a924ad2462b70d89": {
      "model_module": "@jupyter-widgets/base",
      "model_module_version": "1.2.0",
      "model_name": "LayoutModel",
      "state": {
       "_model_module": "@jupyter-widgets/base",
       "_model_module_version": "1.2.0",
       "_model_name": "LayoutModel",
       "_view_count": null,
       "_view_module": "@jupyter-widgets/base",
       "_view_module_version": "1.2.0",
       "_view_name": "LayoutView",
       "align_content": null,
       "align_items": null,
       "align_self": null,
       "border": null,
       "bottom": null,
       "display": null,
       "flex": "2",
       "flex_flow": null,
       "grid_area": null,
       "grid_auto_columns": null,
       "grid_auto_flow": null,
       "grid_auto_rows": null,
       "grid_column": null,
       "grid_gap": null,
       "grid_row": null,
       "grid_template_areas": null,
       "grid_template_columns": null,
       "grid_template_rows": null,
       "height": null,
       "justify_content": null,
       "justify_items": null,
       "left": null,
       "margin": null,
       "max_height": null,
       "max_width": null,
       "min_height": null,
       "min_width": null,
       "object_fit": null,
       "object_position": null,
       "order": null,
       "overflow": null,
       "overflow_x": null,
       "overflow_y": null,
       "padding": null,
       "right": null,
       "top": null,
       "visibility": null,
       "width": null
      }
     },
     "d06f27c101e84f84aa25d34d7b01fe5e": {
      "model_module": "@jupyter-widgets/controls",
      "model_module_version": "1.5.0",
      "model_name": "DescriptionStyleModel",
      "state": {
       "_model_module": "@jupyter-widgets/controls",
       "_model_module_version": "1.5.0",
       "_model_name": "DescriptionStyleModel",
       "_view_count": null,
       "_view_module": "@jupyter-widgets/base",
       "_view_module_version": "1.2.0",
       "_view_name": "StyleView",
       "description_width": ""
      }
     },
     "d7cb151fd216496ca21f4c7255868c46": {
      "model_module": "@jupyter-widgets/base",
      "model_module_version": "1.2.0",
      "model_name": "LayoutModel",
      "state": {
       "_model_module": "@jupyter-widgets/base",
       "_model_module_version": "1.2.0",
       "_model_name": "LayoutModel",
       "_view_count": null,
       "_view_module": "@jupyter-widgets/base",
       "_view_module_version": "1.2.0",
       "_view_name": "LayoutView",
       "align_content": null,
       "align_items": null,
       "align_self": null,
       "border": null,
       "bottom": null,
       "display": null,
       "flex": null,
       "flex_flow": null,
       "grid_area": null,
       "grid_auto_columns": null,
       "grid_auto_flow": null,
       "grid_auto_rows": null,
       "grid_column": null,
       "grid_gap": null,
       "grid_row": null,
       "grid_template_areas": null,
       "grid_template_columns": null,
       "grid_template_rows": null,
       "height": null,
       "justify_content": null,
       "justify_items": null,
       "left": null,
       "margin": null,
       "max_height": null,
       "max_width": null,
       "min_height": null,
       "min_width": null,
       "object_fit": null,
       "object_position": null,
       "order": null,
       "overflow": null,
       "overflow_x": null,
       "overflow_y": null,
       "padding": null,
       "right": null,
       "top": null,
       "visibility": null,
       "width": null
      }
     },
     "d7e85652048b44ffb01a942567e989c8": {
      "model_module": "@jupyter-widgets/controls",
      "model_module_version": "1.5.0",
      "model_name": "DescriptionStyleModel",
      "state": {
       "_model_module": "@jupyter-widgets/controls",
       "_model_module_version": "1.5.0",
       "_model_name": "DescriptionStyleModel",
       "_view_count": null,
       "_view_module": "@jupyter-widgets/base",
       "_view_module_version": "1.2.0",
       "_view_name": "StyleView",
       "description_width": ""
      }
     },
     "dfd7868fb37645ddb89f89fbd202a551": {
      "model_module": "@jupyter-widgets/controls",
      "model_module_version": "1.5.0",
      "model_name": "HTMLModel",
      "state": {
       "_dom_classes": [],
       "_model_module": "@jupyter-widgets/controls",
       "_model_module_version": "1.5.0",
       "_model_name": "HTMLModel",
       "_view_count": null,
       "_view_module": "@jupyter-widgets/controls",
       "_view_module_version": "1.5.0",
       "_view_name": "HTMLView",
       "description": "",
       "description_tooltip": null,
       "layout": "IPY_MODEL_fef304af995049ca95fcc7ed1f90ed40",
       "placeholder": "​",
       "style": "IPY_MODEL_63b48e0e85b7453ea9170e3168dcbaa3",
       "value": " 5000/5000 [00:01&lt;00:00, 4767.29it/s]"
      }
     },
     "ea59b3443c044c0dab24e916c45e1211": {
      "model_module": "@jupyter-widgets/base",
      "model_module_version": "1.2.0",
      "model_name": "LayoutModel",
      "state": {
       "_model_module": "@jupyter-widgets/base",
       "_model_module_version": "1.2.0",
       "_model_name": "LayoutModel",
       "_view_count": null,
       "_view_module": "@jupyter-widgets/base",
       "_view_module_version": "1.2.0",
       "_view_name": "LayoutView",
       "align_content": null,
       "align_items": null,
       "align_self": null,
       "border": null,
       "bottom": null,
       "display": null,
       "flex": "2",
       "flex_flow": null,
       "grid_area": null,
       "grid_auto_columns": null,
       "grid_auto_flow": null,
       "grid_auto_rows": null,
       "grid_column": null,
       "grid_gap": null,
       "grid_row": null,
       "grid_template_areas": null,
       "grid_template_columns": null,
       "grid_template_rows": null,
       "height": null,
       "justify_content": null,
       "justify_items": null,
       "left": null,
       "margin": null,
       "max_height": null,
       "max_width": null,
       "min_height": null,
       "min_width": null,
       "object_fit": null,
       "object_position": null,
       "order": null,
       "overflow": null,
       "overflow_x": null,
       "overflow_y": null,
       "padding": null,
       "right": null,
       "top": null,
       "visibility": null,
       "width": null
      }
     },
     "f33e68b45f1a49e884e73fc88e04fc35": {
      "model_module": "@jupyter-widgets/controls",
      "model_module_version": "1.5.0",
      "model_name": "HBoxModel",
      "state": {
       "_dom_classes": [],
       "_model_module": "@jupyter-widgets/controls",
       "_model_module_version": "1.5.0",
       "_model_name": "HBoxModel",
       "_view_count": null,
       "_view_module": "@jupyter-widgets/controls",
       "_view_module_version": "1.5.0",
       "_view_name": "HBoxView",
       "box_style": "",
       "children": [
        "IPY_MODEL_69622329b6524d46904a400515e7c51b",
        "IPY_MODEL_591d31c9c1d147079887d98176afa087",
        "IPY_MODEL_b67eb129bd0b4ce290c005e5fe70360c"
       ],
       "layout": "IPY_MODEL_0ed190c0a4dd4f44abb69e2abada7f05"
      }
     },
     "f6ce5544b62b4523876e169ccee8bab4": {
      "model_module": "@jupyter-widgets/controls",
      "model_module_version": "1.5.0",
      "model_name": "DescriptionStyleModel",
      "state": {
       "_model_module": "@jupyter-widgets/controls",
       "_model_module_version": "1.5.0",
       "_model_name": "DescriptionStyleModel",
       "_view_count": null,
       "_view_module": "@jupyter-widgets/base",
       "_view_module_version": "1.2.0",
       "_view_name": "StyleView",
       "description_width": ""
      }
     },
     "fa5ebb3fa6ec4840bd795d7d4bca137a": {
      "model_module": "@jupyter-widgets/base",
      "model_module_version": "1.2.0",
      "model_name": "LayoutModel",
      "state": {
       "_model_module": "@jupyter-widgets/base",
       "_model_module_version": "1.2.0",
       "_model_name": "LayoutModel",
       "_view_count": null,
       "_view_module": "@jupyter-widgets/base",
       "_view_module_version": "1.2.0",
       "_view_name": "LayoutView",
       "align_content": null,
       "align_items": null,
       "align_self": null,
       "border": null,
       "bottom": null,
       "display": null,
       "flex": null,
       "flex_flow": null,
       "grid_area": null,
       "grid_auto_columns": null,
       "grid_auto_flow": null,
       "grid_auto_rows": null,
       "grid_column": null,
       "grid_gap": null,
       "grid_row": null,
       "grid_template_areas": null,
       "grid_template_columns": null,
       "grid_template_rows": null,
       "height": null,
       "justify_content": null,
       "justify_items": null,
       "left": null,
       "margin": null,
       "max_height": null,
       "max_width": null,
       "min_height": null,
       "min_width": null,
       "object_fit": null,
       "object_position": null,
       "order": null,
       "overflow": null,
       "overflow_x": null,
       "overflow_y": null,
       "padding": null,
       "right": null,
       "top": null,
       "visibility": null,
       "width": null
      }
     },
     "fef304af995049ca95fcc7ed1f90ed40": {
      "model_module": "@jupyter-widgets/base",
      "model_module_version": "1.2.0",
      "model_name": "LayoutModel",
      "state": {
       "_model_module": "@jupyter-widgets/base",
       "_model_module_version": "1.2.0",
       "_model_name": "LayoutModel",
       "_view_count": null,
       "_view_module": "@jupyter-widgets/base",
       "_view_module_version": "1.2.0",
       "_view_name": "LayoutView",
       "align_content": null,
       "align_items": null,
       "align_self": null,
       "border": null,
       "bottom": null,
       "display": null,
       "flex": null,
       "flex_flow": null,
       "grid_area": null,
       "grid_auto_columns": null,
       "grid_auto_flow": null,
       "grid_auto_rows": null,
       "grid_column": null,
       "grid_gap": null,
       "grid_row": null,
       "grid_template_areas": null,
       "grid_template_columns": null,
       "grid_template_rows": null,
       "height": null,
       "justify_content": null,
       "justify_items": null,
       "left": null,
       "margin": null,
       "max_height": null,
       "max_width": null,
       "min_height": null,
       "min_width": null,
       "object_fit": null,
       "object_position": null,
       "order": null,
       "overflow": null,
       "overflow_x": null,
       "overflow_y": null,
       "padding": null,
       "right": null,
       "top": null,
       "visibility": null,
       "width": null
      }
     }
    },
    "version_major": 2,
    "version_minor": 0
   }
  }
 },
 "nbformat": 4,
 "nbformat_minor": 4
}
