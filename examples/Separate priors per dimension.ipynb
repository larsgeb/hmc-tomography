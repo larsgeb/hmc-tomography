{
 "cells": [
  {
   "cell_type": "markdown",
   "metadata": {},
   "source": [
    "## Separate priors per dimension"
   ]
  },
  {
   "cell_type": "code",
   "execution_count": 19,
   "metadata": {},
   "outputs": [],
   "source": [
    "import hmc_tomography\n",
    "import numpy"
   ]
  },
  {
   "cell_type": "markdown",
   "metadata": {},
   "source": [
    "Create an empty 4d target"
   ]
  },
  {
   "cell_type": "code",
   "execution_count": 20,
   "metadata": {},
   "outputs": [],
   "source": [
    "target = hmc_tomography.Targets.Empty(4)"
   ]
  },
  {
   "cell_type": "markdown",
   "metadata": {},
   "source": [
    "Create prior 1, a L0.5-like distribution"
   ]
  },
  {
   "cell_type": "code",
   "execution_count": 21,
   "metadata": {},
   "outputs": [],
   "source": [
    "prior_1 = hmc_tomography.Priors.L05(\n",
    "    1,\n",
    "    lower_bounds=-10 * numpy.ones((1, 1)),\n",
    "    upper_bounds=10 * numpy.ones((1, 1)),\n",
    "    dispersion=1,\n",
    ")"
   ]
  },
  {
   "cell_type": "markdown",
   "metadata": {},
   "source": [
    "Create prior 2, a 1d normal distribution with mu = 0, sigma = 4, upper truncated at 10"
   ]
  },
  {
   "cell_type": "code",
   "execution_count": 22,
   "metadata": {},
   "outputs": [],
   "source": [
    "prior_2 = hmc_tomography.Priors.Normal(\n",
    "    1,\n",
    "    means=numpy.zeros((1, 1)),\n",
    "    covariance=4 * numpy.ones((1, 1)),\n",
    "    upper_bounds=10 * numpy.ones((1, 1)),\n",
    ")"
   ]
  },
  {
   "cell_type": "markdown",
   "metadata": {},
   "source": [
    "Create prior 3, a 2d normal distribution with loc = 0, dispersion = 1, truncated between -4 and 4"
   ]
  },
  {
   "cell_type": "code",
   "execution_count": 23,
   "metadata": {},
   "outputs": [],
   "source": [
    "prior_3 = hmc_tomography.Priors.Sparse(\n",
    "    2,\n",
    "    lower_bounds=-4 * numpy.ones((2, 1)),\n",
    "    upper_bounds=4 * numpy.ones((2, 1)),\n",
    "    dispersion=1,\n",
    ")"
   ]
  },
  {
   "cell_type": "markdown",
   "metadata": {},
   "source": [
    "Combine the priors"
   ]
  },
  {
   "cell_type": "code",
   "execution_count": 24,
   "metadata": {},
   "outputs": [],
   "source": [
    "prior = hmc_tomography.Priors.CompositePrior(4, [prior_1, prior_2, prior_3])"
   ]
  },
  {
   "cell_type": "markdown",
   "metadata": {},
   "source": [
    "Create a unit mass matrix"
   ]
  },
  {
   "cell_type": "code",
   "execution_count": 27,
   "metadata": {},
   "outputs": [],
   "source": [
    "mass_matrix = hmc_tomography.MassMatrices.Unit(4)"
   ]
  },
  {
   "cell_type": "markdown",
   "metadata": {},
   "source": [
    "Create the sampler object and sample"
   ]
  },
  {
   "cell_type": "code",
   "execution_count": 28,
   "metadata": {},
   "outputs": [
    {
     "name": "stderr",
     "output_type": "stream",
     "text": [
      "Tot. acc rate: 0.33. Last 100 acc rate: 0.26. Progress:  27%|██▋       | 26920/100000 [00:51<02:19, 523.46it/s]\n"
     ]
    },
    {
     "data": {
      "text/plain": [
       "0"
      ]
     },
     "execution_count": 28,
     "metadata": {},
     "output_type": "execute_result"
    }
   ],
   "source": [
    "sampler = hmc_tomography.Samplers.HMC(target, mass_matrix, prior)\n",
    "filename = \"samples_composite.h5\"\n",
    "sampler.sample(filename, proposals=100000, online_thinning=1, time_step=0.9);"
   ]
  },
  {
   "cell_type": "markdown",
   "metadata": {},
   "source": [
    "Visualize"
   ]
  },
  {
   "cell_type": "code",
   "execution_count": 29,
   "metadata": {},
   "outputs": [
    {
     "data": {
      "image/png": "[encoded data removed]",
      "text/plain": [
       "<Figure size 576x576 with 16 Axes>"
      ]
     },
     "metadata": {
      "needs_background": "light"
     },
     "output_type": "display_data"
    }
   ],
   "source": [
    "with hmc_tomography.Post.Samples(filename) as samples:\n",
    "    hmc_tomography.Post.Visualization.marginal_grid(samples, [0, 1, 2, 3], show=True)"
   ]
  }
 ],
 "metadata": {
  "kernelspec": {
   "display_name": "Python 3",
   "language": "python",
   "name": "python3"
  },
  "language_info": {
   "codemirror_mode": {
    "name": "ipython",
    "version": 3
   },
   "file_extension": ".py",
   "mimetype": "text/x-python",
   "name": "python",
   "nbconvert_exporter": "python",
   "pygments_lexer": "ipython3",
   "version": "3.7.3"
  }
 },
 "nbformat": 4,
 "nbformat_minor": 2
}
