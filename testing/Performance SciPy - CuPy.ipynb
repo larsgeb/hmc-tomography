{
 "cells": [
  {
   "cell_type": "code",
   "execution_count": 1,
   "metadata": {},
   "outputs": [],
   "source": [
    "import numpy\n",
    "import cupy\n",
    "\n",
    "import scipy\n",
    "import scipy.sparse.linalg\n",
    "from scipy.sparse.linalg import splu\n",
    "import cupyx"
   ]
  },
  {
   "cell_type": "code",
   "execution_count": 2,
   "metadata": {},
   "outputs": [],
   "source": [
    "mempool = cupy.get_default_memory_pool()\n",
    "\n",
    "with cupy.cuda.Device(0):\n",
    "    mempool.set_limit(size=3*1024**3)  # 2 GiB"
   ]
  },
  {
   "cell_type": "markdown",
   "metadata": {},
   "source": [
    "# Dense matrices performance"
   ]
  },
  {
   "cell_type": "markdown",
   "metadata": {},
   "source": [
    "High-D, numpy, no correlation"
   ]
  },
  {
   "cell_type": "code",
   "execution_count": 3,
   "metadata": {},
   "outputs": [
    {
     "name": "stdout",
     "output_type": "stream",
     "text": [
      "(100000, 100)\n",
      "17482.52\n",
      "17482.52\n",
      "17482.52\n",
      "17482.52\n",
      "17482.52\n",
      "17482.52\n",
      "4.19 ms ± 552 µs per loop (mean ± std. dev. of 7 runs, 50 loops each)\n",
      "2.85 ms ± 370 µs per loop (mean ± std. dev. of 7 runs, 50 loops each)\n",
      "6.55 ms ± 257 µs per loop (mean ± std. dev. of 7 runs, 50 loops each)\n",
      "5.37 ms ± 296 µs per loop (mean ± std. dev. of 7 runs, 50 loops each)\n",
      "6.31 ms ± 554 µs per loop (mean ± std. dev. of 7 runs, 50 loops each)\n"
     ]
    },
    {
     "ename": "KeyboardInterrupt",
     "evalue": "",
     "output_type": "error",
     "traceback": [
      "\u001b[0;31m---------------------------------------------------------------------------\u001b[0m",
      "\u001b[0;31mKeyboardInterrupt\u001b[0m                         Traceback (most recent call last)",
      "\u001b[0;32m<ipython-input-3-1a9867daed1e>\u001b[0m in \u001b[0;36m<module>\u001b[0;34m\u001b[0m\n\u001b[1;32m     43\u001b[0m \u001b[0mget_ipython\u001b[0m\u001b[0;34m(\u001b[0m\u001b[0;34m)\u001b[0m\u001b[0;34m.\u001b[0m\u001b[0mrun_line_magic\u001b[0m\u001b[0;34m(\u001b[0m\u001b[0;34m'timeit'\u001b[0m\u001b[0;34m,\u001b[0m \u001b[0;34m'-n 50 0.5 * ((m.T @ Gt_csr - d0t) @ ((G @ m - d0) / covariance)).item()'\u001b[0m\u001b[0;34m)\u001b[0m\u001b[0;34m\u001b[0m\u001b[0;34m\u001b[0m\u001b[0m\n\u001b[1;32m     44\u001b[0m \u001b[0mget_ipython\u001b[0m\u001b[0;34m(\u001b[0m\u001b[0;34m)\u001b[0m\u001b[0;34m.\u001b[0m\u001b[0mrun_line_magic\u001b[0m\u001b[0;34m(\u001b[0m\u001b[0;34m'timeit'\u001b[0m\u001b[0;34m,\u001b[0m \u001b[0;34m'-n 50 0.5 * ((m.T @ Gt - d0t) @ ((G_csc @ m - d0) / covariance)).item()'\u001b[0m\u001b[0;34m)\u001b[0m\u001b[0;34m\u001b[0m\u001b[0;34m\u001b[0m\u001b[0m\n\u001b[0;32m---> 45\u001b[0;31m \u001b[0mget_ipython\u001b[0m\u001b[0;34m(\u001b[0m\u001b[0;34m)\u001b[0m\u001b[0;34m.\u001b[0m\u001b[0mrun_line_magic\u001b[0m\u001b[0;34m(\u001b[0m\u001b[0;34m'timeit'\u001b[0m\u001b[0;34m,\u001b[0m \u001b[0;34m'-n 50 0.5 * ((m.T @ Gt_csr - d0t) @ ((G_csc @ m - d0) / covariance)).item()'\u001b[0m\u001b[0;34m)\u001b[0m\u001b[0;34m\u001b[0m\u001b[0;34m\u001b[0m\u001b[0m\n\u001b[0m",
      "\u001b[0;32m~/.local/lib/python3.7/site-packages/IPython/core/interactiveshell.py\u001b[0m in \u001b[0;36mrun_line_magic\u001b[0;34m(self, magic_name, line, _stack_depth)\u001b[0m\n\u001b[1;32m   2315\u001b[0m                 \u001b[0mkwargs\u001b[0m\u001b[0;34m[\u001b[0m\u001b[0;34m'local_ns'\u001b[0m\u001b[0;34m]\u001b[0m \u001b[0;34m=\u001b[0m \u001b[0msys\u001b[0m\u001b[0;34m.\u001b[0m\u001b[0m_getframe\u001b[0m\u001b[0;34m(\u001b[0m\u001b[0mstack_depth\u001b[0m\u001b[0;34m)\u001b[0m\u001b[0;34m.\u001b[0m\u001b[0mf_locals\u001b[0m\u001b[0;34m\u001b[0m\u001b[0;34m\u001b[0m\u001b[0m\n\u001b[1;32m   2316\u001b[0m             \u001b[0;32mwith\u001b[0m \u001b[0mself\u001b[0m\u001b[0;34m.\u001b[0m\u001b[0mbuiltin_trap\u001b[0m\u001b[0;34m:\u001b[0m\u001b[0;34m\u001b[0m\u001b[0;34m\u001b[0m\u001b[0m\n\u001b[0;32m-> 2317\u001b[0;31m                 \u001b[0mresult\u001b[0m \u001b[0;34m=\u001b[0m \u001b[0mfn\u001b[0m\u001b[0;34m(\u001b[0m\u001b[0;34m*\u001b[0m\u001b[0margs\u001b[0m\u001b[0;34m,\u001b[0m \u001b[0;34m**\u001b[0m\u001b[0mkwargs\u001b[0m\u001b[0;34m)\u001b[0m\u001b[0;34m\u001b[0m\u001b[0;34m\u001b[0m\u001b[0m\n\u001b[0m\u001b[1;32m   2318\u001b[0m             \u001b[0;32mreturn\u001b[0m \u001b[0mresult\u001b[0m\u001b[0;34m\u001b[0m\u001b[0;34m\u001b[0m\u001b[0m\n\u001b[1;32m   2319\u001b[0m \u001b[0;34m\u001b[0m\u001b[0m\n",
      "\u001b[0;32m</home/larsgebraad/.local/lib/python3.7/site-packages/decorator.py:decorator-gen-60>\u001b[0m in \u001b[0;36mtimeit\u001b[0;34m(self, line, cell, local_ns)\u001b[0m\n",
      "\u001b[0;32m~/.local/lib/python3.7/site-packages/IPython/core/magic.py\u001b[0m in \u001b[0;36m<lambda>\u001b[0;34m(f, *a, **k)\u001b[0m\n\u001b[1;32m    185\u001b[0m     \u001b[0;31m# but it's overkill for just that one bit of state.\u001b[0m\u001b[0;34m\u001b[0m\u001b[0;34m\u001b[0m\u001b[0;34m\u001b[0m\u001b[0m\n\u001b[1;32m    186\u001b[0m     \u001b[0;32mdef\u001b[0m \u001b[0mmagic_deco\u001b[0m\u001b[0;34m(\u001b[0m\u001b[0marg\u001b[0m\u001b[0;34m)\u001b[0m\u001b[0;34m:\u001b[0m\u001b[0;34m\u001b[0m\u001b[0;34m\u001b[0m\u001b[0m\n\u001b[0;32m--> 187\u001b[0;31m         \u001b[0mcall\u001b[0m \u001b[0;34m=\u001b[0m \u001b[0;32mlambda\u001b[0m \u001b[0mf\u001b[0m\u001b[0;34m,\u001b[0m \u001b[0;34m*\u001b[0m\u001b[0ma\u001b[0m\u001b[0;34m,\u001b[0m \u001b[0;34m**\u001b[0m\u001b[0mk\u001b[0m\u001b[0;34m:\u001b[0m \u001b[0mf\u001b[0m\u001b[0;34m(\u001b[0m\u001b[0;34m*\u001b[0m\u001b[0ma\u001b[0m\u001b[0;34m,\u001b[0m \u001b[0;34m**\u001b[0m\u001b[0mk\u001b[0m\u001b[0;34m)\u001b[0m\u001b[0;34m\u001b[0m\u001b[0;34m\u001b[0m\u001b[0m\n\u001b[0m\u001b[1;32m    188\u001b[0m \u001b[0;34m\u001b[0m\u001b[0m\n\u001b[1;32m    189\u001b[0m         \u001b[0;32mif\u001b[0m \u001b[0mcallable\u001b[0m\u001b[0;34m(\u001b[0m\u001b[0marg\u001b[0m\u001b[0;34m)\u001b[0m\u001b[0;34m:\u001b[0m\u001b[0;34m\u001b[0m\u001b[0;34m\u001b[0m\u001b[0m\n",
      "\u001b[0;32m~/.local/lib/python3.7/site-packages/IPython/core/magics/execution.py\u001b[0m in \u001b[0;36mtimeit\u001b[0;34m(self, line, cell, local_ns)\u001b[0m\n\u001b[1;32m   1162\u001b[0m                     \u001b[0;32mbreak\u001b[0m\u001b[0;34m\u001b[0m\u001b[0;34m\u001b[0m\u001b[0m\n\u001b[1;32m   1163\u001b[0m \u001b[0;34m\u001b[0m\u001b[0m\n\u001b[0;32m-> 1164\u001b[0;31m         \u001b[0mall_runs\u001b[0m \u001b[0;34m=\u001b[0m \u001b[0mtimer\u001b[0m\u001b[0;34m.\u001b[0m\u001b[0mrepeat\u001b[0m\u001b[0;34m(\u001b[0m\u001b[0mrepeat\u001b[0m\u001b[0;34m,\u001b[0m \u001b[0mnumber\u001b[0m\u001b[0;34m)\u001b[0m\u001b[0;34m\u001b[0m\u001b[0;34m\u001b[0m\u001b[0m\n\u001b[0m\u001b[1;32m   1165\u001b[0m         \u001b[0mbest\u001b[0m \u001b[0;34m=\u001b[0m \u001b[0mmin\u001b[0m\u001b[0;34m(\u001b[0m\u001b[0mall_runs\u001b[0m\u001b[0;34m)\u001b[0m \u001b[0;34m/\u001b[0m \u001b[0mnumber\u001b[0m\u001b[0;34m\u001b[0m\u001b[0;34m\u001b[0m\u001b[0m\n\u001b[1;32m   1166\u001b[0m         \u001b[0mworst\u001b[0m \u001b[0;34m=\u001b[0m \u001b[0mmax\u001b[0m\u001b[0;34m(\u001b[0m\u001b[0mall_runs\u001b[0m\u001b[0;34m)\u001b[0m \u001b[0;34m/\u001b[0m \u001b[0mnumber\u001b[0m\u001b[0;34m\u001b[0m\u001b[0;34m\u001b[0m\u001b[0m\n",
      "\u001b[0;32m~/Applications/miniconda3/envs/hmc-tomography/lib/python3.7/timeit.py\u001b[0m in \u001b[0;36mrepeat\u001b[0;34m(self, repeat, number)\u001b[0m\n\u001b[1;32m    202\u001b[0m         \u001b[0mr\u001b[0m \u001b[0;34m=\u001b[0m \u001b[0;34m[\u001b[0m\u001b[0;34m]\u001b[0m\u001b[0;34m\u001b[0m\u001b[0;34m\u001b[0m\u001b[0m\n\u001b[1;32m    203\u001b[0m         \u001b[0;32mfor\u001b[0m \u001b[0mi\u001b[0m \u001b[0;32min\u001b[0m \u001b[0mrange\u001b[0m\u001b[0;34m(\u001b[0m\u001b[0mrepeat\u001b[0m\u001b[0;34m)\u001b[0m\u001b[0;34m:\u001b[0m\u001b[0;34m\u001b[0m\u001b[0;34m\u001b[0m\u001b[0m\n\u001b[0;32m--> 204\u001b[0;31m             \u001b[0mt\u001b[0m \u001b[0;34m=\u001b[0m \u001b[0mself\u001b[0m\u001b[0;34m.\u001b[0m\u001b[0mtimeit\u001b[0m\u001b[0;34m(\u001b[0m\u001b[0mnumber\u001b[0m\u001b[0;34m)\u001b[0m\u001b[0;34m\u001b[0m\u001b[0;34m\u001b[0m\u001b[0m\n\u001b[0m\u001b[1;32m    205\u001b[0m             \u001b[0mr\u001b[0m\u001b[0;34m.\u001b[0m\u001b[0mappend\u001b[0m\u001b[0;34m(\u001b[0m\u001b[0mt\u001b[0m\u001b[0;34m)\u001b[0m\u001b[0;34m\u001b[0m\u001b[0;34m\u001b[0m\u001b[0m\n\u001b[1;32m    206\u001b[0m         \u001b[0;32mreturn\u001b[0m \u001b[0mr\u001b[0m\u001b[0;34m\u001b[0m\u001b[0;34m\u001b[0m\u001b[0m\n",
      "\u001b[0;32m~/.local/lib/python3.7/site-packages/IPython/core/magics/execution.py\u001b[0m in \u001b[0;36mtimeit\u001b[0;34m(self, number)\u001b[0m\n\u001b[1;32m    167\u001b[0m         \u001b[0mgc\u001b[0m\u001b[0;34m.\u001b[0m\u001b[0mdisable\u001b[0m\u001b[0;34m(\u001b[0m\u001b[0;34m)\u001b[0m\u001b[0;34m\u001b[0m\u001b[0;34m\u001b[0m\u001b[0m\n\u001b[1;32m    168\u001b[0m         \u001b[0;32mtry\u001b[0m\u001b[0;34m:\u001b[0m\u001b[0;34m\u001b[0m\u001b[0;34m\u001b[0m\u001b[0m\n\u001b[0;32m--> 169\u001b[0;31m             \u001b[0mtiming\u001b[0m \u001b[0;34m=\u001b[0m \u001b[0mself\u001b[0m\u001b[0;34m.\u001b[0m\u001b[0minner\u001b[0m\u001b[0;34m(\u001b[0m\u001b[0mit\u001b[0m\u001b[0;34m,\u001b[0m \u001b[0mself\u001b[0m\u001b[0;34m.\u001b[0m\u001b[0mtimer\u001b[0m\u001b[0;34m)\u001b[0m\u001b[0;34m\u001b[0m\u001b[0;34m\u001b[0m\u001b[0m\n\u001b[0m\u001b[1;32m    170\u001b[0m         \u001b[0;32mfinally\u001b[0m\u001b[0;34m:\u001b[0m\u001b[0;34m\u001b[0m\u001b[0;34m\u001b[0m\u001b[0m\n\u001b[1;32m    171\u001b[0m             \u001b[0;32mif\u001b[0m \u001b[0mgcold\u001b[0m\u001b[0;34m:\u001b[0m\u001b[0;34m\u001b[0m\u001b[0;34m\u001b[0m\u001b[0m\n",
      "\u001b[0;32m<magic-timeit>\u001b[0m in \u001b[0;36minner\u001b[0;34m(_it, _timer)\u001b[0m\n",
      "\u001b[0;31mKeyboardInterrupt\u001b[0m: "
     ]
    }
   ],
   "source": [
    "large_dim = 100000\n",
    "small_dim = 100\n",
    "\n",
    "tall = False\n",
    "\n",
    "if tall:\n",
    "    cols = small_dim\n",
    "    rows = large_dim\n",
    "else:\n",
    "    cols = large_dim\n",
    "    rows = small_dim\n",
    "\n",
    "\n",
    "numpy.random.seed(42)\n",
    "G = scipy.sparse.csr_matrix(\n",
    "    scipy.sparse.random(rows, cols, density=0.01, random_state=42).T\n",
    ")\n",
    "G_csc = scipy.sparse.csc_matrix(G)\n",
    "\n",
    "print(G.shape)\n",
    "\n",
    "m = numpy.ones((G.shape[1], 1))\n",
    "d0 = 0.2 * numpy.ones((G.shape[0], 1))\n",
    "\n",
    "# pre-transpose\n",
    "Gt = G.T\n",
    "Gt_csr = scipy.sparse.csr_matrix(Gt)\n",
    "d0t = d0.T\n",
    "\n",
    "covariance = 1.2 * numpy.ones_like(d0)\n",
    "sigma = covariance ** 0.5\n",
    "\n",
    "print(f\"{0.5 * numpy.linalg.norm((G @ m - d0) / sigma) ** 2:.2f}\")\n",
    "print(f\"{0.5 * numpy.linalg.norm((G_csc @ m - d0) / sigma) ** 2:.2f}\")\n",
    "print(f\"{0.5 * ((m.T @ Gt - d0t) @ ((G @ m - d0) / covariance)).item():.2f}\")\n",
    "print(f\"{0.5 * ((m.T @ Gt_csr - d0t) @ ((G @ m - d0) / covariance)).item():.2f}\")\n",
    "print(f\"{0.5 * ((m.T @ Gt - d0t) @ ((G_csc @ m - d0) / covariance)).item():.2f}\")\n",
    "print(f\"{0.5 * ((m.T @ Gt_csr - d0t) @ ((G_csc @ m - d0) / covariance)).item():.2f}\")\n",
    "\n",
    "%timeit -n 50 0.5 * numpy.linalg.norm((G @ m - d0) / sigma) ** 2 # Fastest for wide\n",
    "%timeit -n 50 0.5 * numpy.linalg.norm((G_csc @ m - d0) / sigma) ** 2 # Fastest for wide\n",
    "%timeit -n 50 0.5 * ((m.T @ Gt - d0t) @ ((G @ m - d0) / covariance)).item()\n",
    "%timeit -n 50 0.5 * ((m.T @ Gt_csr - d0t) @ ((G @ m - d0) / covariance)).item()\n",
    "%timeit -n 50 0.5 * ((m.T @ Gt - d0t) @ ((G_csc @ m - d0) / covariance)).item()\n",
    "%timeit -n 50 0.5 * ((m.T @ Gt_csr - d0t) @ ((G_csc @ m - d0) / covariance)).item()"
   ]
  },
  {
   "cell_type": "markdown",
   "metadata": {},
   "source": [
    "High-D, numpy, correlation"
   ]
  },
  {
   "cell_type": "code",
   "execution_count": null,
   "metadata": {},
   "outputs": [],
   "source": [
    "covariance = (\n",
    "    1.2 * scipy.sparse.eye(d0.size)\n",
    "    - 0.6 * scipy.sparse.eye(d0.size, k=-1)\n",
    "    - 0.6 * scipy.sparse.eye(d0.size, k=1)\n",
    ")\n",
    "\n",
    "%time factorized_covariance = scipy.sparse.linalg.factorized( covariance )\n",
    "%time spcov = splu(covariance)\n",
    "\n",
    "print(f\"{0.5 * ((G @ m - d0).T @ scipy.sparse.linalg.spsolve(covariance, G @ m - d0)).item():.2f}\")\n",
    "print(f\"{0.5 * ((G @ m - d0).T @ spcov.solve((G @ m - d0))).item():.2f}\")\n",
    "print(f\"{0.5 * ((G @ m - d0).T @ factorized_covariance((G @ m - d0))).item()}\")\n",
    "print(f\"{0.5 * ((m.T @ Gt - d0t) @ factorized_covariance((G @ m - d0))).item():.2f}\")\n",
    "print(f\"{0.5 * ((m.T @ Gt - d0t) @ factorized_covariance((G_csc @ m - d0))).item():.2f}\")\n",
    "print(f\"{0.5 * ((m.T @ Gt_csr - d0t) @ factorized_covariance((G @ m - d0))).item():.2f}\")\n",
    "print(f\"{0.5 * ((m.T @ Gt_csr - d0t) @ factorized_covariance((G_csc @ m - d0))).item():.2f}\")\n",
    "\n",
    "# %timeit -n 50 0.5 * ((G @ m - d0).T @ scipy.sparse.linalg.spsolve(covariance, G @ m - d0)).item()\n",
    "%timeit -n 50 0.5 * ((G @ m - d0).T @ factorized_covariance((G @ m - d0))).item() # Fastest if tall\n",
    "%timeit -n 50 0.5 * ((m.T @ Gt - d0t) @ factorized_covariance((G @ m - d0))).item() \n",
    "%timeit -n 50 0.5 * ((m.T @ Gt - d0t) @ factorized_covariance((G_csc @ m - d0))).item()\n",
    "%timeit -n 50 0.5 * ((m.T @ Gt_csr - d0t) @ factorized_covariance((G @ m - d0))).item()\n",
    "%timeit -n 50 0.5 * ((m.T @ Gt_csr - d0t) @ factorized_covariance((G_csc @ m - d0))).item() # Fastest if wide\n",
    "# %timeit -n 50 0.5 * ((G @ m - d0).T @ spcov.solve((G @ m - d0))).item()\n"
   ]
  },
  {
   "cell_type": "markdown",
   "metadata": {},
   "source": [
    "High-D, cupy, no correlation"
   ]
  },
  {
   "cell_type": "code",
   "execution_count": null,
   "metadata": {},
   "outputs": [],
   "source": [
    "G_gpu = cupyx.scipy.sparse.csr_matrix(G)\n",
    "G_csc_gpu = cupyx.scipy.sparse.csc_matrix(G_gpu)\n",
    "\n",
    "d0_gpu = cupy.array(d0)\n",
    "Gt_gpu = G_gpu.T\n",
    "\n",
    "\n",
    "\n",
    "covariance_gpu = 1.2 * cupy.ones_like(d0_gpu)\n",
    "sigma_gpu = covariance_gpu ** 0.5\n",
    "\n",
    "print(\n",
    "    f\"{(0.5 * cupy.linalg.norm((G_csc_gpu.dot(cupy.array(m)) - d0_gpu) / sigma_gpu) ** 2).item():.2f}\"\n",
    ")\n",
    "print(\n",
    "    f\"{(0.5 * cupy.linalg.norm((G_gpu.dot(cupy.array(m)) - d0_gpu) / sigma_gpu) ** 2).item():.2f}\"\n",
    ")\n",
    "print(\n",
    "    f\"{0.5* ((G_gpu.dot(cupy.array(m)) - d0_gpu).T @ ((G_gpu.dot(cupy.array(m)) - d0_gpu) / covariance_gpu)).item():.2f}\"\n",
    ")\n",
    "\n",
    "%timeit -n 50 0.5 * (cupy.linalg.norm((G_gpu.dot(cupy.array(m)) - d0_gpu) / sigma_gpu) ** 2).item() # Fastest always\n",
    "# %timeit -n 50 0.5 * (cupy.linalg.norm((G_csc_gpu.dot(cupy.array(m)) - d0_gpu) / sigma_gpu) ** 2).item()\n",
    "# %timeit -n 50 0.5* ((G_gpu.dot(cupy.array(m)) - d0_gpu).T @ ((G_gpu.dot(cupy.array(m)) - d0_gpu) / covariance_gpu)).item()"
   ]
  },
  {
   "cell_type": "markdown",
   "metadata": {},
   "source": [
    "High-D, cupy, correlation"
   ]
  },
  {
   "cell_type": "code",
   "execution_count": null,
   "metadata": {},
   "outputs": [],
   "source": [
    "# covariance_gpu = (\n",
    "#     1.2 * cupyx.scipy.sparse.eye(d0.size)\n",
    "#     - 0.6 * cupyx.scipy.sparse.eye(d0.size, k=-1)\n",
    "#     - 0.6 * cupyx.scipy.sparse.eye(d0.size, k=1)\n",
    "# )\n",
    "\n",
    "# import cupyx.scipy.linalg\n",
    "\n",
    "# spcov = splu(covariance)\n",
    "\n",
    "# L_gpu = cupyx.scipy.sparse.csr_matrix(spcov.L)\n",
    "# U_gpu = cupyx.scipy.sparse.csr_matrix(spcov.U)\n",
    "# C_t = spcov.perm_c\n",
    "# R_t = spcov.perm_r\n",
    "# A_t = scipy.sparse.eye(R.shape[0])\n",
    "# R_gpu = cupyx.scipy.sparse.csr_matrix(A[R_t])\n",
    "# C_gpu = cupyx.scipy.sparse.csr_matrix(A[C_t])\n",
    "\n",
    "\n",
    "# print(f\"{0.5 *((G_gpu.dot(cupy.array(m)) - d0_gpu).T @ C_gpu.dot(cupyx.scipy.sparse.linalg.lsqr(U, (cupyx.scipy.sparse.linalg.lsqr(L_gpu, R_gpu.dot(G_gpu.dot(cupy.array(m)) - d0_gpu)[:,0]))[0])[0][:,None])).item():.2f}\")\n",
    "# print(f\"{0.5 * ((G_gpu.dot(cupy.array(m)) - d0_gpu).T @ cupyx.scipy.sparse.linalg.lsqr(covariance_gpu, (G_gpu.dot(cupy.array(m)) - d0_gpu)[:,0])[0][:,None]).item():.2f}\")\n",
    "\n",
    "# print(\"TOO SLOW\")\n",
    "\n",
    "# %timeit -n 50 0.5 *((G_gpu.dot(cupy.array(m)) - d0_gpu).T @ C_gpu.dot(cupyx.scipy.sparse.linalg.lsqr(U, (cupyx.scipy.sparse.linalg.lsqr(L_gpu, R_gpu.dot(G_gpu.dot(cupy.array(m)) - d0_gpu)[:,0]))[0])[0][:,None])).item()\n",
    "# %timeit -n 50 0.5 * ((G_gpu.dot(cupy.array(m)) - d0_gpu).T @ cupyx.scipy.sparse.linalg.lsqr(covariance_gpu, (G_gpu.dot(cupy.array(m)) - d0_gpu)[:,0])[0][:,None]).item()"
   ]
  },
  {
   "cell_type": "markdown",
   "metadata": {},
   "source": [
    "Winner: Depends on what you want.\n",
    "\n",
    "`i7-8850H vs Quadro P2000`"
   ]
  },
  {
   "cell_type": "markdown",
   "metadata": {},
   "source": [
    "## Gradients"
   ]
  },
  {
   "cell_type": "code",
   "execution_count": null,
   "metadata": {
    "scrolled": false
   },
   "outputs": [],
   "source": [
    "large_dim = 1000000\n",
    "small_dim = 100\n",
    "\n",
    "# GPU outperforms: ~ 1000000 nnz elements\n",
    "\n",
    "tall = True\n",
    "\n",
    "if tall:\n",
    "    cols = small_dim\n",
    "    rows = large_dim\n",
    "else:\n",
    "    cols = large_dim\n",
    "    rows = small_dim\n",
    "\n",
    "\n",
    "numpy.random.seed(42)\n",
    "G = scipy.sparse.csr_matrix(\n",
    "    scipy.sparse.random(rows, cols, density=0.01, random_state=42).T\n",
    ")\n",
    "\n",
    "G_csc = scipy.sparse.csc_matrix(G)\n",
    "\n",
    "print(G.shape)\n",
    "\n",
    "m = numpy.ones((G.shape[1], 1))\n",
    "d0 = 0.2 * numpy.ones((G.shape[0], 1))\n",
    "\n",
    "# pre-transpose\n",
    "Gt = scipy.sparse.csc_matrix(G.T)\n",
    "Gt_csr = scipy.sparse.csr_matrix(Gt)\n",
    "d0t = d0.T\n",
    "\n",
    "covariance = 1.2 * numpy.ones_like(d0)\n",
    "sigma = covariance ** 0.5\n",
    "\n",
    "print(f\"{((G.T @ ((G @ m - d0) / covariance)).T @ m).item():.2f}\")\n",
    "print(f\"{((Gt @ ((G @ m - d0) / covariance)).T @ m).item():.2f}\")\n",
    "print(f\"{((Gt_csr @ ((G @ m - d0) / covariance)).T @ m).item():.2f}\")\n",
    "\n",
    "print(\n",
    "    \"Equivalence:\",\n",
    "    numpy.allclose(\n",
    "        (G.T @ ((G @ m - d0) / covariance)), (Gt @ ((G @ m - d0) / covariance))\n",
    "    )\n",
    "    and numpy.allclose(\n",
    "        (G.T @ ((G @ m - d0) / covariance)), (Gt_csr @ ((G @ m - d0) / covariance))\n",
    "    ),\n",
    ")\n",
    "\n",
    "%timeit -n 50 Gt @ ((G_csc @ m - d0) / covariance) \n",
    "%timeit -n 50 Gt_csr @ ((G @ m - d0) / covariance) \n",
    "%timeit -n 50 Gt @ ((G @ m - d0) / covariance)  # faster if tall\n",
    "%timeit -n 50 Gt_csr @ ((G_csc @ m - d0) / covariance) # faster if wide"
   ]
  },
  {
   "cell_type": "code",
   "execution_count": null,
   "metadata": {},
   "outputs": [],
   "source": [
    "covariance = (\n",
    "    1.2 * scipy.sparse.eye(d0.size)\n",
    "    - 0.6 * scipy.sparse.eye(d0.size, k=-1)\n",
    "    - 0.6 * scipy.sparse.eye(d0.size, k=1)\n",
    ")\n",
    "import scipy.sparse.linalg\n",
    "\n",
    "%time factorized_covariance = scipy.sparse.linalg.factorized( covariance )\n",
    "\n",
    "\n",
    "print(f\"{((G.T @ factorized_covariance((G @ m - d0))).T @ m).item():.2f}\")\n",
    "\n",
    "print(\n",
    "    \"Equivalence:\",\n",
    "    numpy.allclose(\n",
    "        G.T @ factorized_covariance((G @ m - d0)),\n",
    "        Gt_csr @ factorized_covariance(G_csc @ m - d0),\n",
    "    )\n",
    "    and numpy.allclose(\n",
    "        Gt @ factorized_covariance(G @ m - d0),\n",
    "        Gt_csr @ factorized_covariance(G_csc @ m - d0),\n",
    "    )\n",
    "    and numpy.allclose(\n",
    "        Gt @ factorized_covariance(G_csc @ m - d0),\n",
    "        Gt_csr @ factorized_covariance(G_csc @ m - d0),\n",
    "    )\n",
    "    and numpy.allclose(\n",
    "        Gt_csr @ factorized_covariance(G @ m - d0),\n",
    "        Gt_csr @ factorized_covariance(G_csc @ m - d0),\n",
    "    )\n",
    ")\n",
    "\n",
    "%timeit -n 50 Gt @ factorized_covariance(G_csc @ m - d0)\n",
    "%timeit -n 50 Gt_csr @ factorized_covariance(G @ m - d0)\n",
    "%timeit -n 50 Gt @ factorized_covariance(G @ m - d0) # Fastest if tall\n",
    "%timeit -n 50 Gt_csr @ factorized_covariance(G_csc @ m - d0) # Fastest if wide"
   ]
  },
  {
   "cell_type": "code",
   "execution_count": null,
   "metadata": {},
   "outputs": [],
   "source": [
    "G_gpu = cupyx.scipy.sparse.csr_matrix(G, dtype=\"float32\")\n",
    "G_csc_gpu = cupyx.scipy.sparse.csc_matrix(G_gpu)\n",
    "Gt_gpu = G_gpu.T\n",
    "Gt_csr_gpu = cupyx.scipy.sparse.csr_matrix(Gt_gpu, dtype=\"float32\")\n",
    "d0_gpu = cupy.array(d0, dtype=\"float32\")\n",
    "covariance_gpu = 1.2 * cupy.ones_like(d0_gpu, dtype=\"float32\")\n",
    "sigma_gpu = covariance_gpu ** 0.5\n",
    "\n",
    "print(\n",
    "    f\"{((Gt_gpu.dot(((G_gpu.dot(cupy.array(m)) - d0_gpu)) / covariance_gpu)).T @ cupy.asarray(m)).item():.2f}\"\n",
    ")\n",
    "\n",
    "print(\n",
    "    \"Equivalence:\",\n",
    "    numpy.allclose(\n",
    "        (Gt_gpu.dot(((G_gpu.dot(cupy.array(m)) - d0_gpu)) / covariance_gpu)),\n",
    "        (Gt_csr_gpu.dot(((G_csc_gpu.dot(cupy.array(m)) - d0_gpu)) / covariance_gpu)),\n",
    "    )\n",
    "    and numpy.allclose(\n",
    "        (Gt_gpu.dot(((G_csc_gpu.dot(cupy.array(m)) - d0_gpu)) / covariance_gpu)),\n",
    "        (Gt_csr_gpu.dot(((G_csc_gpu.dot(cupy.array(m)) - d0_gpu)) / covariance_gpu)),\n",
    "    )\n",
    "    and numpy.allclose(\n",
    "        (Gt_csr_gpu.dot(((G_gpu.dot(cupy.array(m)) - d0_gpu)) / covariance_gpu)),\n",
    "        (Gt_csr_gpu.dot(((G_csc_gpu.dot(cupy.array(m)) - d0_gpu)) / covariance_gpu)),\n",
    "    ),\n",
    ")\n",
    "\n",
    "print(G.shape)\n",
    "\n",
    "# %timeit -n 50 (Gt_csr_gpu.dot(((G_csc_gpu.dot(cupy.array(m)) - d0_gpu)) / covariance_gpu)).get()\n",
    "# %timeit -n 50 (Gt_gpu.dot(((G_gpu.dot(cupy.array(m)) - d0_gpu)) / covariance_gpu)).get()\n",
    "# %timeit -n 50 (Gt_gpu.dot(((G_csc_gpu.dot(cupy.array(m)) - d0_gpu)) / covariance_gpu)).get()\n",
    "%timeit -n 50 (Gt_csr_gpu.dot(((G_gpu.dot(cupy.array(m)) - d0_gpu)) / covariance_gpu)).get() # Fastest always"
   ]
  },
  {
   "cell_type": "code",
   "execution_count": null,
   "metadata": {},
   "outputs": [],
   "source": []
  }
 ],
 "metadata": {
  "kernelspec": {
   "display_name": "Python 3",
   "language": "python",
   "name": "python3"
  },
  "language_info": {
   "codemirror_mode": {
    "name": "ipython",
    "version": 3
   },
   "file_extension": ".py",
   "mimetype": "text/x-python",
   "name": "python",
   "nbconvert_exporter": "python",
   "pygments_lexer": "ipython3",
   "version": "3.7.3"
  }
 },
 "nbformat": 4,
 "nbformat_minor": 4
}
