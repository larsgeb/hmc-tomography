{
 "cells": [
  {
   "cell_type": "code",
   "execution_count": 2,
   "metadata": {},
   "outputs": [],
   "source": [
    "import numpy\n",
    "import cupy\n",
    "\n",
    "import scipy\n",
    "import cupyx"
   ]
  },
  {
   "cell_type": "code",
   "execution_count": 3,
   "metadata": {},
   "outputs": [],
   "source": [
    "mempool = cupy.get_default_memory_pool()\n",
    "\n",
    "with cupy.cuda.Device(0):\n",
    "    mempool.set_limit(size=3*1024**3)  # 2 GiB"
   ]
  },
  {
   "cell_type": "markdown",
   "metadata": {},
   "source": [
    "# Dense matrices performance"
   ]
  },
  {
   "cell_type": "markdown",
   "metadata": {},
   "source": [
    "Low-D, numpy, no correlation"
   ]
  },
  {
   "cell_type": "code",
   "execution_count": 5,
   "metadata": {},
   "outputs": [
    {
     "name": "stdout",
     "output_type": "stream",
     "text": [
      "395198.59447737667\n",
      "395198.59447737667\n",
      "395198.59447737667\n",
      "395198.5944773766\n",
      "219 µs ± 68.2 µs per loop (mean ± std. dev. of 7 runs, 50 loops each)\n",
      "The slowest run took 8.86 times longer than the fastest. This could mean that an intermediate result is being cached.\n",
      "715 µs ± 780 µs per loop (mean ± std. dev. of 7 runs, 50 loops each)\n",
      "311 µs ± 34.3 µs per loop (mean ± std. dev. of 7 runs, 50 loops each)\n",
      "33.3 ms ± 758 µs per loop (mean ± std. dev. of 7 runs, 50 loops each)\n"
     ]
    }
   ],
   "source": [
    "numpy.random.seed(42)\n",
    "G = numpy.random.randn(100, 10000)\n",
    "m = numpy.ones((G.shape[1], 1))\n",
    "d0 = 0.2 * numpy.ones((G.shape[0], 1))\n",
    "\n",
    "# pre-transpose\n",
    "Gt = G.T\n",
    "d0t = d0.T\n",
    "\n",
    "covariance = 1.2 * numpy.ones_like(d0)\n",
    "sigma = covariance ** 0.5\n",
    "\n",
    "# pre-multiply\n",
    "GtG = Gt @ numpy.diag(1.0 / covariance[:, 0]) @ G\n",
    "Gtd0 = Gt @ numpy.diag(1.0 / covariance[:, 0]) @ d0\n",
    "d0td0 = (d0.T @ numpy.diag(1.0 / covariance[:, 0]) @ d0).item()\n",
    "\n",
    "print(0.5 * numpy.linalg.norm((G @ m - d0) / sigma) ** 2)\n",
    "print(0.5 * ((G @ m - d0).T @ ((G @ m - d0) / covariance)).item())\n",
    "print(0.5 * ((m.T @ Gt - d0t) @ ((G @ m - d0) / covariance)).item())\n",
    "print(0.5 * (m.T @ (GtG @ m - 2 * Gtd0) + d0td0).item())\n",
    "\n",
    "%timeit -n 50 0.5 * numpy.linalg.norm((G @ m - d0) / sigma) ** 2 # Winner for wide\n",
    "%timeit -n 50 0.5 * ((G @ m - d0).T @ ((G @ m - d0) / covariance)).item()\n",
    "%timeit -n 50 0.5 * ((m.T @ Gt - d0t) @ ((G @ m - d0) / covariance)).item()\n",
    "%timeit -n 50 0.5 * (m.T @ (GtG @ m - 2 * Gtd0) + d0td0).item() # Winner for tall"
   ]
  },
  {
   "cell_type": "markdown",
   "metadata": {},
   "source": [
    "Low-D, numpy, correlation"
   ]
  },
  {
   "cell_type": "code",
   "execution_count": 6,
   "metadata": {},
   "outputs": [
    {
     "name": "stdout",
     "output_type": "stream",
     "text": [
      "16721368.323694183\n",
      "16721368.323694177\n",
      "16721368.323694177\n",
      "172 µs ± 3.74 µs per loop (mean ± std. dev. of 7 runs, 50 loops each)\n",
      "325 µs ± 21 µs per loop (mean ± std. dev. of 7 runs, 50 loops each)\n",
      "The slowest run took 10.10 times longer than the fastest. This could mean that an intermediate result is being cached.\n",
      "745 µs ± 947 µs per loop (mean ± std. dev. of 7 runs, 50 loops each)\n",
      "32.4 ms ± 633 µs per loop (mean ± std. dev. of 7 runs, 50 loops each)\n"
     ]
    }
   ],
   "source": [
    "covariance = (\n",
    "    1.2 * numpy.eye(d0.size)\n",
    "    - 0.6 * numpy.eye(d0.size, k=-1)\n",
    "    - 0.6 * numpy.eye(d0.size, k=1)\n",
    ")\n",
    "inv_covariance = numpy.linalg.inv(covariance)\n",
    "cholesky_upper_inv_covariance = numpy.linalg.cholesky(inv_covariance).T\n",
    "\n",
    "# pre-multiply\n",
    "GtG = Gt @ inv_covariance @ G\n",
    "Gtd0 = Gt @ inv_covariance @ d0\n",
    "d0td0 = (d0.T @ inv_covariance @ d0).item()\n",
    "\n",
    "print(0.5 * numpy.linalg.norm(cholesky_upper_inv_covariance @ (G @ m - d0)) ** 2)\n",
    "print(0.5 * ((G @ m - d0).T @ inv_covariance @ ((G @ m - d0))).item())\n",
    "print(0.5 * ((m.T @ Gt - d0t) @ inv_covariance @ ((G @ m - d0))).item())\n",
    "\n",
    "%timeit -n 50 0.5 * numpy.linalg.norm(cholesky_upper_inv_covariance @ (G @ m - d0)) ** 2 # Winner for wide\n",
    "%timeit -n 50 0.5 * ((G @ m - d0).T @ inv_covariance @ ((G @ m - d0))).item() \n",
    "%timeit -n 50 0.5 * ((m.T @ Gt - d0t) @ inv_covariance @ ((G @ m - d0))).item()\n",
    "%timeit -n 50 0.5 * (m.T @ (GtG @ m - 2 * Gtd0) + d0td0).item() # Winner for tall"
   ]
  },
  {
   "cell_type": "markdown",
   "metadata": {},
   "source": [
    "Low-D, cupy, no correlation"
   ]
  },
  {
   "cell_type": "code",
   "execution_count": 27,
   "metadata": {},
   "outputs": [
    {
     "name": "stdout",
     "output_type": "stream",
     "text": [
      "45613.27902699428\n",
      "45613.27902699427\n",
      "45613.27902699427\n",
      "226 µs ± 56.5 µs per loop (mean ± std. dev. of 7 runs, 50 loops each)\n",
      "194 µs ± 32.2 µs per loop (mean ± std. dev. of 7 runs, 50 loops each)\n",
      "186 µs ± 20.1 µs per loop (mean ± std. dev. of 7 runs, 50 loops each)\n"
     ]
    }
   ],
   "source": [
    "G_gpu = cupy.array(G)\n",
    "d0_gpu = cupy.array(d0)\n",
    "\n",
    "Gt_gpu = G_gpu.T\n",
    "d0t_gpu = d0_gpu.T\n",
    "\n",
    "covariance_gpu = 1.2 * cupy.ones_like(d0_gpu)\n",
    "sigma_gpu = covariance_gpu ** 0.5\n",
    "\n",
    "print(0.5 * cupy.linalg.norm((G_gpu @ cupy.array(m) - d0_gpu) / sigma_gpu) ** 2)\n",
    "print(\n",
    "    0.5\n",
    "    * (\n",
    "        (G_gpu @ cupy.array(m) - d0_gpu).T\n",
    "        @ ((G_gpu @ cupy.array(m) - d0_gpu) / covariance_gpu)\n",
    "    ).item()\n",
    ")\n",
    "print(\n",
    "    0.5\n",
    "    * (\n",
    "        (cupy.array(m).T @ Gt_gpu - d0t_gpu)\n",
    "        @ ((G_gpu @ cupy.array(m) - d0_gpu) / covariance_gpu)\n",
    "    ).item()\n",
    ")\n",
    "\n",
    "%timeit -n 50 0.5 * cupy.linalg.norm((G_gpu @ cupy.array(m) - d0_gpu) / sigma_gpu).item() ** 2 # Winner for all\n",
    "%timeit -n 50 0.5 * ((G_gpu @ cupy.array(m) - d0_gpu).T @ ((G_gpu @ cupy.array(m) - d0_gpu) / covariance_gpu)).item()\n",
    "%timeit -n 50 0.5 * ((cupy.array(m).T @ Gt_gpu - d0t_gpu) @ ((G_gpu @ cupy.array(m) - d0_gpu) / covariance_gpu)).item()"
   ]
  },
  {
   "cell_type": "markdown",
   "metadata": {},
   "source": [
    "Low-D, cupy, correlation"
   ]
  },
  {
   "cell_type": "code",
   "execution_count": 29,
   "metadata": {},
   "outputs": [
    {
     "name": "stdout",
     "output_type": "stream",
     "text": [
      "517908.4648489458\n",
      "517908.46484894573\n",
      "517908.46484894573\n",
      "199 µs ± 34.7 µs per loop (mean ± std. dev. of 7 runs, 50 loops each)\n",
      "165 µs ± 8.52 µs per loop (mean ± std. dev. of 7 runs, 50 loops each)\n",
      "159 µs ± 2.7 µs per loop (mean ± std. dev. of 7 runs, 50 loops each)\n"
     ]
    }
   ],
   "source": [
    "covariance_gpu = (\n",
    "    1.2 * cupy.eye(d0.size)\n",
    "    - 0.6 * cupy.eye(d0.size, k=-1)\n",
    "    - 0.6 * cupy.eye(d0.size, k=1)\n",
    ")\n",
    "inv_covariance_gpu = cupy.asarray(inv_covariance)\n",
    "cholesky_upper_inv_covariance_gpu = cupy.asarray(cholesky_upper_inv_covariance)\n",
    "\n",
    "print(0.5 * cupy.linalg.norm(cholesky_upper_inv_covariance_gpu @ (G_gpu @ cupy.array(m) - d0_gpu)) ** 2)\n",
    "print(0.5 * ((G_gpu @ cupy.array(m) - d0_gpu).T @ inv_covariance_gpu@ ((G_gpu @ cupy.array(m) - d0_gpu))).item())\n",
    "print(0.5 * ((cupy.array(m).T @ Gt_gpu - d0t_gpu) @ inv_covariance_gpu@ ((G_gpu @ cupy.array(m) - d0_gpu) )).item())\n",
    "\n",
    "%timeit -n 50 0.5 * cupy.linalg.norm(cholesky_upper_inv_covariance_gpu @ (G_gpu @ cupy.array(m) - d0_gpu)) ** 2 # Winner for all\n",
    "%timeit -n 50 0.5 * ((G_gpu @ cupy.array(m) - d0_gpu).T @ inv_covariance_gpu@ ((G_gpu @ cupy.array(m) - d0_gpu))).item()\n",
    "%timeit -n 50 0.5 * ((cupy.array(m).T @ Gt_gpu - d0t_gpu) @ inv_covariance_gpu@ ((G_gpu @ cupy.array(m) - d0_gpu) )).item()"
   ]
  },
  {
   "cell_type": "markdown",
   "metadata": {},
   "source": [
    "## Gradients"
   ]
  },
  {
   "cell_type": "code",
   "execution_count": 48,
   "metadata": {
    "scrolled": false
   },
   "outputs": [
    {
     "name": "stdout",
     "output_type": "stream",
     "text": [
      "[[171655.5852016]]\n",
      "[[171655.5852016]]\n",
      "[[171655.5852016]]\n",
      "The slowest run took 7.74 times longer than the fastest. This could mean that an intermediate result is being cached.\n",
      "26.4 µs ± 29.9 µs per loop (mean ± std. dev. of 7 runs, 50 loops each)\n",
      "The slowest run took 6.50 times longer than the fastest. This could mean that an intermediate result is being cached.\n",
      "219 µs ± 189 µs per loop (mean ± std. dev. of 7 runs, 50 loops each)\n",
      "119 µs ± 40.2 µs per loop (mean ± std. dev. of 7 runs, 50 loops each)\n"
     ]
    }
   ],
   "source": [
    "numpy.random.seed(42)\n",
    "G = numpy.random.randn(2000, 100)\n",
    "m = numpy.ones((G.shape[1], 1))\n",
    "d0 = 0.2 * numpy.ones((G.shape[0], 1))\n",
    "\n",
    "# pre-transpose\n",
    "Gt = G.T\n",
    "d0t = d0.T\n",
    "\n",
    "covariance = 1.2 * numpy.ones_like(d0)\n",
    "sigma = covariance ** 0.5\n",
    "\n",
    "# pre-multiply\n",
    "GtG = Gt @ numpy.diag(1.0 / covariance[:, 0]) @ G\n",
    "Gtd0 = Gt @ numpy.diag(1.0 / covariance[:, 0]) @ d0\n",
    "\n",
    "print((GtG @ m - Gtd0).T @ m)\n",
    "print((G.T @ ((G @ m - d0) / covariance)).T @ m)\n",
    "print((Gt @ ((G @ m - d0) / covariance)).T @ m)\n",
    "\n",
    "%timeit -n 50 (GtG @ m - Gtd0) # Winner for tall\n",
    "%timeit -n 50 G.T @ ((G @ m - d0) / covariance)\n",
    "%timeit -n 50 Gt @ ((G @ m - d0) / covariance) # Winner for wide"
   ]
  },
  {
   "cell_type": "code",
   "execution_count": 13,
   "metadata": {},
   "outputs": [
    {
     "name": "stdout",
     "output_type": "stream",
     "text": [
      "[[33071413.41200218]]\n",
      "[[33071413.41200218]]\n",
      "[[33071413.41200218]]\n",
      "5.59 ms ± 858 µs per loop (mean ± std. dev. of 7 runs, 50 loops each)\n",
      "5.87 ms ± 323 µs per loop (mean ± std. dev. of 7 runs, 50 loops each)\n"
     ]
    },
    {
     "ename": "KeyboardInterrupt",
     "evalue": "",
     "output_type": "error",
     "traceback": [
      "\u001b[0;31m----------------------------------------------------------------------\u001b[0m",
      "\u001b[0;31mKeyboardInterrupt\u001b[0m                    Traceback (most recent call last)",
      "\u001b[0;32m<ipython-input-13-6f9766656f2a>\u001b[0m in \u001b[0;36m<module>\u001b[0;34m\u001b[0m\n\u001b[1;32m     27\u001b[0m \u001b[0mget_ipython\u001b[0m\u001b[0;34m(\u001b[0m\u001b[0;34m)\u001b[0m\u001b[0;34m.\u001b[0m\u001b[0mrun_line_magic\u001b[0m\u001b[0;34m(\u001b[0m\u001b[0;34m'timeit'\u001b[0m\u001b[0;34m,\u001b[0m \u001b[0;34m'-n 50 G.T @ inv_covariance @ (G @ m - d0)'\u001b[0m\u001b[0;34m)\u001b[0m\u001b[0;34m\u001b[0m\u001b[0;34m\u001b[0m\u001b[0m\n\u001b[1;32m     28\u001b[0m \u001b[0mget_ipython\u001b[0m\u001b[0;34m(\u001b[0m\u001b[0;34m)\u001b[0m\u001b[0;34m.\u001b[0m\u001b[0mrun_line_magic\u001b[0m\u001b[0;34m(\u001b[0m\u001b[0;34m'timeit'\u001b[0m\u001b[0;34m,\u001b[0m \u001b[0;34m'-n 50 Gt @ inv_covariance @ ((G @ m - d0)) # Winner for wide'\u001b[0m\u001b[0;34m)\u001b[0m\u001b[0;34m\u001b[0m\u001b[0;34m\u001b[0m\u001b[0m\n\u001b[0;32m---> 29\u001b[0;31m \u001b[0mget_ipython\u001b[0m\u001b[0;34m(\u001b[0m\u001b[0;34m)\u001b[0m\u001b[0;34m.\u001b[0m\u001b[0mrun_line_magic\u001b[0m\u001b[0;34m(\u001b[0m\u001b[0;34m'timeit'\u001b[0m\u001b[0;34m,\u001b[0m \u001b[0;34m'-n 50 preffacT @ preffac @ m - GtinvCov # Winner for wide'\u001b[0m\u001b[0;34m)\u001b[0m\u001b[0;34m\u001b[0m\u001b[0;34m\u001b[0m\u001b[0m\n\u001b[0m\u001b[1;32m     30\u001b[0m \u001b[0;31m# %timeit -n 50 partOp.T @ partOp @ m + partVec\u001b[0m\u001b[0;34m\u001b[0m\u001b[0;34m\u001b[0m\u001b[0;34m\u001b[0m\u001b[0m\n",
      "\u001b[0;32m~/.local/lib/python3.7/site-packages/IPython/core/interactiveshell.py\u001b[0m in \u001b[0;36mrun_line_magic\u001b[0;34m(self, magic_name, line, _stack_depth)\u001b[0m\n\u001b[1;32m   2315\u001b[0m                 \u001b[0mkwargs\u001b[0m\u001b[0;34m[\u001b[0m\u001b[0;34m'local_ns'\u001b[0m\u001b[0;34m]\u001b[0m \u001b[0;34m=\u001b[0m \u001b[0msys\u001b[0m\u001b[0;34m.\u001b[0m\u001b[0m_getframe\u001b[0m\u001b[0;34m(\u001b[0m\u001b[0mstack_depth\u001b[0m\u001b[0;34m)\u001b[0m\u001b[0;34m.\u001b[0m\u001b[0mf_locals\u001b[0m\u001b[0;34m\u001b[0m\u001b[0;34m\u001b[0m\u001b[0m\n\u001b[1;32m   2316\u001b[0m             \u001b[0;32mwith\u001b[0m \u001b[0mself\u001b[0m\u001b[0;34m.\u001b[0m\u001b[0mbuiltin_trap\u001b[0m\u001b[0;34m:\u001b[0m\u001b[0;34m\u001b[0m\u001b[0;34m\u001b[0m\u001b[0m\n\u001b[0;32m-> 2317\u001b[0;31m                 \u001b[0mresult\u001b[0m \u001b[0;34m=\u001b[0m \u001b[0mfn\u001b[0m\u001b[0;34m(\u001b[0m\u001b[0;34m*\u001b[0m\u001b[0margs\u001b[0m\u001b[0;34m,\u001b[0m \u001b[0;34m**\u001b[0m\u001b[0mkwargs\u001b[0m\u001b[0;34m)\u001b[0m\u001b[0;34m\u001b[0m\u001b[0;34m\u001b[0m\u001b[0m\n\u001b[0m\u001b[1;32m   2318\u001b[0m             \u001b[0;32mreturn\u001b[0m \u001b[0mresult\u001b[0m\u001b[0;34m\u001b[0m\u001b[0;34m\u001b[0m\u001b[0m\n\u001b[1;32m   2319\u001b[0m \u001b[0;34m\u001b[0m\u001b[0m\n",
      "\u001b[0;32m</home/larsgebraad/.local/lib/python3.7/site-packages/decorator.py:decorator-gen-60>\u001b[0m in \u001b[0;36mtimeit\u001b[0;34m(self, line, cell, local_ns)\u001b[0m\n",
      "\u001b[0;32m~/.local/lib/python3.7/site-packages/IPython/core/magic.py\u001b[0m in \u001b[0;36m<lambda>\u001b[0;34m(f, *a, **k)\u001b[0m\n\u001b[1;32m    185\u001b[0m     \u001b[0;31m# but it's overkill for just that one bit of state.\u001b[0m\u001b[0;34m\u001b[0m\u001b[0;34m\u001b[0m\u001b[0;34m\u001b[0m\u001b[0m\n\u001b[1;32m    186\u001b[0m     \u001b[0;32mdef\u001b[0m \u001b[0mmagic_deco\u001b[0m\u001b[0;34m(\u001b[0m\u001b[0marg\u001b[0m\u001b[0;34m)\u001b[0m\u001b[0;34m:\u001b[0m\u001b[0;34m\u001b[0m\u001b[0;34m\u001b[0m\u001b[0m\n\u001b[0;32m--> 187\u001b[0;31m         \u001b[0mcall\u001b[0m \u001b[0;34m=\u001b[0m \u001b[0;32mlambda\u001b[0m \u001b[0mf\u001b[0m\u001b[0;34m,\u001b[0m \u001b[0;34m*\u001b[0m\u001b[0ma\u001b[0m\u001b[0;34m,\u001b[0m \u001b[0;34m**\u001b[0m\u001b[0mk\u001b[0m\u001b[0;34m:\u001b[0m \u001b[0mf\u001b[0m\u001b[0;34m(\u001b[0m\u001b[0;34m*\u001b[0m\u001b[0ma\u001b[0m\u001b[0;34m,\u001b[0m \u001b[0;34m**\u001b[0m\u001b[0mk\u001b[0m\u001b[0;34m)\u001b[0m\u001b[0;34m\u001b[0m\u001b[0;34m\u001b[0m\u001b[0m\n\u001b[0m\u001b[1;32m    188\u001b[0m \u001b[0;34m\u001b[0m\u001b[0m\n\u001b[1;32m    189\u001b[0m         \u001b[0;32mif\u001b[0m \u001b[0mcallable\u001b[0m\u001b[0;34m(\u001b[0m\u001b[0marg\u001b[0m\u001b[0;34m)\u001b[0m\u001b[0;34m:\u001b[0m\u001b[0;34m\u001b[0m\u001b[0;34m\u001b[0m\u001b[0m\n",
      "\u001b[0;32m~/.local/lib/python3.7/site-packages/IPython/core/magics/execution.py\u001b[0m in \u001b[0;36mtimeit\u001b[0;34m(self, line, cell, local_ns)\u001b[0m\n\u001b[1;32m   1162\u001b[0m                     \u001b[0;32mbreak\u001b[0m\u001b[0;34m\u001b[0m\u001b[0;34m\u001b[0m\u001b[0m\n\u001b[1;32m   1163\u001b[0m \u001b[0;34m\u001b[0m\u001b[0m\n\u001b[0;32m-> 1164\u001b[0;31m         \u001b[0mall_runs\u001b[0m \u001b[0;34m=\u001b[0m \u001b[0mtimer\u001b[0m\u001b[0;34m.\u001b[0m\u001b[0mrepeat\u001b[0m\u001b[0;34m(\u001b[0m\u001b[0mrepeat\u001b[0m\u001b[0;34m,\u001b[0m \u001b[0mnumber\u001b[0m\u001b[0;34m)\u001b[0m\u001b[0;34m\u001b[0m\u001b[0;34m\u001b[0m\u001b[0m\n\u001b[0m\u001b[1;32m   1165\u001b[0m         \u001b[0mbest\u001b[0m \u001b[0;34m=\u001b[0m \u001b[0mmin\u001b[0m\u001b[0;34m(\u001b[0m\u001b[0mall_runs\u001b[0m\u001b[0;34m)\u001b[0m \u001b[0;34m/\u001b[0m \u001b[0mnumber\u001b[0m\u001b[0;34m\u001b[0m\u001b[0;34m\u001b[0m\u001b[0m\n\u001b[1;32m   1166\u001b[0m         \u001b[0mworst\u001b[0m \u001b[0;34m=\u001b[0m \u001b[0mmax\u001b[0m\u001b[0;34m(\u001b[0m\u001b[0mall_runs\u001b[0m\u001b[0;34m)\u001b[0m \u001b[0;34m/\u001b[0m \u001b[0mnumber\u001b[0m\u001b[0;34m\u001b[0m\u001b[0;34m\u001b[0m\u001b[0m\n",
      "\u001b[0;32m~/Applications/miniconda3/envs/hmc-tomography/lib/python3.7/timeit.py\u001b[0m in \u001b[0;36mrepeat\u001b[0;34m(self, repeat, number)\u001b[0m\n\u001b[1;32m    202\u001b[0m         \u001b[0mr\u001b[0m \u001b[0;34m=\u001b[0m \u001b[0;34m[\u001b[0m\u001b[0;34m]\u001b[0m\u001b[0;34m\u001b[0m\u001b[0;34m\u001b[0m\u001b[0m\n\u001b[1;32m    203\u001b[0m         \u001b[0;32mfor\u001b[0m \u001b[0mi\u001b[0m \u001b[0;32min\u001b[0m \u001b[0mrange\u001b[0m\u001b[0;34m(\u001b[0m\u001b[0mrepeat\u001b[0m\u001b[0;34m)\u001b[0m\u001b[0;34m:\u001b[0m\u001b[0;34m\u001b[0m\u001b[0;34m\u001b[0m\u001b[0m\n\u001b[0;32m--> 204\u001b[0;31m             \u001b[0mt\u001b[0m \u001b[0;34m=\u001b[0m \u001b[0mself\u001b[0m\u001b[0;34m.\u001b[0m\u001b[0mtimeit\u001b[0m\u001b[0;34m(\u001b[0m\u001b[0mnumber\u001b[0m\u001b[0;34m)\u001b[0m\u001b[0;34m\u001b[0m\u001b[0;34m\u001b[0m\u001b[0m\n\u001b[0m\u001b[1;32m    205\u001b[0m             \u001b[0mr\u001b[0m\u001b[0;34m.\u001b[0m\u001b[0mappend\u001b[0m\u001b[0;34m(\u001b[0m\u001b[0mt\u001b[0m\u001b[0;34m)\u001b[0m\u001b[0;34m\u001b[0m\u001b[0;34m\u001b[0m\u001b[0m\n\u001b[1;32m    206\u001b[0m         \u001b[0;32mreturn\u001b[0m \u001b[0mr\u001b[0m\u001b[0;34m\u001b[0m\u001b[0;34m\u001b[0m\u001b[0m\n",
      "\u001b[0;32m~/.local/lib/python3.7/site-packages/IPython/core/magics/execution.py\u001b[0m in \u001b[0;36mtimeit\u001b[0;34m(self, number)\u001b[0m\n\u001b[1;32m    167\u001b[0m         \u001b[0mgc\u001b[0m\u001b[0;34m.\u001b[0m\u001b[0mdisable\u001b[0m\u001b[0;34m(\u001b[0m\u001b[0;34m)\u001b[0m\u001b[0;34m\u001b[0m\u001b[0;34m\u001b[0m\u001b[0m\n\u001b[1;32m    168\u001b[0m         \u001b[0;32mtry\u001b[0m\u001b[0;34m:\u001b[0m\u001b[0;34m\u001b[0m\u001b[0;34m\u001b[0m\u001b[0m\n\u001b[0;32m--> 169\u001b[0;31m             \u001b[0mtiming\u001b[0m \u001b[0;34m=\u001b[0m \u001b[0mself\u001b[0m\u001b[0;34m.\u001b[0m\u001b[0minner\u001b[0m\u001b[0;34m(\u001b[0m\u001b[0mit\u001b[0m\u001b[0;34m,\u001b[0m \u001b[0mself\u001b[0m\u001b[0;34m.\u001b[0m\u001b[0mtimer\u001b[0m\u001b[0;34m)\u001b[0m\u001b[0;34m\u001b[0m\u001b[0;34m\u001b[0m\u001b[0m\n\u001b[0m\u001b[1;32m    170\u001b[0m         \u001b[0;32mfinally\u001b[0m\u001b[0;34m:\u001b[0m\u001b[0;34m\u001b[0m\u001b[0;34m\u001b[0m\u001b[0m\n\u001b[1;32m    171\u001b[0m             \u001b[0;32mif\u001b[0m \u001b[0mgcold\u001b[0m\u001b[0;34m:\u001b[0m\u001b[0;34m\u001b[0m\u001b[0;34m\u001b[0m\u001b[0m\n",
      "\u001b[0;32m<magic-timeit>\u001b[0m in \u001b[0;36minner\u001b[0;34m(_it, _timer)\u001b[0m\n",
      "\u001b[0;31mKeyboardInterrupt\u001b[0m: "
     ]
    }
   ],
   "source": [
    "covariance = (\n",
    "    1.2 * numpy.eye(d0.size)\n",
    "    - 0.6 * numpy.eye(d0.size, k=-1)\n",
    "    - 0.6 * numpy.eye(d0.size, k=1)\n",
    ")\n",
    "inv_covariance = numpy.linalg.inv(covariance)\n",
    "cholesky_lower_inv_covariance = numpy.linalg.cholesky(inv_covariance).T\n",
    "cholesky_upper_inv_covariance = cholesky_lower_inv_covariance.T\n",
    "\n",
    "# pre-multiply\n",
    "GtG = Gt @ inv_covariance @ G\n",
    "Gtd0 = Gt @ inv_covariance @ d0\n",
    "\n",
    "# partOp = cholesky_upper_inv_covariance @ G\n",
    "# partVec = - Gt @ inv_covariance @ d0\n",
    "\n",
    "print((GtG @ m - Gtd0).T @ m)\n",
    "print((G.T @ inv_covariance @ (G @ m - d0) ).T @ m)\n",
    "print((Gt @ inv_covariance @ ((G @ m - d0))).T @ m)\n",
    "# print((partOp.T @ partOp @ m + partVec).T @ m)\n",
    "\n",
    "GtinvCov = Gt @ inv_covariance @ d0\n",
    "preffac = cholesky_upper_inv_covariance @G\n",
    "preffacT = preffac.T\n",
    "\n",
    "%timeit -n 50 GtG @ m - Gtd0 # Winner for tall\n",
    "%timeit -n 50 G.T @ inv_covariance @ (G @ m - d0)\n",
    "%timeit -n 50 Gt @ inv_covariance @ ((G @ m - d0)) # Winner for wide\n",
    "# %timeit -n 50 partOp.T @ partOp @ m + partVec"
   ]
  },
  {
   "cell_type": "code",
   "execution_count": 52,
   "metadata": {},
   "outputs": [
    {
     "name": "stdout",
     "output_type": "stream",
     "text": [
      "[[171655.5852016]]\n",
      "[[171655.5852016]]\n",
      "[[171655.5852016]]\n",
      "55.8 µs ± 3.95 µs per loop (mean ± std. dev. of 7 runs, 50 loops each)\n",
      "74.5 µs ± 1.15 µs per loop (mean ± std. dev. of 7 runs, 50 loops each)\n",
      "73.6 µs ± 1.82 µs per loop (mean ± std. dev. of 7 runs, 50 loops each)\n"
     ]
    }
   ],
   "source": [
    "G_gpu = cupy.array(G)\n",
    "d0_gpu = cupy.array(d0)\n",
    "\n",
    "Gt_gpu = G_gpu.T\n",
    "d0t_gpu = d0_gpu.T\n",
    "\n",
    "covariance_gpu = 1.2 * cupy.ones_like(d0_gpu)\n",
    "sigma_gpu = covariance_gpu ** 0.5\n",
    "\n",
    "# pre-multiply\n",
    "GtG_gpu = Gt_gpu @ numpy.diag(1.0 / covariance_gpu[:, 0]) @ G_gpu\n",
    "Gtd0_gpu = Gt_gpu @ numpy.diag(1.0 / covariance_gpu[:, 0]) @ d0_gpu\n",
    "\n",
    "print((GtG_gpu @ cupy.asarray(m) - Gtd0_gpu).T @ cupy.asarray(m))\n",
    "print(\n",
    "    (G_gpu.T @ ((G_gpu @ cupy.array(m) - d0_gpu) / covariance_gpu)).T @ cupy.asarray(m)\n",
    ")\n",
    "print(\n",
    "    (Gt_gpu @ ((G_gpu @ cupy.array(m) - d0_gpu) / covariance_gpu)).T @ cupy.asarray(m)\n",
    ")\n",
    "\n",
    "%timeit -n 50 (GtG_gpu @ cupy.asarray(m) - Gtd0_gpu) # Winner for tall\n",
    "%timeit -n 50 (G_gpu.T @ ((G_gpu @ cupy.array(m) - d0_gpu) / covariance_gpu))\n",
    "%timeit -n 50 (Gt_gpu @ ((G_gpu @ cupy.array(m) - d0_gpu) / covariance_gpu)) # Winner for wide"
   ]
  },
  {
   "cell_type": "code",
   "execution_count": 53,
   "metadata": {},
   "outputs": [
    {
     "name": "stdout",
     "output_type": "stream",
     "text": [
      "[[5633777.08538338]]\n",
      "[[5633777.08538341]]\n",
      "[[5633777.08538341]]\n",
      "51.9 µs ± 3.07 µs per loop (mean ± std. dev. of 7 runs, 50 loops each)\n",
      "The slowest run took 255.85 times longer than the fastest. This could mean that an intermediate result is being cached.\n",
      "4.76 ms ± 7.44 ms per loop (mean ± std. dev. of 7 runs, 50 loops each)\n",
      "18 ms ± 306 µs per loop (mean ± std. dev. of 7 runs, 50 loops each)\n"
     ]
    }
   ],
   "source": [
    "covariance_gpu = (\n",
    "    1.2 * cupy.eye(d0_gpu.size)\n",
    "    - 0.6 * cupy.eye(d0_gpu.size, k=-1)\n",
    "    - 0.6 * cupy.eye(d0_gpu.size, k=1)\n",
    ")\n",
    "inv_covariance_gpu = cupy.linalg.inv(covariance_gpu)\n",
    "cholesky_upper_inv_covariance_gpu = cupy.linalg.cholesky(inv_covariance_gpu).T\n",
    "\n",
    "# pre-multiply\n",
    "GtG_gpu = Gt_gpu @ inv_covariance_gpu @ G_gpu\n",
    "Gtd0_gpu = Gt_gpu @ inv_covariance_gpu @ d0_gpu\n",
    "\n",
    "print((GtG_gpu @ cupy.asarray(m) - Gtd0_gpu).T @ cupy.asarray(m))\n",
    "print((G_gpu.T @ inv_covariance_gpu @ (G_gpu @ cupy.asarray(m) - d0_gpu) ).T @ cupy.asarray(m))\n",
    "print((Gt_gpu @ inv_covariance_gpu @ ((G_gpu @ cupy.asarray(m) - d0_gpu))).T @ cupy.asarray(m))\n",
    "\n",
    "%timeit -n 50 (GtG_gpu @ cupy.asarray(m) - Gtd0_gpu) # Winner for all\n",
    "%timeit -n 50 (G_gpu.T @ inv_covariance_gpu @ (G_gpu @ cupy.asarray(m) - d0_gpu) )\n",
    "%timeit -n 50 (Gt_gpu @ inv_covariance_gpu @ ((G_gpu @ cupy.asarray(m) - d0_gpu)))"
   ]
  },
  {
   "cell_type": "markdown",
   "metadata": {},
   "source": [
    "# Conclusions:\n",
    "High dimensional, go CuPy if possible."
   ]
  },
  {
   "cell_type": "code",
   "execution_count": null,
   "metadata": {},
   "outputs": [],
   "source": []
  }
 ],
 "metadata": {
  "kernelspec": {
   "display_name": "Python 3",
   "language": "python",
   "name": "python3"
  },
  "language_info": {
   "codemirror_mode": {
    "name": "ipython",
    "version": 3
   },
   "file_extension": ".py",
   "mimetype": "text/x-python",
   "name": "python",
   "nbconvert_exporter": "python",
   "pygments_lexer": "ipython3",
   "version": "3.7.3"
  }
 },
 "nbformat": 4,
 "nbformat_minor": 4
}
